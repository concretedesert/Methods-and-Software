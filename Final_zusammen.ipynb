{
 "cells": [
  {
   "cell_type": "code",
   "execution_count": 2,
   "metadata": {},
   "outputs": [],
   "source": [
    "#Johanna und Markus, Betreuer, Seminar, Martrikelnummer, WiSe 2020, Uni Augsburg"
   ]
  },
  {
   "cell_type": "markdown",
   "metadata": {},
   "source": [
    "*DISCLAIMER: Dieses Tutorial verwendet das Codefolding Add-On aus Nbextensions. Sollten Sie dieses nicht installiert haben, empfehlen wir das jetzt zu tun, um das Tutorial bestmöglich nutzen zu können.*\n",
    "\n",
    "*Unter dem folgenden Link finden Sie eine ausführliche Anleitung\n",
    "https://jupyter-contrib-nbextensions.readthedocs.io/en/latest/install.html.\n",
    "Achten Sie darauf das Notebook nach den Notebook Server nach der Installation neu zu starten.* \n",
    "\n",
    "*Bitte aktivieren Sie die Zeilennummerierung in Ihrem Notebook, indem Sie unter dem Reiter View, \"Toogle Line Numbers\" auswählen.*"
   ]
  },
  {
   "cell_type": "markdown",
   "metadata": {},
   "source": [
    "# Tourenplanung für Ride-Sharing-Dienstleister"
   ]
  },
  {
   "cell_type": "markdown",
   "metadata": {},
   "source": [
    "Ride Sharing Erklären, Uber Pool"
   ]
  },
  {
   "cell_type": "markdown",
   "metadata": {},
   "source": [
    "Ein spezielles Tourenplanungsproblem, dass sich mit der Planung von Touren für Ride-Sharing-Dienstleister befasst ist das Dial-a-ride Problem (DARP). Dieses unterscheidet sich von anderen Tourenplanungsproblem zunächst darin, dass sowohl Pickups als auch Dropoffs geplant werden. Außerdem entsteht sich durch das spezielle Förderungsgut \"Kunde\" eine paarweise Verbindung zwischen Pickups und Dropoffs. Im Gegensatz zu einem homogenen Gut kann ein Drop-off nicht von einem beliebigen Pick-up bedient werden [1]. Zusätzlich ergeben sich durch die Beförderung von Kunden, weitere zu berücksichtigende Kriterien, wie z.B. die im Fahrzeug verbrachte Zeit [2]."
   ]
  },
  {
   "cell_type": "markdown",
   "metadata": {},
   "source": []
  },
  {
   "cell_type": "code",
   "execution_count": null,
   "metadata": {},
   "outputs": [],
   "source": []
  }
 ],
 "metadata": {
  "kernelspec": {
   "display_name": "Python 3",
   "language": "python",
   "name": "python3"
  },
  "language_info": {
   "codemirror_mode": {
    "name": "ipython",
    "version": 3
   },
   "file_extension": ".py",
   "mimetype": "text/x-python",
   "name": "python",
   "nbconvert_exporter": "python",
   "pygments_lexer": "ipython3",
   "version": "3.7.1"
  }
 },
 "nbformat": 4,
 "nbformat_minor": 4
}
