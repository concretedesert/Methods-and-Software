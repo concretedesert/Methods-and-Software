{
 "cells": [
  {
   "cell_type": "code",
   "execution_count": 1,
   "metadata": {},
   "outputs": [],
   "source": [
    "import sys\n",
    "from copy import deepcopy\n",
    "\n",
    "def euclidean(loc1, loc2):\n",
    "    return ((loc1[0] - loc2[0])**2 + (loc1[1] - loc2[1])**2)**0.5"
   ]
  },
  {
   "cell_type": "markdown",
   "metadata": {},
   "source": [
    "# Einführungstext"
   ]
  },
  {
   "cell_type": "markdown",
   "metadata": {},
   "source": [
    "$L$:  locations ($l \\in L$)\n",
    "\n",
    "- *loc:* Koordinaten der Location\n",
    "- *request:* Zugehöriges Request zur Location\n",
    "\n",
    "$o_r$: origins ($o_r \\in L_o \\subset L$)\n",
    "\n",
    "- erbt von Location\n",
    "\n",
    "$d_r$: destinations ($d_r \\in L_d \\subset L$)\n",
    "\n",
    "- erbt von Location"
   ]
  },
  {
   "cell_type": "code",
   "execution_count": 2,
   "metadata": {
    "code_folding": [
     0,
     2,
     7,
     15
    ]
   },
   "outputs": [],
   "source": [
    "class Location:\n",
    "\n",
    "    def __init__(self, loc, req):\n",
    "        self.loc = loc\n",
    "        self.request = req\n",
    "\n",
    "\n",
    "class Origin(Location):\n",
    "    is_origin = True\n",
    "    is_destination = False\n",
    "\n",
    "    def __init__(self, loc, req):\n",
    "        super().__init__(loc, req)\n",
    "\n",
    "\n",
    "class Destination(Location):\n",
    "    is_origin = False\n",
    "    is_destination = True\n",
    "\n",
    "    def __init__(self, loc, req):\n",
    "        super().__init__(loc, req)\n"
   ]
  },
  {
   "cell_type": "markdown",
   "metadata": {},
   "source": [
    "$R$:  requests ($r \\in R$)\n",
    "\n",
    "- receiving time $t_r$\n",
    "- origin $o_r \\in L$\n",
    "- destination $d_r \\in L$\n",
    "- time window $[b_r, e_r]$\n",
    "    - $b_r = t_r$\n",
    "    - $e_r = t_r + c_{o_r,d_r} + \\alpha$"
   ]
  },
  {
   "cell_type": "code",
   "execution_count": 3,
   "metadata": {
    "code_folding": [
     0
    ]
   },
   "outputs": [],
   "source": [
    "class Request:\n",
    "    _count = 0\n",
    "\n",
    "    def __init__(self, orig_loc, dest_loc, req_t, alpha=15):\n",
    "        self.id = Request._count\n",
    "        Request._count += 1\n",
    "        self.req_t = req_t\n",
    "        self.alpha = alpha\n",
    "        self.end_t = req_t + euclidean(orig_loc, dest_loc) + alpha\n",
    "        self.origin = Origin(orig_loc, self)\n",
    "        self.destination = Destination(dest_loc, self)"
   ]
  },
  {
   "cell_type": "markdown",
   "metadata": {},
   "source": [
    "$V$:  vehicles ($v \\in V$)"
   ]
  },
  {
   "cell_type": "code",
   "execution_count": 4,
   "metadata": {
    "code_folding": []
   },
   "outputs": [],
   "source": [
    "class Tour:\n",
    "\n",
    "    def __init__(self, depot_loc=(0, 0), M=sys.maxsize):\n",
    "        depot = Request(depot_loc, depot_loc, 0, M)\n",
    "        self.tour = [depot.origin, depot.destination]\n",
    "        self.early = [0, 0]\n",
    "        self.late = [M, M]\n",
    "        self.length = 2\n",
    "        self.total_cost = 0\n",
    "        self.M = M\n",
    "\n",
    "    # Beim Updaten bestimmen\n",
    "    def get_total_cost(self):\n",
    "        pass\n",
    "\n",
    "    # Überprüfe, ob Pick-Up / Drop-Off (place) des Kunden an Position i in der Tour zulässig ist\n",
    "    def feasible(self, place, i):\n",
    "        # Für Destination muss gelten: Pick-Up vor Drop-Off, Drop-Off in der gleichten Tour wie Pick-Up\n",
    "        if place.is_destination and place.request.origin not in self.tour[:i]:\n",
    "            return False\n",
    "        # Origin nicht nach Destination einfügbar\n",
    "        if place.is_origin and place.request.destination in self.tour[:i]:\n",
    "            return False\n",
    "        # überprüfen der Zeitfenster: Early < Late\n",
    "        e, l = self.insertion_time_window(place, i)\n",
    "        return e <= l\n",
    "\n",
    "    # Einfügekosten, die entstehen, falls Location in Tour an Position i eingefügt wird\n",
    "    def insertion_cost(self, place, i):\n",
    "        return (euclidean(self.tour[i-1].loc, place.loc) + euclidean(place.loc, self.tour[i].loc)\n",
    "                - euclidean(self.tour[i-1].loc, self.tour[i].loc))\n",
    "\n",
    "    # berechne Zeitfenster\n",
    "    def insertion_time_window(self, place, i):\n",
    "        e = max(place.request.req_t, self.early[i-1] + euclidean(self.tour[i-1].loc, place.loc))\n",
    "        l = min(place.request.end_t, self.late[i] - euclidean(place.loc, self.tour[i].loc))\n",
    "        return e, l\n",
    "\n",
    "    def insert(self, place, i):\n",
    "        self.total_cost += self.insertion_cost(place, i)\n",
    "        self.tour.insert(i, place)\n",
    "        self.length += 1\n",
    "        self.update(i)\n",
    "\n",
    "    def update(self, i):\n",
    "        # Berechnung und Einfügen des Zeitfensters des neuen Ortes\n",
    "        e, l = self.insertion_time_window(self.tour[i], i)\n",
    "        self.early.insert(i, e)\n",
    "        self.late.insert(i, l)\n",
    "        # Update der Zeitfenster (late) der vorigen Orte\n",
    "        for k in range(i-1, -1, -1):\n",
    "            self.late[k] = min(self.late[k], self.late[k+1] - euclidean(self.tour[k].loc, self.tour[k+1].loc))\n",
    "        # Update der Zeitfenster (early) der nachfolgenden Orte\n",
    "        for k in range(i+1, self.length):\n",
    "            self.early[k] = max(self.early[k], self.early[k-1] + euclidean(self.tour[k-1].loc, self.tour[k].loc))\n"
   ]
  },
  {
   "cell_type": "markdown",
   "metadata": {},
   "source": [
    "### Insertion-Heuristik"
   ]
  },
  {
   "cell_type": "code",
   "execution_count": 5,
   "metadata": {},
   "outputs": [],
   "source": [
    "def parallel_insertion (tours, requests, M=sys.maxsize):\n",
    "    reject = []\n",
    "    # Kunden = copy.deepcopy(fiktivekunden)\n",
    "    \n",
    "    while requests:\n",
    "        pOpt = M \n",
    "        for j in range(len(requests)):\n",
    "            for k in range(len(tours)):\n",
    "                # spos: Position in Tour k, an der der Pickup des Kunden eingefügt wird\n",
    "                for spos in range(1, tours[k].length):\n",
    "                    if tours[k].feasible(requests[j].origin, spos):                          \n",
    "                        skosten = tours[k].insertion_cost(requests[j].origin, spos)\n",
    "                        \n",
    "                        # speichert die aktuell gültige Tour in einer temporären Variablen\n",
    "                        tour_temp = deepcopy(tours[k])        \n",
    "                        \n",
    "                        # füge den Pickup des Kunden vorübergehend in den Tourenplan ein und Update der Zeitfenster\n",
    "                        tour_temp.insert(requests[j].origin, spos)\n",
    "                        \n",
    "                        # Prüfe für alle Positionen im Tourenplan nach dem eingefügten Pickup ob es einen möglichen Drop-off gibt \n",
    "                        for epos in range(spos+1, len(tours)): \n",
    "                            if tour_temp.feasible(requests[j].destination, epos):  \n",
    "                                ekosten = tour_temp.insertion_cost(requests[j].destination, epos)\n",
    "                                if skosten + ekosten < pOpt:\n",
    "                                    reqOpt = requests[j] \n",
    "                                    tourOpt = tours[k] \n",
    "                                    sposOpt = spos\n",
    "                                    eposOpt = epos\n",
    "                                    pOpt = skosten + ekosten   \n",
    "      \n",
    "        if pOpt < M:   \n",
    "            #Setze denn \"optimalen\" Kunden, an der \"optimalen\" Posititon im \"optimalen\" Tourenplan ein\n",
    "            \n",
    "            # Setze den Pickup und Drop-Off des Kunden ein und aktualisiere Zeitfenster\n",
    "            tourOpt.insert(reqOpt.origin, sposOpt)\n",
    "            tourOpt.insert(reqOpt.destination, eposOpt)\n",
    "            \n",
    "            #Entferne den eigesetzten Kunden aus der Liste der noch ausstehenden Kunden\n",
    "            requests.remove(reqOpt)         \n",
    "        else:\n",
    "            # Wenn kein Kunde den Feasibility mehr besteht, speichere die abgewiesenen Kunden und leere die Liste\n",
    "            reject = deepcopy(requests)\n",
    "            requests = []\n",
    "   \n",
    "    return tours, reject"
   ]
  },
  {
   "cell_type": "code",
   "execution_count": 6,
   "metadata": {},
   "outputs": [],
   "source": [
    "kunde1 = Request((1,8), (5,9), 0, 10)\n",
    "kunde2 = Request((6,5), (3,4), 0, 10)\n",
    "kunde3 = Request((3,2), (8,5), 0, 10)\n",
    "\n",
    "tour1 = Tour((1, 1))\n",
    "tour2 = Tour((6, 6))"
   ]
  },
  {
   "cell_type": "code",
   "execution_count": 7,
   "metadata": {},
   "outputs": [
    {
     "data": {
      "text/plain": [
       "([<__main__.Tour at 0x1b619726438>, <__main__.Tour at 0x1b6197264e0>],\n",
       " [<__main__.Request at 0x1b6197262e8>,\n",
       "  <__main__.Request at 0x1b619726e10>,\n",
       "  <__main__.Request at 0x1b619726a90>])"
      ]
     },
     "execution_count": 7,
     "metadata": {},
     "output_type": "execute_result"
    }
   ],
   "source": [
    "parallel_insertion([tour1, tour2], [kunde1, kunde2, kunde3])"
   ]
  }
 ],
 "metadata": {
  "kernelspec": {
   "display_name": "Python 3",
   "language": "python",
   "name": "python3"
  },
  "language_info": {
   "codemirror_mode": {
    "name": "ipython",
    "version": 3
   },
   "file_extension": ".py",
   "mimetype": "text/x-python",
   "name": "python",
   "nbconvert_exporter": "python",
   "pygments_lexer": "ipython3",
   "version": "3.7.1"
  }
 },
 "nbformat": 4,
 "nbformat_minor": 4
}
