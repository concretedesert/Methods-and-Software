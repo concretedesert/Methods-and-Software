{
 "cells": [
  {
   "cell_type": "code",
   "execution_count": 1,
   "metadata": {},
   "outputs": [],
   "source": [
    "import sys\n",
    "from copy import deepcopy\n",
    "\n",
    "def distance(loc1, loc2):\n",
    "    return ((loc1[0] - loc2[0])**2 + (loc1[1] - loc2[1])**2)**0.5"
   ]
  },
  {
   "cell_type": "code",
   "execution_count": 2,
   "metadata": {},
   "outputs": [],
   "source": [
    "class RideSharing:\n",
    "\n",
    "    requests = []\n",
    "    tours = []\n",
    "\n",
    "    def add_request(self, pickup_loc, dropoff_loc, request_time, max_waiting_duration):\n",
    "        self.requests.append(Request(pickup_loc, dropoff_loc, request_time, max_waiting_duration))\n",
    "\n",
    "    def remove_request(self, request):\n",
    "        if request in self.requests:\n",
    "            self.requests.remove(request)\n",
    "\n",
    "    def add_tour(self, depot_loc, latest_return=sys.maxsize):\n",
    "        self.tours.append(Tour(depot_loc, latest_return))\n",
    "\n",
    "    def remove_tour(self, tour):\n",
    "        if tour in self.tours:\n",
    "            self.tours.remove(tour)\n",
    "\n",
    "    def solve(self):\n",
    "        parallel_insertion(self.tours, self.requests)\n",
    "\n",
    "    def __init__(self):\n",
    "        pass"
   ]
  },
  {
   "cell_type": "markdown",
   "metadata": {},
   "source": [
    "$L$:  locations ($l \\in L$)\n",
    "\n",
    "- *loc:* Koordinaten der Location\n",
    "- *request:* Zugehöriges Request zur Location\n",
    "\n",
    "$o_r$: Pick-Ups ($o_r \\in L_o \\subset L$)\n",
    "\n",
    "- erbt von Location\n",
    "\n",
    "$d_r$: Drop-Offs ($d_r \\in L_d \\subset L$)\n",
    "\n",
    "- erbt von Location"
   ]
  },
  {
   "cell_type": "code",
   "execution_count": 3,
   "metadata": {},
   "outputs": [],
   "source": [
    "class Location:\n",
    "\n",
    "    def __init__(self, loc, request):\n",
    "        self.loc = loc\n",
    "        self.request = request\n",
    "\n",
    "\n",
    "class PickUp(Location):\n",
    "    is_pickup = True\n",
    "    is_dropoff = False\n",
    "\n",
    "    def __init__(self, loc, request):\n",
    "        super().__init__(loc, request)\n",
    "\n",
    "\n",
    "class DropOff(Location):\n",
    "    is_pickup = False\n",
    "    is_dropoff = True\n",
    "\n",
    "    def __init__(self, loc, request):\n",
    "        super().__init__(loc, request)"
   ]
  },
  {
   "cell_type": "markdown",
   "metadata": {},
   "source": [
    "$R$:  requests ($r \\in R$)\n",
    "\n",
    "- receiving time $t_r$\n",
    "- origin $o_r \\in L$\n",
    "- destination $d_r \\in L$\n",
    "- time window $[b_r, e_r]$\n",
    "    - $b_r = t_r$\n",
    "    - $e_r = t_r + c_{o_r,d_r} + \\alpha$"
   ]
  },
  {
   "cell_type": "code",
   "execution_count": 4,
   "metadata": {},
   "outputs": [],
   "source": [
    "class Request:\n",
    "\n",
    "    count = 0\n",
    "\n",
    "    def __init__(self, pickup_loc, dropoff_loc, request_time, max_waiting_duration):\n",
    "        self.id = Request.count\n",
    "        Request.count += 1\n",
    "        self.request_time = request_time\n",
    "        self.max_waiting_duration = max_waiting_duration\n",
    "        self.latest_dropoff = request_time + distance(pickup_loc, dropoff_loc) + max_waiting_duration\n",
    "        self.pickup = PickUp(pickup_loc, self)\n",
    "        self.dropoff = DropOff(dropoff_loc, self)"
   ]
  },
  {
   "cell_type": "markdown",
   "metadata": {},
   "source": [
    "$V$:  vehicles ($v \\in V$)"
   ]
  },
  {
   "cell_type": "code",
   "execution_count": 5,
   "metadata": {},
   "outputs": [],
   "source": [
    "class Tour:\n",
    "\n",
    "    tour = []\n",
    "    early = []\n",
    "    late = []\n",
    "    length = 0\n",
    "    total_cost = 0\n",
    "\n",
    "    def __init__(self, depot_loc, latest_return=sys.maxsize):\n",
    "        depot = Request(depot_loc, depot_loc, 0, latest_return)\n",
    "        self.tour += [depot.pickup, depot.dropoff]\n",
    "        self.early += [0, 0]\n",
    "        self.late += [latest_return, latest_return]\n",
    "        self.length += 2\n",
    "\n",
    "    def get_total_cost(self):\n",
    "        return self.total_cost\n",
    "\n",
    "    def feasible(self, place, i):\n",
    "        if place.is_dropoff and place.request.pickup not in self.tour[:i]:\n",
    "            return False\n",
    "        if place.is_pickup and place.request.dropoff in self.tour[:i]:\n",
    "            return False\n",
    "        e, l = self.insertion_time_window(place, i)\n",
    "        return e <= l\n",
    "\n",
    "    def insertion_cost(self, place, i):\n",
    "        return (distance(self.tour[i-1].loc, place.loc) + distance(place.loc, self.tour[i].loc)\n",
    "                - distance(self.tour[i-1].loc, self.tour[i].loc))\n",
    "\n",
    "    def insertion_time_window(self, place, i):\n",
    "        e = max(place.request.request_time + distance(self.tour[i-1].loc, place.loc), self.early[i-1] + distance(self.tour[i-1].loc, place.loc))\n",
    "        l = min(place.request.latest_dropoff, self.late[i] - distance(place.loc, self.tour[i].loc))\n",
    "        return e, l\n",
    "\n",
    "    def insert(self, place, i):\n",
    "        self.total_cost += self.insertion_cost(place, i)\n",
    "        self.tour.insert(i, place)\n",
    "        self.length += 1\n",
    "        self.update(i)\n",
    "\n",
    "    def update(self, i):\n",
    "        e, l = self.insertion_time_window(self.tour[i], i)\n",
    "        self.early.insert(i, e)\n",
    "        self.late.insert(i, l)\n",
    "        # Update der Zeitfenster (late) der vorigen Orte\n",
    "        for k in range(i-1, -1, -1):\n",
    "            self.late[k] = min(self.late[k], self.late[k+1] - distance(self.tour[k].loc, self.tour[k+1].loc))\n",
    "        # Update der Zeitfenster (early) der nachfolgenden Orte\n",
    "        for k in range(i+1, self.length):\n",
    "            self.early[k] = max(self.early[k], self.early[k-1] + distance(self.tour[k-1].loc, self.tour[k].loc))\n",
    "\n",
    "    def printable(self):\n",
    "        result= []\n",
    "        for i in range(self.length):\n",
    "            if i == 0 or i == self.length-1:\n",
    "                typ = \"Depot\"\n",
    "            elif self.tour[i].is_pickup:\n",
    "                typ = \"Pick-Up\"\n",
    "            else:\n",
    "                typ = \"Drop_Off\"\n",
    "            result.append((self.tour[i].request.id, self.tour[i].loc, self.early[i], typ))\n",
    "        return result"
   ]
  },
  {
   "cell_type": "code",
   "execution_count": 6,
   "metadata": {},
   "outputs": [],
   "source": [
    "def parallel_insertion(tours, requests, M=sys.maxsize):\n",
    "    reject = []\n",
    "    # Kunden = copy.deepcopy(fiktivekunden)\n",
    "\n",
    "    while requests:\n",
    "        pOpt = M\n",
    "        for j in range(len(requests)):\n",
    "            for k in range(len(tours)):\n",
    "                # spos: Position in Tour k, an der der Pickup des Kunden eingefügt wird\n",
    "                for spos in range(1, tours[k].length):\n",
    "                    if tours[k].feasible(requests[j].pickup, spos):\n",
    "                        skosten = tours[k].insertion_cost(requests[j].pickup, spos)\n",
    "\n",
    "                        # speichert die aktuell gültige Tour in einer temporären Variablen\n",
    "                        tour_temp = deepcopy(tours[k])\n",
    "\n",
    "                        # füge den Pickup des Kunden vorübergehend in den Tourenplan ein und Update der Zeitfenster\n",
    "                        tour_temp.insert(requests[j].pickup, spos)\n",
    "\n",
    "                        # Prüfe für alle Positionen im Tourenplan nach dem eingefügten Pickup ob es einen möglichen Drop-off gibt\n",
    "                        for epos in range(spos + 1, tour_temp.length):\n",
    "                            if tour_temp.feasible(requests[j].dropoff, epos):\n",
    "                                ekosten = tour_temp.insertion_cost(requests[j].dropoff, epos)\n",
    "                                if skosten + ekosten < pOpt:\n",
    "                                    reqOpt = requests[j]\n",
    "                                    tourOpt = tours[k]\n",
    "                                    sposOpt = spos\n",
    "                                    eposOpt = epos\n",
    "                                    pOpt = skosten + ekosten\n",
    "\n",
    "        if pOpt < M:\n",
    "            # Setze den Pickup und Drop-Off des Kunden ein und aktualisiere Zeitfenster\n",
    "            tourOpt.insert(reqOpt.pickup, sposOpt)\n",
    "            tourOpt.insert(reqOpt.dropoff, eposOpt)\n",
    "\n",
    "            # Entferne den eigesetzten Kunden aus der Liste der noch ausstehenden Kunden\n",
    "            requests.remove(reqOpt)\n",
    "        else:\n",
    "            # Wenn kein Kunde den Feasibility mehr besteht, speichere die abgewiesenen Kunden und leere die Liste\n",
    "            reject = deepcopy(requests)\n",
    "            requests = []\n",
    "\n",
    "    return tours, reject"
   ]
  },
  {
   "cell_type": "code",
   "execution_count": 7,
   "metadata": {},
   "outputs": [
    {
     "data": {
      "text/plain": [
       "([<__main__.Tour at 0x288258b7da0>, <__main__.Tour at 0x288258b7d30>],\n",
       " [<__main__.Request at 0x288258c2b00>])"
      ]
     },
     "execution_count": 7,
     "metadata": {},
     "output_type": "execute_result"
    }
   ],
   "source": [
    "instance = RideSharing()\n",
    "instance.add_tour((1, 1))\n",
    "instance.add_tour((6, 6))\n",
    "instance.add_request((1, 8), (5, 9), 1, 10)\n",
    "instance.add_request((6, 5), (3, 4), 0, 10)\n",
    "instance.add_request((3, 2), (8, 5), 0, 10)\n",
    "instance.solve()"
   ]
  },
  {
   "cell_type": "code",
   "execution_count": 8,
   "metadata": {},
   "outputs": [
    {
     "data": {
      "text/plain": [
       "[<__main__.PickUp at 0x288258b7e48>,\n",
       " <__main__.PickUp at 0x288258bccf8>,\n",
       " <__main__.PickUp at 0x288258bc470>,\n",
       " <__main__.DropOff at 0x288258bcba8>,\n",
       " <__main__.DropOff at 0x288258bcfd0>,\n",
       " <__main__.DropOff at 0x288258bc198>,\n",
       " <__main__.PickUp at 0x288258bc160>,\n",
       " <__main__.DropOff at 0x288258bc0f0>]"
      ]
     },
     "execution_count": 8,
     "metadata": {},
     "output_type": "execute_result"
    }
   ],
   "source": [
    "RideSharing.tours[1].tour"
   ]
  },
  {
   "cell_type": "code",
   "execution_count": 9,
   "metadata": {},
   "outputs": [
    {
     "data": {
      "text/plain": [
       "[(0, (1, 1), 0, 'Depot'),\n",
       " (4, (3, 2), 2.23606797749979, 'Pick-Up'),\n",
       " (3, (6, 5), 6.478708664619075, 'Pick-Up'),\n",
       " (3, (3, 4), 9.640986324787454, 'Drop_Off'),\n",
       " (4, (8, 5), 14.740005838380238, 'Drop_Off'),\n",
       " (0, (1, 1), 22.802263586678787, 'Depot')]"
      ]
     },
     "execution_count": 9,
     "metadata": {},
     "output_type": "execute_result"
    }
   ],
   "source": [
    "RideSharing.tours[0].printable()"
   ]
  },
  {
   "cell_type": "code",
   "execution_count": 10,
   "metadata": {},
   "outputs": [
    {
     "data": {
      "text/plain": [
       "[(0, (1, 1), 0, 'Depot'), (4, (3, 2), 2.23606797749979, 'Depot')]"
      ]
     },
     "execution_count": 10,
     "metadata": {},
     "output_type": "execute_result"
    }
   ],
   "source": [
    "RideSharing.tours[1].printable()"
   ]
  },
  {
   "cell_type": "code",
   "execution_count": null,
   "metadata": {},
   "outputs": [],
   "source": []
  }
 ],
 "metadata": {
  "kernelspec": {
   "display_name": "Python 3",
   "language": "python",
   "name": "python3"
  },
  "language_info": {
   "codemirror_mode": {
    "name": "ipython",
    "version": 3
   },
   "file_extension": ".py",
   "mimetype": "text/x-python",
   "name": "python",
   "nbconvert_exporter": "python",
   "pygments_lexer": "ipython3",
   "version": "3.7.1"
  }
 },
 "nbformat": 4,
 "nbformat_minor": 4
}
