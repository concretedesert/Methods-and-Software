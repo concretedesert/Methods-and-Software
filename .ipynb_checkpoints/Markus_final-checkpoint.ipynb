{
 "cells": [
  {
   "cell_type": "code",
   "execution_count": 1,
   "metadata": {},
   "outputs": [],
   "source": [
    "import sys\n",
    "from copy import deepcopy\n",
    "\n",
    "def distance(loc1, loc2):\n",
    "    return ((loc1[0] - loc2[0])**2 + (loc1[1] - loc2[1])**2)**0.5"
   ]
  },
  {
   "cell_type": "code",
   "execution_count": 2,
   "metadata": {
    "code_folding": [
     0
    ]
   },
   "outputs": [],
   "source": [
    "class RideSharing:\n",
    "\n",
    "    requests = []\n",
    "    tours = []\n",
    "\n",
    "    def add_request(self, pickup_loc, dropoff_loc, request_time, max_waiting_duration):\n",
    "        self.requests.append(Request(pickup_loc, dropoff_loc, request_time, max_waiting_duration))\n",
    "\n",
    "    def remove_request(self, request):\n",
    "        if request in self.requests:\n",
    "            self.requests.remove(request)\n",
    "\n",
    "    def add_tour(self, depot_loc, latest_return=sys.maxsize):\n",
    "        self.tours.append(Tour(depot_loc, latest_return))\n",
    "\n",
    "    def remove_tour(self, tour):\n",
    "        if tour in self.tours:\n",
    "            self.tours.remove(tour)\n",
    "\n",
    "    def solve(self):\n",
    "        parallel_insertion(self.tours, self.requests)\n",
    "\n",
    "    def __init__(self):\n",
    "        pass"
   ]
  },
  {
   "cell_type": "code",
   "execution_count": 3,
   "metadata": {
    "code_folding": [
     0,
     7,
     15
    ]
   },
   "outputs": [],
   "source": [
    "class Location:\n",
    "\n",
    "    def __init__(self, loc, request):\n",
    "        self.loc = loc\n",
    "        self.request = request\n",
    "\n",
    "\n",
    "class PickUp(Location):\n",
    "    is_pickup = True\n",
    "    is_dropoff = False\n",
    "\n",
    "    def __init__(self, loc, request):\n",
    "        super().__init__(loc, request)\n",
    "\n",
    "\n",
    "class DropOff(Location):\n",
    "    is_pickup = False\n",
    "    is_dropoff = True\n",
    "\n",
    "    def __init__(self, loc, request):\n",
    "        super().__init__(loc, request)"
   ]
  },
  {
   "cell_type": "code",
   "execution_count": 4,
   "metadata": {
    "code_folding": [
     0
    ]
   },
   "outputs": [],
   "source": [
    "class Request:\n",
    "\n",
    "    count = 0\n",
    "\n",
    "    def __init__(self, pickup_loc, dropoff_loc, request_time, max_waiting_duration):\n",
    "        self.id = Request.count\n",
    "        Request.count += 1\n",
    "        self.request_time = request_time\n",
    "        self.max_waiting_duration = max_waiting_duration\n",
    "        self.latest_dropoff = request_time + distance(pickup_loc, dropoff_loc) + max_waiting_duration\n",
    "        self.pickup = PickUp(pickup_loc, self)\n",
    "        self.dropoff = DropOff(dropoff_loc, self)"
   ]
  },
  {
   "cell_type": "code",
   "execution_count": 5,
   "metadata": {
    "code_folding": [
     0
    ]
   },
   "outputs": [],
   "source": [
    "class Tour:\n",
    "\n",
    "    def __init__(self, depot_loc=(0, 0), M=sys.maxsize):\n",
    "        depot = Request(depot_loc, depot_loc, 0, M)\n",
    "        self.tour = [depot.pickup, depot.dropoff]\n",
    "        self.early = [0, 0]\n",
    "        self.late = [M, M]\n",
    "        self.length = 2\n",
    "        self.total_cost = 0\n",
    "\n",
    "    def feasible(self, place, i):\n",
    "        if place.is_dropoff and place.request.pickup not in self.tour[:i]:\n",
    "            return False\n",
    "        if place.is_pickup and place.request.dropoff in self.tour[:i]:\n",
    "            return False\n",
    "        e, l = self.insertion_time_window(place, i)\n",
    "        return e <= l\n",
    "\n",
    "    def insertion_cost(self, place, i):\n",
    "        return (distance(self.tour[i-1].loc, place.loc) + distance(place.loc, self.tour[i].loc)\n",
    "                - distance(self.tour[i-1].loc, self.tour[i].loc))\n",
    "\n",
    "    # berechne Zeitfenster\n",
    "    def insertion_time_window(self, place, i):\n",
    "        # e alt:\n",
    "        # e = max(place.request.req_t, self.early[i-1] + euclidean(self.tour[i-1].loc, place.loc))\n",
    "        # e neu:\n",
    "        e = max(place.request.request_time + distance(self.tour[i-1].loc, place.loc), \n",
    "                self.early[i-1] + distance(self.tour[i-1].loc, place.loc))\n",
    "        l = min(place.request.latest_dropoff, \n",
    "                self.late[i] - distance(place.loc, self.tour[i].loc))\n",
    "        return e, l\n",
    "\n",
    "    def insert(self, place, i):\n",
    "        self.total_cost += self.insertion_cost(place, i)\n",
    "        self.tour.insert(i, place)\n",
    "        self.length += 1\n",
    "        self.update(i)\n",
    "        \n",
    "    def remove(self, i):\n",
    "        place = self.tour[i]\n",
    "        del self.tour[i]\n",
    "        del self.early[i]\n",
    "        del self.late[i]\n",
    "        self.total_cost -= self.insertion_cost(place, i)\n",
    "        self.length -= 1\n",
    "        self.recalculate_time_windows()\n",
    "\n",
    "    def update(self, i):\n",
    "        # Berechnung und Einfügen des Zeitfensters des neuen Ortes\n",
    "        e, l = self.insertion_time_window(self.tour[i], i)\n",
    "        self.early.insert(i, e)\n",
    "        self.late.insert(i, l)\n",
    "        # Update der Zeitfenster (late) der vorigen Orte\n",
    "        for k in range(i-1, -1, -1):\n",
    "            self.late[k] = min(self.late[k], self.late[k+1] - distance(self.tour[k].loc, self.tour[k+1].loc))\n",
    "        # Update der Zeitfenster (early) der nachfolgenden Orte\n",
    "        for k in range(i+1, self.length):\n",
    "            self.early[k] = max(self.early[k], self.early[k-1] + distance(self.tour[k-1].loc, self.tour[k].loc))\n",
    "    \n",
    "    def recalculate_time_windows(self):\n",
    "        for k in range(1, self.length):\n",
    "            self.early[k] = max(self.tour[k].request.request_time + distance(self.tour[k-1].loc, self.tour[k].loc), \n",
    "                self.early[k-1] + distance(self.tour[k-1].loc, self.tour[k].loc))\n",
    "        for k in range(self.length-2, -1, -1):\n",
    "            self.late[k] = min(self.tour[k].request.latest_dropoff, \n",
    "                self.late[k+1] - distance(self.tour[k].loc, self.tour[k+1].loc))\n",
    "        \n",
    "    def printable(self):\n",
    "        result= []\n",
    "        for i in range(self.length):\n",
    "            if i == 0 or i == self.length-1:\n",
    "                typ = \"Depot\"\n",
    "            elif self.tour[i].is_pickup:\n",
    "                typ = \"Pick-Up\"\n",
    "            else:\n",
    "                typ = \"Drop_Off\"\n",
    "            result.append((self.tour[i].request.id, \n",
    "                           self.tour[i].loc, \n",
    "                           round(self.early[i], 2), \n",
    "                           round(self.late[i], 2), \n",
    "                           typ))\n",
    "        return result"
   ]
  },
  {
   "cell_type": "code",
   "execution_count": 3,
   "metadata": {},
   "outputs": [],
   "source": [
    "class DecisionEpoch:\n",
    "    \n",
    "    # Customers in a vehicle at new request time\n",
    "    in_vehicle = []\n",
    "    \n",
    "    # Customers waiting vor a vehicle at new request time\n",
    "    waiting = []\n",
    "    \n",
    "    def __init__(self, new_request, tours):\n",
    "        self.time = request.request_time\n",
    "        self.request = new_request\n",
    "        self.tours = deepcopy(tours)\n",
    "        for tour in tours:\n",
    "            v = len([e for e in self.early if e <= time])\n",
    "            for i in range(v):\n",
    "                if tour[i].is_pickup and tour[i].request.dropoff in tour[v:]:\n",
    "                    self.in_vehicle.append((tour, i))\n",
    "            for i in range(v, tour.length):\n",
    "                if tour[i].is_pickup and tour[i].request.dropoff in tour[i:]:\n",
    "                    self.waiting.append((tour, i))\n",
    "        self.accept, self.solution = LNS(self, \"accept\")\n",
    "        if self.accept:\n",
    "            pass\n",
    "        \n",
    "            \n",
    "        "
   ]
  },
  {
   "cell_type": "code",
   "execution_count": 6,
   "metadata": {
    "code_folding": [
     0
    ]
   },
   "outputs": [],
   "source": [
    "def parallel_insertion(tours, requests, M=sys.maxsize):\n",
    "    reject = []\n",
    "    # Kunden = copy.deepcopy(fiktivekunden)\n",
    "    \n",
    "    while requests:\n",
    "        pOpt = M \n",
    "        for j in range(len(requests)):\n",
    "            for k in range(len(tours)):\n",
    "                # spos: Position in Tour k, an der der Pickup des Kunden eingefügt wird\n",
    "                for spos in range(1, tours[k].length):\n",
    "                    if tours[k].feasible(requests[j].pickup, spos):\n",
    "                        skosten = tours[k].insertion_cost(requests[j].pickup, spos)\n",
    "                        \n",
    "                        # speichert die aktuell gültige Tour in einer temporären Variablen\n",
    "                        tour_temp = deepcopy(tours[k])\n",
    "                        \n",
    "                        # füge den Pickup des Kunden vorübergehend in den Tourenplan ein und Update der Zeitfenster\n",
    "                        tour_temp.insert(requests[j].pickup, spos)\n",
    "                        \n",
    "                        # Prüfe für alle Positionen im Tourenplan nach dem eingefügten Pickup ob es einen möglichen Drop-off gibt \n",
    "                        for epos in range(spos+1, tour_temp.length): \n",
    "                            if tour_temp.feasible(requests[j].dropoff, epos):  \n",
    "                                ekosten = tour_temp.insertion_cost(requests[j].dropoff, epos)\n",
    "                                if skosten + ekosten < pOpt:\n",
    "                                    reqOpt = requests[j] \n",
    "                                    tourOpt = tours[k] \n",
    "                                    sposOpt = spos\n",
    "                                    eposOpt = epos\n",
    "                                    pOpt = skosten + ekosten   \n",
    "      \n",
    "        if pOpt < M:   \n",
    "            # Setze den Pickup und Drop-Off des Kunden ein und aktualisiere Zeitfenster\n",
    "            tourOpt.insert(reqOpt.pickup, sposOpt)\n",
    "            tourOpt.insert(reqOpt.dropoff, eposOpt)\n",
    "            \n",
    "            #Entferne den eigesetzten Kunden aus der Liste der noch ausstehenden Kunden\n",
    "            requests.remove(reqOpt)         \n",
    "        else:\n",
    "            # Wenn kein Kunde den Feasibility mehr besteht, speichere die abgewiesenen Kunden und leere die Liste\n",
    "            reject = deepcopy(requests)\n",
    "            requests = []\n",
    "   \n",
    "    return tours, reject"
   ]
  },
  {
   "cell_type": "code",
   "execution_count": null,
   "metadata": {},
   "outputs": [],
   "source": [
    "def random_removal():\n",
    "    pass\n",
    "\n",
    "def LNS(epoch, type, beta, gamma1, gamma2):\n",
    "    current = deepcopy(epoch.tours)\n",
    "    best = deepcopy(epoch.tours)\n",
    "    unplanned = [epoch.request]\n",
    "    iteration = 0\n",
    "    all_inserted = False\n",
    "    while iteration < beta and not(type == \"accept\" and all_inserted):\n",
    "        iteration += 1\n",
    "        new = deepcopy(current)\n",
    "        \n",
    "        "
   ]
  },
  {
   "cell_type": "code",
   "execution_count": 7,
   "metadata": {},
   "outputs": [],
   "source": [
    "instance = RideSharing()\n",
    "instance.add_tour((1, 1))\n",
    "instance.add_tour((6, 6))\n",
    "instance.add_request((1, 8), (5, 9), 1, 10)\n",
    "instance.add_request((6, 5), (3, 4), 0, 10)\n",
    "instance.add_request((3, 2), (8, 5), 0, 10)\n",
    "instance.solve()"
   ]
  },
  {
   "cell_type": "code",
   "execution_count": 8,
   "metadata": {},
   "outputs": [
    {
     "name": "stdout",
     "output_type": "stream",
     "text": [
      "[(0, (1, 1), 0, 4.0, 'Depot'), (2, (1, 8), 8.0, 11.0, 'Pick-Up'), (2, (5, 9), 12.12, 15.12, 'Drop_Off'), (0, (1, 1), 21.07, 9223372036854775807, 'Depot')]\n",
      "4\n",
      "[(1, (6, 6), 0, 3.84, 'Depot'), (3, (6, 5), 1.0, 4.84, 'Pick-Up'), (3, (3, 4), 4.16, 8.0, 'Drop_Off'), (4, (3, 2), 6.16, 10.0, 'Pick-Up'), (4, (8, 5), 11.99, 15.83, 'Drop_Off'), (1, (6, 6), 14.23, 9223372036854775807, 'Depot')]\n",
      "6\n"
     ]
    }
   ],
   "source": [
    "for tour in instance.tours:\n",
    "    print(tour.printable())\n",
    "    print(tour.length)"
   ]
  }
 ],
 "metadata": {
  "kernelspec": {
   "display_name": "Python 3",
   "language": "python",
   "name": "python3"
  },
  "language_info": {
   "codemirror_mode": {
    "name": "ipython",
    "version": 3
   },
   "file_extension": ".py",
   "mimetype": "text/x-python",
   "name": "python",
   "nbconvert_exporter": "python",
   "pygments_lexer": "ipython3",
   "version": "3.7.1"
  }
 },
 "nbformat": 4,
 "nbformat_minor": 4
}
