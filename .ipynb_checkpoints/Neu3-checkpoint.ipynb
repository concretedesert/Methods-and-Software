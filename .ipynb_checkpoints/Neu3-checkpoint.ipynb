{
 "cells": [
  {
   "cell_type": "markdown",
   "metadata": {},
   "source": [
    "### Globale Funktionen"
   ]
  },
  {
   "cell_type": "code",
   "execution_count": 1,
   "metadata": {},
   "outputs": [],
   "source": [
    "def euclidean(loc1, loc2):\n",
    "    return ((loc1[0] - loc2[0])**2 + (loc1[1] - loc2[1])**2)**0.5"
   ]
  },
  {
   "cell_type": "markdown",
   "metadata": {},
   "source": [
    "### Klasse Request"
   ]
  },
  {
   "cell_type": "code",
   "execution_count": 2,
   "metadata": {},
   "outputs": [],
   "source": [
    "class Request:\n",
    "    \n",
    "    def __init__(self, orig_loc, dest_loc, req_t, alpha=10):\n",
    "        self.orig_loc = orig_loc\n",
    "        self.dest_loc = dest_loc\n",
    "        self.req_t = req_t\n",
    "        self.alpha = alpha # tolerierte Wartezeit\n",
    "        self.end_t = req_t + euclidean(orig_loc, dest_loc) + alpha\n",
    "    \n",
    "    orig_earl = -1\n",
    "    dest_earl = -1\n",
    "    orig_late = -1\n",
    "    dest_late = -1"
   ]
  },
  {
   "cell_type": "markdown",
   "metadata": {},
   "source": [
    "### Klasse Tour"
   ]
  },
  {
   "cell_type": "code",
   "execution_count": 3,
   "metadata": {},
   "outputs": [],
   "source": [
    "class Tour:\n",
    "    \n",
    "    def __init__(self, depot_loc=(0,0), M=10000):\n",
    "        depot = Request(depot_loc, depot_loc, 0, M)\n",
    "        depot.orig_earl = 0\n",
    "        depot.dest_earl = 0\n",
    "        depot.orig_late = M\n",
    "        depot.dest_late = M\n",
    "        self.tour = [(depot, \"orig\"), (depot, \"dest\")]\n",
    "        self.length = 2\n",
    "    \n",
    "    def get_coordinates(self, tup):\n",
    "        return tup[0].orig_loc if tup[1] == \"orig\" else tup[0].dest_loc\n",
    "    \n",
    "    def get_earliest(self, tup):\n",
    "        return tup[0].orig_earl if tup[1] == \"orig\" else tup[0].dest_earl\n",
    "    \n",
    "    def get_latest(self, tup):\n",
    "        return tup[0].orig_late if tup[1] == \"orig\" else tup[0].dest_late\n",
    "    \n",
    "    def get_insert_earl_late(self, ins, bef, aft):\n",
    "        earliest = max(ins[0].req_t, \n",
    "                       self.get_earliest(bef) + euclidean(self.get_coordinates(bef), self.get_coordinates(ins)))\n",
    "        latest = min(ins[0].end_t,\n",
    "                    self.get_latest(aft) - euclidean(self.get_coordinates(ins), self.get_coordinates(aft)))\n",
    "        return earliest, latest\n",
    "    \n",
    "    def update_earliest(self, tupA, tupB):\n",
    "        locA = self.get_coordinates(tupA)\n",
    "        locB = self.get_coordinates(tupB)\n",
    "        earlA = self.get_earliest(tupA)\n",
    "        earlB = self.get_earliest(tupB)\n",
    "        new = max(earlA, earlB + euclidean(locA, locB))\n",
    "        if tupA[1] == \"orig\":\n",
    "            tupA[0].orig_earl = new\n",
    "        else:\n",
    "            tupA[0].dest_earl = new\n",
    "        \n",
    "    def update_latest(self, tupA, tupB):\n",
    "        locA = self.get_coordinates(tupA)\n",
    "        locB = self.get_coordinates(tupB)\n",
    "        lateA = self.get_latest(tupA)\n",
    "        lateB = self.get_latest(tupB)\n",
    "        new = min(lateA, lateB - euclidean(locA, locB))\n",
    "        if tupA[1] == \"orig\":\n",
    "            tupA[0].orig_late = new\n",
    "        else:\n",
    "            tupA[0].dest_late = new\n",
    "    \n",
    "    def feasible(self, i, place):\n",
    "        # Origin muss in der gleichen Tour sein, Destination nach Origin\n",
    "        if place[1] == \"dest\":\n",
    "            if not (place[0], \"orig\") in self.tour[:i]:\n",
    "                return False\n",
    "        else: # Origin\n",
    "            if (place[0], \"dest\") in self.tour[:1]:\n",
    "                return False\n",
    "        earliest, latest = self.get_insert_earl_late(place, self.tour[i-1], self.tour[i])\n",
    "        if earliest > latest:\n",
    "            return False\n",
    "        return True\n",
    "    \n",
    "    def insertion_cost(self, i, place):\n",
    "        bef = self.get_coordinates(self.tour[i-1])\n",
    "        ins = self.get_coordinates(place)\n",
    "        aft = self.get_coordinates(self.tour[i])\n",
    "        return euclidean(bef, ins) + euclidean(ins, aft) - euclidean(bef, aft)\n",
    "    \n",
    "    def insert(self, i, place):\n",
    "        self.tour.insert(i, place)\n",
    "        self.length += 1\n",
    "        self.update(i)\n",
    "    \n",
    "    def update(self, i):\n",
    "        earliest, latest = self.get_insert_earl_late(self.tour[i], self.tour[i-1], self.tour[i+1])\n",
    "        if self.tour[i][1] == \"orig\":\n",
    "            self.tour[i][0].orig_earl = earliest\n",
    "            self.tour[i][0].orig_late = latest\n",
    "        else:\n",
    "            self.tour[i][0].dest_earl = earliest\n",
    "            self.tour[i][0].dest_late = latest\n",
    "        \n",
    "        for k in range(i, 0, -1):\n",
    "            self.update_latest(self.tour[k], self.tour[k-1])\n",
    "        \n",
    "        for k in range(i, self.length-1):\n",
    "            self.update_earliest(self.tour[k], self.tour[k+1])\n",
    "            \n",
    "    def printable(self):\n",
    "        d = {}\n",
    "        unique = list(dict.fromkeys([x[0] for x in self.tour]))\n",
    "        for i in range(len(unique)):\n",
    "            d[unique[i]] = i\n",
    "        \n",
    "        # \"Node: \", \"Orig/Dest\", \"Request time: \", \"Earliest: \", \"Until: \", \"Latest: \"\n",
    "        for place in self.tour:\n",
    "            print(str(d[place[0]]), place[1], str(place[0].req_t), str(round(self.get_earliest(place), 1)), \n",
    "                 str(round(place[0].end_t, 1)), str(round(self.get_latest(place), 1)), sep=\"\\t\")"
   ]
  },
  {
   "cell_type": "markdown",
   "metadata": {},
   "source": [
    "### Parallel Insertion"
   ]
  },
  {
   "cell_type": "code",
   "execution_count": 4,
   "metadata": {},
   "outputs": [],
   "source": [
    "def parallel_insertion(tours, places, M=10000):\n",
    "    while places:\n",
    "        cOpt = M\n",
    "        for place in places:\n",
    "            for tour in tours:\n",
    "                for i in range(1, tour.length):\n",
    "                    if tour.feasible(i, place) and tour.insertion_cost(i, place) < cOpt:\n",
    "                        tourOpt = tour\n",
    "                        iOpt = i\n",
    "                        placeOpt = place\n",
    "                        cOpt = tour.insertion_cost(i, place)\n",
    "        tourOpt.insert(iOpt, placeOpt)\n",
    "        places.remove(placeOpt)\n",
    "        tourOpt.update(iOpt)"
   ]
  },
  {
   "cell_type": "markdown",
   "metadata": {},
   "source": [
    "### Test"
   ]
  },
  {
   "cell_type": "code",
   "execution_count": 5,
   "metadata": {},
   "outputs": [],
   "source": [
    "tours = []\n",
    "\n",
    "for i in range(2):\n",
    "    tours.append(Tour())\n",
    "\n",
    "r1 = Request((1, 1), (4, 4), 0)\n",
    "r2 = Request((2, 2), (-2, -2), 0)\n",
    "r3 = Request((5, 5), (1, 1), 1)\n",
    "\n",
    "requests = [r1, r2, r3]\n",
    "requests = sum([[(x, \"orig\"), (x, \"dest\")] for x in requests], [])"
   ]
  },
  {
   "cell_type": "code",
   "execution_count": 6,
   "metadata": {},
   "outputs": [],
   "source": [
    "parallel_insertion(tours, requests)"
   ]
  },
  {
   "cell_type": "code",
   "execution_count": 7,
   "metadata": {},
   "outputs": [
    {
     "name": "stdout",
     "output_type": "stream",
     "text": [
      "0\torig\t0\t0\t10000.0\t10000\n",
      "1\torig\t1\t7.1\t16.7\t8.6\n",
      "2\torig\t0\t11.3\t15.7\t4.3\n",
      "3\torig\t0\t9.9\t14.2\t2.9\n",
      "2\tdest\t0\t5.7\t15.7\t-1.3\n",
      "1\tdest\t1\t9.9\t16.7\t-5.6\n",
      "3\tdest\t0\t14.1\t14.2\t-1.3\n",
      "0\tdest\t0\t0\t10000.0\t10000\n",
      "\n",
      "\n",
      "0\torig\t0\t0\t10000.0\t10000\n",
      "0\tdest\t0\t0\t10000.0\t10000\n",
      "\n",
      "\n"
     ]
    }
   ],
   "source": [
    "for tour in tours:\n",
    "    # \"Node: \", \"Orig/Dest\", \"Request time: \", \"Earliest: \", \"Until: \", \"Latest: \"\n",
    "    tour.printable()\n",
    "    print(\"\\n\")"
   ]
  }
 ],
 "metadata": {
  "kernelspec": {
   "display_name": "Python 3",
   "language": "python",
   "name": "python3"
  },
  "language_info": {
   "codemirror_mode": {
    "name": "ipython",
    "version": 3
   },
   "file_extension": ".py",
   "mimetype": "text/x-python",
   "name": "python",
   "nbconvert_exporter": "python",
   "pygments_lexer": "ipython3",
   "version": "3.7.1"
  }
 },
 "nbformat": 4,
 "nbformat_minor": 4
}
