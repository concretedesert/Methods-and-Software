{
 "cells": [
  {
   "cell_type": "markdown",
   "metadata": {},
   "source": [
    "# Beispielinstanz"
   ]
  },
  {
   "cell_type": "code",
   "execution_count": 1,
   "metadata": {},
   "outputs": [],
   "source": [
    "import numpy as np"
   ]
  },
  {
   "cell_type": "markdown",
   "metadata": {},
   "source": [
    "**Locations**\n",
    "- 7x7-Matrix, diskret\n",
    "- x-Koordinaten, y-Koordinaten\n",
    "- Annahme: Service time $p_{r}$  ist konstant für alle Locations"
   ]
  },
  {
   "cell_type": "code",
   "execution_count": 21,
   "metadata": {},
   "outputs": [],
   "source": [
    "size = 7"
   ]
  },
  {
   "cell_type": "code",
   "execution_count": 22,
   "metadata": {},
   "outputs": [],
   "source": [
    "locations = [(x, y) for x in range(size) for y in range(size)]"
   ]
  },
  {
   "cell_type": "code",
   "execution_count": 3,
   "metadata": {},
   "outputs": [],
   "source": [
    "service_time = 3 # 3 Minuten"
   ]
  },
  {
   "cell_type": "code",
   "execution_count": 27,
   "metadata": {},
   "outputs": [],
   "source": [
    "dist = []\n",
    "\n",
    "for a in locations:\n",
    "    for b in locations:\n",
    "        dist.append(((a[0] - b[0])**2 + ((a[1] - b[1])**2))**0.5)\n",
    "        \n",
    "dist = np.matrix(np.reshape(dist, (size**2, size**2)))"
   ]
  },
  {
   "cell_type": "code",
   "execution_count": 28,
   "metadata": {},
   "outputs": [
    {
     "data": {
      "text/plain": [
       "matrix([[0.        , 1.        , 2.        , ..., 7.21110255, 7.81024968,\n",
       "         8.48528137],\n",
       "        [1.        , 0.        , 1.        , ..., 6.70820393, 7.21110255,\n",
       "         7.81024968],\n",
       "        [2.        , 1.        , 0.        , ..., 6.32455532, 6.70820393,\n",
       "         7.21110255],\n",
       "        ...,\n",
       "        [7.21110255, 6.70820393, 6.32455532, ..., 0.        , 1.        ,\n",
       "         2.        ],\n",
       "        [7.81024968, 7.21110255, 6.70820393, ..., 1.        , 0.        ,\n",
       "         1.        ],\n",
       "        [8.48528137, 7.81024968, 7.21110255, ..., 2.        , 1.        ,\n",
       "         0.        ]])"
      ]
     },
     "execution_count": 28,
     "metadata": {},
     "output_type": "execute_result"
    }
   ],
   "source": [
    "dist"
   ]
  },
  {
   "cell_type": "markdown",
   "metadata": {},
   "source": [
    "**Requests**\n",
    "- Zeitfenster: [$t_{r}$: receiving time of request; $e_{r}$: $t_{r} + c_{or, dr} + \\alpha$ (receiving time of request + travel time + maximal arrival delay to be accepted by travelers\n",
    "- Annahme: $\\alpha$ = 5 min"
   ]
  },
  {
   "cell_type": "code",
   "execution_count": 32,
   "metadata": {},
   "outputs": [],
   "source": [
    "alpha = 5 # Minuten"
   ]
  },
  {
   "cell_type": "code",
   "execution_count": 35,
   "metadata": {},
   "outputs": [],
   "source": [
    "requests = [(24, 6, 0, 0 + dist[24, 6] + alpha),\n",
    "           (19, 6, 2, + dist[19, 6] + alpha),\n",
    "           ] # (origin, destination, receiving, end)"
   ]
  },
  {
   "cell_type": "code",
   "execution_count": 36,
   "metadata": {},
   "outputs": [
    {
     "data": {
      "text/plain": [
       "[(24, 6, 0, 9.242640687119284), (19, 6, 2, 7.23606797749979)]"
      ]
     },
     "execution_count": 36,
     "metadata": {},
     "output_type": "execute_result"
    }
   ],
   "source": [
    "requests"
   ]
  },
  {
   "cell_type": "code",
   "execution_count": null,
   "metadata": {},
   "outputs": [],
   "source": []
  }
 ],
 "metadata": {
  "kernelspec": {
   "display_name": "Python 3",
   "language": "python",
   "name": "python3"
  },
  "language_info": {
   "codemirror_mode": {
    "name": "ipython",
    "version": 3
   },
   "file_extension": ".py",
   "mimetype": "text/x-python",
   "name": "python",
   "nbconvert_exporter": "python",
   "pygments_lexer": "ipython3",
   "version": "3.7.1"
  }
 },
 "nbformat": 4,
 "nbformat_minor": 4
}
