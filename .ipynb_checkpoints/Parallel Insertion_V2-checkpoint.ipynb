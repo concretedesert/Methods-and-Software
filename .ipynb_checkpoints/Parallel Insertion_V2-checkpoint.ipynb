{
 "cells": [
  {
   "cell_type": "markdown",
   "metadata": {},
   "source": [
    "# Tourenplanung für Ride-Sharing-Dienstleister"
   ]
  },
  {
   "cell_type": "code",
   "execution_count": 1,
   "metadata": {},
   "outputs": [],
   "source": [
    "import numpy as np\n",
    "import copy\n",
    "from datetime import datetime\n",
    "import numpy as np\n",
    "import plotly.figure_factory as ff\n",
    "import pandas as pd\n",
    "import matplotlib.pyplot as plt"
   ]
  },
  {
   "cell_type": "markdown",
   "metadata": {},
   "source": [
    "### Klasse Request"
   ]
  },
  {
   "cell_type": "code",
   "execution_count": 2,
   "metadata": {},
   "outputs": [],
   "source": [
    "def euclidean(loc1, loc2):\n",
    "    return ((loc1[0] - loc2[0])**2 + (loc1[1] - loc2[1])**2)**0.5"
   ]
  },
  {
   "cell_type": "code",
   "execution_count": 3,
   "metadata": {},
   "outputs": [],
   "source": [
    "class Request:\n",
    "    \n",
    "    def __init__(self, orig_loc, dest_loc, req_t, alpha):\n",
    "        self.orig_loc = orig_loc\n",
    "        self.dest_loc = dest_loc\n",
    "        self.req_t = req_t\n",
    "        self.alpha = alpha # tolerierte Wartezeit\n",
    "        self.end_t = req_t + euclidean(orig_loc, dest_loc) + alpha\n",
    "    \n",
    "    orig_earl = -1\n",
    "    dest_earl = -1\n",
    "    orig_late = -1\n",
    "    dest_late = -1"
   ]
  },
  {
   "cell_type": "markdown",
   "metadata": {},
   "source": [
    "Es gibt 3 Kunden, die an den Koordinaten (1,8), (6,5) und (3,2) zu- und an den Koordinaten (5,9), (3,4) und (8,5) aussteigen. Der folgende Graf zeigt die Anfangskoordinaten (blau) und Endkoordinaten (rot)."
   ]
  },
  {
   "cell_type": "code",
   "execution_count": 4,
   "metadata": {},
   "outputs": [],
   "source": [
    "kunde1 = Request((1,8), (5,9), 0,10)\n",
    "kunde2 = Request((6,5), (3,4), 0,10)\n",
    "kunde3 = Request((3,2), (8,5), 0,10)\n",
    "depot = Request((0,0),(0,0), 0,0)\n",
    "depot.end_t = 100"
   ]
  },
  {
   "cell_type": "code",
   "execution_count": 5,
   "metadata": {},
   "outputs": [],
   "source": [
    "knoten = [kunde1, kunde2, kunde3]"
   ]
  },
  {
   "cell_type": "code",
   "execution_count": 6,
   "metadata": {},
   "outputs": [
    {
     "data": {
      "image/png": "[encoded data removed]",
      "text/plain": [
       "<Figure size 432x288 with 1 Axes>"
      ]
     },
     "metadata": {
      "needs_background": "light"
     },
     "output_type": "display_data"
    }
   ],
   "source": [
    "plt.plot([1,6,3],[8,5,2],'o', label =\"origin\")\n",
    "plt.plot([5,3,8],[9,4,5],'ro', label = \"destination\")\n",
    "plt.text((1+0.1),(8+0.1), 1)\n",
    "plt.text((5+0.1),(9+0.1), 1)\n",
    "plt.text((6+0.1),(5+0.1), 2)\n",
    "plt.text((3+0.1),(4+0.1), 2)\n",
    "plt.text((3+0.1),(2+0.1), 3)\n",
    "plt.text((8+0.1),(5+0.1), 3)\n",
    "plt.axis([0,10,0,10])\n",
    "plt.grid()\n",
    "plt.legend()\n",
    "plt.show()"
   ]
  },
  {
   "cell_type": "code",
   "execution_count": 7,
   "metadata": {},
   "outputs": [],
   "source": [
    "M = 1000 \n",
    "#I = [0,1,2,3,4,5] #5 Kunden+Depot = Knoten\n",
    "K = 2 #Anzahl Fahrzeuge = Anzahl Touren\n",
    "#seed = [] #Vordefinierte Seed Customer\n",
    "#startzeitfenster = [0, 20, 10, 50, 55, 70, 0]\n",
    "#endezeitfenster = [100, 40, 35, 70, 65, 75,100]\n",
    "#kundenOffen = copy.deepcopy(I)"
   ]
  },
  {
   "cell_type": "markdown",
   "metadata": {},
   "source": [
    "Die Kosten einer Fahrt werden definiert, als die zurückgelegt Distanz. Diese wird duch die euklidische Distanz berechnet und entspricht gleichzeitig der zurückgelegten Zeit."
   ]
  },
  {
   "cell_type": "code",
   "execution_count": 8,
   "metadata": {},
   "outputs": [],
   "source": [
    "def c (o, d):\n",
    "    d = ((o[0]-d[0])**2+(o[1]-d[1])**2)**0.5"
   ]
  },
  {
   "cell_type": "code",
   "execution_count": 9,
   "metadata": {},
   "outputs": [],
   "source": [
    "tourenplaninit = []\n",
    "tourenplaninit.append([depot,depot]) \n",
    "tourenplaninit.append([depot,depot])"
   ]
  },
  {
   "cell_type": "code",
   "execution_count": 10,
   "metadata": {},
   "outputs": [
    {
     "data": {
      "text/plain": [
       "[[<__main__.Request at 0x191de863978>, <__main__.Request at 0x191de863978>],\n",
       " [<__main__.Request at 0x191de863978>, <__main__.Request at 0x191de863978>]]"
      ]
     },
     "execution_count": 10,
     "metadata": {},
     "output_type": "execute_result"
    }
   ],
   "source": [
    "tourenplaninit"
   ]
  },
  {
   "cell_type": "code",
   "execution_count": 11,
   "metadata": {},
   "outputs": [],
   "source": [
    "tourenplan = copy.deepcopy(tourenplaninit)"
   ]
  },
  {
   "cell_type": "code",
   "execution_count": 16,
   "metadata": {},
   "outputs": [
    {
     "name": "stdout",
     "output_type": "stream",
     "text": [
      "0 10.0\n"
     ]
    }
   ],
   "source": [
    "kunde1_s = Request(kunde1.orig_loc, kunde1.orig_loc, 0,10)\n",
    "print(kunde1_s.req_t, kunde1_s.end_t)\n",
    "kunde1_e = Request(kunde1.dest_loc, kunde1.dest_loc, 0,10)\n",
    "kunde1_e.req_t = kunde1.end_t-10\n",
    "\n",
    "kunde1 = Request(origin_loc, dest_loc, req_t, alpha)\n",
    "\n",
    "kunde2_s = Request(kunde2.orig_loc, kunde2.orig_loc, 0,10)\n",
    "kunde2_s.end_t = kunde2.req_t+10\n",
    "kunde2_e = Request(kunde2.dest_loc, kunde2.dest_loc, 0,10)\n",
    "kunde2_e.req_t = kunde2.end_t-10\n",
    "\n",
    "kunde3_s = Request(kunde3.orig_loc, kunde3.orig_loc, 0,10)\n",
    "kunde3_s.end_t = kunde3.req_t+10\n",
    "kunde3_e = Request(kunde3.dest_loc, kunde3.dest_loc, 0,10)\n",
    "kunde3_e.req_t = kunde3.end_t-10\n",
    "\n",
    "fiktivekunden = [[kunde1_s, kunde1_e], [kunde2_s, kunde2_e], [kunde3_s, kunde3_e]]"
   ]
  },
  {
   "cell_type": "code",
   "execution_count": 13,
   "metadata": {},
   "outputs": [],
   "source": [
    "def parinsertion (tourenplan, fiktivekunden, M, K):\n",
    "    reject = []\n",
    "    Kunden = copy.deepcopy(fiktivekunden)\n",
    "    \n",
    "    #in jeder Iteration wird ein Kunde aus der Liste genommen, bis diese leer ist\n",
    "    while Kunden != []:\n",
    "        pOpt = M #initialisiert mit sehr hoher Zahl M\n",
    "        for j in range(len(Kunden)):\n",
    "        \n",
    "            #K ist die Anzahl der Touren/Fahrzeuge\n",
    "            for k in range(K): \n",
    "                  \n",
    "                #spos ist die Position in Tour k, an der der Pickup des Kunden eingefügt wird\n",
    "                for spos in range(1, len(tourenplan[k])): # iteriert von der zweiten bis zur vorletzen Position der Tour\n",
    "                    \n",
    "                    #Feasibility Check: Kann der Kunde an spos eingefügt werden ohne das ein Zeitfenster verpasst wird?    \n",
    "                    e = max(Kunden[j][0].req_t,tourenplan[k][spos-1].req_t+euclidean(tourenplan[k][spos-1].orig_loc,Kunden[j][0].orig_loc))\n",
    "                        \n",
    "                    l = min(Kunden[j][0].end_t,tourenplan[k][spos].end_t-euclidean(tourenplan[k][spos].dest_loc,Kunden[j][0].dest_loc))\n",
    "                    \n",
    "                    if e <= l:\n",
    "                          \n",
    "                        skosten = euclidean(tourenplan[k][spos-1].dest_loc,Kunden[j][0].orig_loc)+euclidean(Kunden[j][0].dest_loc,tourenplan[k][spos].orig_loc)-euclidean(tourenplan[k][spos-1].dest_loc,tourenplan[k][spos].orig_loc)\n",
    "                        \n",
    "                        # speichert den aktuell gültigen tourenplan in einer temporären Variablen\n",
    "                        tourenplantemp = copy.deepcopy(tourenplan)        \n",
    "                        \n",
    "                        # füge den Pickup des Kunden vorübergehend in den Tourenplan ein\n",
    "                        tourenplan[k].insert(spos,Kunden[j][0])\n",
    "                        \n",
    "                        #Update die Start und Endzeitfenster\n",
    "                        for i in range(spos, len(tourenplan[k])-1) :\n",
    "                            tourenplan[k][i].req_t = max(tourenplan[k][i].req_t, tourenplan[k][i-1].req_t+euclidean(tourenplan[k][i].orig_loc,tourenplan[k][i-1].dest_loc))\n",
    "                        for i in range(spos-1, 0, -1):\n",
    "                            tourenplan[k][i].end_t = min(tourenplan[k][i].end_t, tourenplan[k][i+1].end_t-euclidean(tourenplan[k][i].dest_loc,tourenplan[k][i+1].orig_loc))\n",
    "                        \n",
    "                        # Prüfe für alle Positionen im Tourenplan nach dem eingefügten Pickup ob es einen möglichen Drop-off gibt \n",
    "                        for epos in range(spos+1, len(tourenplan[k])): \n",
    "                    \n",
    "                    \n",
    "                            e = max(Kunden[j][1].req_t,tourenplan[k][epos-1].req_t+euclidean(tourenplan[k][epos-1].orig_loc,Kunden[j][1].orig_loc))\n",
    "                        \n",
    "                            l = min(Kunden[j][1].end_t,tourenplan[k][epos].end_t-euclidean(tourenplan[k][epos].dest_loc,Kunden[j][1].dest_loc))\n",
    "                    \n",
    "                                \n",
    "                            if e <= l:\n",
    "                                # wenn ein möglicher Drop-off punkt für den Kunden gefunden wird,\n",
    "                                # und die gesamt kosten für den kunden kleiner aller bisherigen gefunden Kosten sind: Lösung merken \n",
    "                                    ekosten = euclidean(tourenplan[k][epos-1].dest_loc,Kunden[j][1].orig_loc)+euclidean(Kunden[j][1].dest_loc,tourenplan[k][epos].orig_loc)-euclidean(tourenplan[k][epos-1].dest_loc,tourenplan[k][epos].orig_loc)\n",
    "  \n",
    "                                    if  skosten + ekosten < pOpt: #Verwende die \"optimale\" Lösung\n",
    "                                        jOpt = j\n",
    "                                        kOpt = k\n",
    "                                        sposOpt = spos\n",
    "                                        eposOpt = epos\n",
    "                                        pOpt = skosten + ekosten\n",
    "                            \n",
    "                        #tourenplan wird auf den vorher gültigen tourenplan zurückgesetzt\n",
    "                        tourenplan = copy.deepcopy(tourenplantemp)     \n",
    "      \n",
    "        if pOpt < M:   \n",
    "            #Setze denn \"optimalen\" Kunden, an der \"optimalen\" Posititon im \"optimalen\" Tourenplan ein\n",
    "            \n",
    "            #Setze den Pickup des Kunden ein\n",
    "            tourenplan[kOpt].insert(sposOpt,Kunden[jOpt][0]) \n",
    "            \n",
    "            #Update die Start- und Endzeitfenster\n",
    "            for i in range(sposOpt, len(tourenplan[kOpt])-1):\n",
    "                    tourenplan[kOpt][i].req_t = max(tourenplan[kOpt][i].req_t, tourenplan[kOpt][i-1].req_t+euclidean(tourenplan[kOpt][i].orig_loc,tourenplan[kOpt][i-1].dest_loc))\n",
    "            for i in range(sposOpt-1, 0, -1):\n",
    "                    tourenplan[kOpt][i].end_t = min(tourenplan[kOpt][i].end_t, tourenplan[kOpt][i+1].end_t-euclidean(tourenplan[kOpt][i].dest_loc,tourenplan[kOpt][i+1].orig_loc))\n",
    "            \n",
    "            #Setze den Drop-off des Kunden ein\n",
    "            tourenplan[kOpt].insert(eposOpt,Kunden[jOpt][1])\n",
    "            \n",
    "            #Update die Start- und Endzeitfenster \n",
    "            for i in range(eposOpt, len(tourenplan[kOpt])-1):\n",
    "                    tourenplan[kOpt][i].req_t = max(tourenplan[kOpt][i].req_t, tourenplan[kOpt][i-1].req_t+euclidean(tourenplan[kOpt][i].orig_loc,tourenplan[kOpt][i-1].dest_loc))\n",
    "            for i in range(eposOpt-1, 0, -1):\n",
    "                    tourenplan[kOpt][i].end_t = min(tourenplan[kOpt][i].end_t, tourenplan[kOpt][i+1].end_t-euclidean(tourenplan[kOpt][i].dest_loc,tourenplan[kOpt][i+1].orig_loc))\n",
    "            \n",
    "            #Entferne den eigesetzten Kunden aus der Liste der noch ausstehenden Kunden\n",
    "            Kunden.remove(Kunden[jOpt]) \n",
    "        \n",
    "        else:\n",
    "            # Wenn keine Kunde den Feasibility mehr besteht, speichere die abgewiesenen Kunden und leere die Liste\n",
    "            reject = copy.deepcopy(Kunden)\n",
    "            Kunden = []\n",
    "   \n",
    "    return tourenplan,reject"
   ]
  },
  {
   "cell_type": "code",
   "execution_count": 14,
   "metadata": {},
   "outputs": [
    {
     "name": "stdout",
     "output_type": "stream",
     "text": [
      "[[<__main__.Request object at 0x00000191E0A0CA58>, <__main__.Request object at 0x00000191E0A0CEB8>, <__main__.Request object at 0x00000191E0A0CE80>, <__main__.Request object at 0x00000191E0A0CA58>], [<__main__.Request object at 0x00000191E0A0CA58>, <__main__.Request object at 0x00000191E0A0CA58>]]\n",
      "[[<__main__.Request object at 0x00000191E0A0CD68>, <__main__.Request object at 0x00000191E0A0CF98>], [<__main__.Request object at 0x00000191E0A0CDA0>, <__main__.Request object at 0x00000191E0A0CB70>]]\n"
     ]
    }
   ],
   "source": [
    "opttourenplan, reject  = parinsertion(tourenplaninit, fiktivekunden, M, K)\n",
    "print(opttourenplan)\n",
    "print(reject)"
   ]
  },
  {
   "cell_type": "code",
   "execution_count": 15,
   "metadata": {},
   "outputs": [
    {
     "ename": "TypeError",
     "evalue": "'function' object is not subscriptable",
     "output_type": "error",
     "traceback": [
      "\u001b[1;31m---------------------------------------------------------------------------\u001b[0m",
      "\u001b[1;31mTypeError\u001b[0m                                 Traceback (most recent call last)",
      "\u001b[1;32m<ipython-input-15-d28c5acca6ee>\u001b[0m in \u001b[0;36m<module>\u001b[1;34m\u001b[0m\n\u001b[0;32m      3\u001b[0m     \u001b[0mtourkost\u001b[0m \u001b[1;33m=\u001b[0m \u001b[1;36m0\u001b[0m\u001b[1;33m\u001b[0m\u001b[1;33m\u001b[0m\u001b[0m\n\u001b[0;32m      4\u001b[0m     \u001b[1;32mfor\u001b[0m \u001b[0mpos\u001b[0m \u001b[1;32min\u001b[0m \u001b[0mrange\u001b[0m\u001b[1;33m(\u001b[0m\u001b[0mlen\u001b[0m\u001b[1;33m(\u001b[0m\u001b[0mopttourenplan\u001b[0m\u001b[1;33m[\u001b[0m\u001b[0mk\u001b[0m\u001b[1;33m]\u001b[0m\u001b[1;33m)\u001b[0m\u001b[1;33m-\u001b[0m\u001b[1;36m1\u001b[0m\u001b[1;33m)\u001b[0m\u001b[1;33m:\u001b[0m\u001b[1;33m\u001b[0m\u001b[1;33m\u001b[0m\u001b[0m\n\u001b[1;32m----> 5\u001b[1;33m         \u001b[0mtourkost\u001b[0m \u001b[1;33m=\u001b[0m \u001b[0mtourkost\u001b[0m \u001b[1;33m+\u001b[0m \u001b[0mc\u001b[0m\u001b[1;33m[\u001b[0m\u001b[0mopttourenplan\u001b[0m\u001b[1;33m[\u001b[0m\u001b[0mk\u001b[0m\u001b[1;33m]\u001b[0m\u001b[1;33m[\u001b[0m\u001b[0mpos\u001b[0m\u001b[1;33m]\u001b[0m\u001b[1;33m,\u001b[0m\u001b[0mopttourenplan\u001b[0m\u001b[1;33m[\u001b[0m\u001b[0mk\u001b[0m\u001b[1;33m]\u001b[0m\u001b[1;33m[\u001b[0m\u001b[0mpos\u001b[0m\u001b[1;33m+\u001b[0m\u001b[1;36m1\u001b[0m\u001b[1;33m]\u001b[0m\u001b[1;33m]\u001b[0m\u001b[1;33m\u001b[0m\u001b[1;33m\u001b[0m\u001b[0m\n\u001b[0m\u001b[0;32m      6\u001b[0m     \u001b[0mgesamtkost\u001b[0m \u001b[1;33m=\u001b[0m \u001b[0mgesamtkost\u001b[0m \u001b[1;33m+\u001b[0m \u001b[0mtourkost\u001b[0m\u001b[1;33m\u001b[0m\u001b[1;33m\u001b[0m\u001b[0m\n\u001b[0;32m      7\u001b[0m \u001b[0mprint\u001b[0m\u001b[1;33m(\u001b[0m\u001b[0mgesamtkost\u001b[0m\u001b[1;33m)\u001b[0m\u001b[1;33m\u001b[0m\u001b[1;33m\u001b[0m\u001b[0m\n",
      "\u001b[1;31mTypeError\u001b[0m: 'function' object is not subscriptable"
     ]
    }
   ],
   "source": [
    "gesamtkost = 0\n",
    "for k in range(K):\n",
    "    tourkost = 0\n",
    "    for pos in range(len(opttourenplan[k])-1):\n",
    "        tourkost = tourkost + c[opttourenplan[k][pos],opttourenplan[k][pos+1]]\n",
    "    gesamtkost = gesamtkost + tourkost \n",
    "print(gesamtkost) "
   ]
  },
  {
   "cell_type": "markdown",
   "metadata": {},
   "source": [
    "### GANTT CHART"
   ]
  },
  {
   "cell_type": "code",
   "execution_count": null,
   "metadata": {},
   "outputs": [],
   "source": [
    "def convert_to_datetime(x):\n",
    "      return datetime.fromtimestamp(31536000+x*24*3600).strftime(\"%Y-%m-%d\")"
   ]
  },
  {
   "cell_type": "code",
   "execution_count": null,
   "metadata": {},
   "outputs": [],
   "source": [
    "start = copy.deepcopy(startzeitfenster[:-1])\n",
    "ende = copy.deepcopy(endezeitfenster[:-1])"
   ]
  },
  {
   "cell_type": "code",
   "execution_count": null,
   "metadata": {},
   "outputs": [],
   "source": [
    "for j in range(len(start)):\n",
    "    start[j] = convert_to_datetime(start[j])\n",
    "    ende[j] = convert_to_datetime(ende[j])"
   ]
  },
  {
   "cell_type": "code",
   "execution_count": null,
   "metadata": {},
   "outputs": [],
   "source": [
    "num_tick_labels = np.linspace(start = 0, stop = 100, num = 21, dtype = int)\n",
    "date_ticks = [convert_to_datetime(x) for x in num_tick_labels]"
   ]
  },
  {
   "cell_type": "code",
   "execution_count": null,
   "metadata": {},
   "outputs": [],
   "source": [
    "df = pd.DataFrame({'Kunde': I, \"Start\": start , \"Finish\": ende})"
   ]
  },
  {
   "cell_type": "code",
   "execution_count": null,
   "metadata": {},
   "outputs": [],
   "source": [
    "fig = ff.create_gantt(df)\n",
    "fig.layout.xaxis.update({\n",
    "        'tickvals' : date_ticks,\n",
    "        'ticktext' : num_tick_labels\n",
    "        })\n",
    "fig.update_yaxes(autorange=\"reversed\")\n",
    "fig.show()"
   ]
  },
  {
   "cell_type": "code",
   "execution_count": null,
   "metadata": {},
   "outputs": [],
   "source": [
    "for i in range(posOpt, len(tourenplan[kOpt])):\n",
    "    print(i)"
   ]
  },
  {
   "cell_type": "code",
   "execution_count": null,
   "metadata": {},
   "outputs": [],
   "source": [
    "import plotly.express as px\n",
    "fig2 = px.timeline(df, x_start=\"Start\", x_end=\"Finish\", y=\"Kunde\")\n",
    "fig2.layout.xaxis.update({\n",
    "        'tickvals' : date_ticks,\n",
    "        'ticktext' : num_tick_labels\n",
    "        })\n",
    "fig2.update_yaxes(autorange=\"reversed\")\n",
    "fig2.show()"
   ]
  }
 ],
 "metadata": {
  "kernelspec": {
   "display_name": "Python 3",
   "language": "python",
   "name": "python3"
  },
  "language_info": {
   "codemirror_mode": {
    "name": "ipython",
    "version": 3
   },
   "file_extension": ".py",
   "mimetype": "text/x-python",
   "name": "python",
   "nbconvert_exporter": "python",
   "pygments_lexer": "ipython3",
   "version": "3.7.1"
  }
 },
 "nbformat": 4,
 "nbformat_minor": 4
}
