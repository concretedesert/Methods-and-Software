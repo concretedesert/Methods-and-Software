{
 "cells": [
  {
   "cell_type": "markdown",
   "metadata": {},
   "source": [
    "# Tourenplanung für Ride-Sharing-Dienstleister"
   ]
  },
  {
   "cell_type": "code",
   "execution_count": 1,
   "metadata": {},
   "outputs": [],
   "source": [
    "import numpy as np\n",
    "import copy\n",
    "from datetime import datetime\n",
    "import numpy as np\n",
    "import plotly.figure_factory as ff\n",
    "import pandas as pd\n",
    "import matplotlib.pyplot as plt"
   ]
  },
  {
   "cell_type": "markdown",
   "metadata": {},
   "source": [
    "### Klasse Request"
   ]
  },
  {
   "cell_type": "code",
   "execution_count": 2,
   "metadata": {},
   "outputs": [],
   "source": [
    "#Aufrunden?\n",
    "\n",
    "def euclidean(loc1, loc2):\n",
    "    return ((loc1[0] - loc2[0])**2 + (loc1[1] - loc2[1])**2)**0.5"
   ]
  },
  {
   "cell_type": "code",
   "execution_count": 3,
   "metadata": {},
   "outputs": [],
   "source": [
    "class Request:\n",
    "    \n",
    "    def __init__(self, orig_loc, dest_loc, req_t, alpha):\n",
    "        self.orig_loc = orig_loc\n",
    "        self.dest_loc = dest_loc\n",
    "        self.req_t = req_t\n",
    "        self.alpha = alpha # tolerierte Wartezeit\n",
    "        self.end_t = req_t + euclidean(orig_loc, dest_loc) + alpha\n",
    "    \n",
    "    orig_earl = -1\n",
    "    dest_earl = -1\n",
    "    orig_late = -1\n",
    "    dest_late = -1"
   ]
  },
  {
   "cell_type": "markdown",
   "metadata": {},
   "source": [
    "Es gibt 3 Kunden, die an den Koordinaten (1,8), (6,5) und (3,2) zu- und an den Koordinaten (5,9), (3,4) und (8,5) aussteigen. Der folgende Graf zeigt die Anfangskoordinaten (blau) und Endkoordinaten (rot)."
   ]
  },
  {
   "cell_type": "code",
   "execution_count": 28,
   "metadata": {},
   "outputs": [],
   "source": [
    "kunde1 = Request((1,8), (5,9), 0,10)\n",
    "kunde2 = Request((6,5), (3,4), 0,10)\n",
    "kunde3 = Request((3,2), (8,5), 0,10)\n",
    "depot = Request((0,0),(0,0), 0,0)"
   ]
  },
  {
   "cell_type": "code",
   "execution_count": 18,
   "metadata": {},
   "outputs": [],
   "source": [
    "kunden = [kunde1, kunde2, kunde3]"
   ]
  },
  {
   "cell_type": "code",
   "execution_count": 6,
   "metadata": {},
   "outputs": [
    {
     "data": {
      "image/png": "[encoded data removed]",
      "text/plain": [
       "<Figure size 432x288 with 1 Axes>"
      ]
     },
     "metadata": {
      "needs_background": "light"
     },
     "output_type": "display_data"
    }
   ],
   "source": [
    "plt.plot([1,6,3],[8,5,2],'o', label =\"origin\")\n",
    "plt.plot([5,3,8],[9,4,5],'ro', label = \"destination\")\n",
    "plt.text((1+0.1),(8+0.1), 1)\n",
    "plt.text((5+0.1),(9+0.1), 1)\n",
    "plt.text((6+0.1),(5+0.1), 2)\n",
    "plt.text((3+0.1),(4+0.1), 2)\n",
    "plt.text((3+0.1),(2+0.1), 3)\n",
    "plt.text((8+0.1),(5+0.1), 3)\n",
    "plt.axis([0,10,0,10])\n",
    "plt.grid()\n",
    "plt.legend()\n",
    "plt.show()"
   ]
  },
  {
   "cell_type": "code",
   "execution_count": 7,
   "metadata": {},
   "outputs": [],
   "source": [
    "M = 1000 \n",
    "#I = [0,1,2,3,4,5] #5 Kunden+Depot = Knoten\n",
    "K = 2 #Anzahl Fahrzeuge = Anzahl Touren\n",
    "#seed = [] #Vordefinierte Seed Customer\n",
    "#startzeitfenster = [0, 20, 10, 50, 55, 70, 0]\n",
    "#endezeitfenster = [100, 40, 35, 70, 65, 75,100]\n",
    "kundenOffen = copy.deepcopy(I)"
   ]
  },
  {
   "cell_type": "markdown",
   "metadata": {},
   "source": [
    "Die Kosten einer Fahrt werden definiert, als die zurückgelegt Distanz. Diese wird duch die euklidische Distanz berechnet und entspricht gleichzeitig der zurückgelegten Zeit."
   ]
  },
  {
   "cell_type": "code",
   "execution_count": 8,
   "metadata": {},
   "outputs": [],
   "source": [
    "def c (o, d):\n",
    "    d = ((o[0]-d[0])**2+(o[1]-d[1])**2)**0.5"
   ]
  },
  {
   "cell_type": "code",
   "execution_count": 29,
   "metadata": {},
   "outputs": [],
   "source": [
    "tourenplaninit = []\n",
    "tourenplaninit.append([depot,depot]) \n",
    "tourenplaninit.append([depot,depot])"
   ]
  },
  {
   "cell_type": "code",
   "execution_count": 30,
   "metadata": {},
   "outputs": [
    {
     "data": {
      "text/plain": [
       "[[<__main__.Request at 0x7f816598c910>, <__main__.Request at 0x7f816598c910>],\n",
       " [<__main__.Request at 0x7f816598c910>, <__main__.Request at 0x7f816598c910>]]"
      ]
     },
     "execution_count": 30,
     "metadata": {},
     "output_type": "execute_result"
    }
   ],
   "source": [
    "tourenplaninit"
   ]
  },
  {
   "cell_type": "code",
   "execution_count": 31,
   "metadata": {},
   "outputs": [],
   "source": [
    "tourenplan = copy.deepcopy(tourenplaninit)"
   ]
  },
  {
   "cell_type": "code",
   "execution_count": null,
   "metadata": {},
   "outputs": [],
   "source": [
    "for i in kunden:\n",
    "    print(i.orig_loc)"
   ]
  },
  {
   "cell_type": "code",
   "execution_count": 38,
   "metadata": {},
   "outputs": [
    {
     "data": {
      "text/plain": [
       "5.0"
      ]
     },
     "execution_count": 38,
     "metadata": {},
     "output_type": "execute_result"
    }
   ],
   "source": [
    "test = euclidean(tourenplan[0][1].dest_loc, kunde2.dest_loc)\n",
    "test"
   ]
  },
  {
   "cell_type": "code",
   "execution_count": 40,
   "metadata": {},
   "outputs": [],
   "source": [
    "def parinsertion (tourenplan, kunden, M, K):\n",
    "    reject = []\n",
    "    Kunden = copy.deepcopy(kunden)\n",
    "    \n",
    "    #in jeder Iteration wird ein Kunde aus der Liste genommen, bis diese leer ist\n",
    "    while Kunden != []:\n",
    "        pOpt = M #initialisiert mit sehr hoher Zahl M\n",
    "        for j in Kunden:\n",
    "            \n",
    "            #K ist die Anzahl der Touren/Fahrzeuge\n",
    "            for k in range(K): \n",
    "                  \n",
    "                #pos ist die Position in Tour k, an der der Kunde eingefügt wird\n",
    "                for spos in range(1, len(tourenplan[k])): # iteriert von der zweiten bis zur vorletzen Position der Tour\n",
    "                    \n",
    "                    #Feasibility Check: Kann der Kunde an pos eingefügt werden ohne das ein Zeitfenster verpasst wird?    \n",
    "                    e = max(j.req_t,tourenplan[k][spos-1].req_t+euclidean(tourenplan[k][spos-1].orig_loc,j.orig_loc))\n",
    "                    \n",
    "                    for epos in range(spos+1, len(tourenplan[k])):\n",
    "                        #stimmt nicht \n",
    "                        #l = min(j.end_t,tourenplan[k][epos].end_t-euclidean(tourenplan[k][epos].dest_loc,j.dest_loc))\n",
    "                        l = j.end_t\n",
    "                    \n",
    "                        if e <= l:\n",
    "                           #Kosten stimmen nicht\n",
    "                            #kosten = euclidean(tourenplan[k][pos-1].dest_loc,j.orig_loc)+euclidean(j.des_loc,tourenplan[k][pos].orig_loc)-euclidean(tourenplan[k][epos-1].,tourenplan[k][epos])#-1 ist letzte position \n",
    "                        \n",
    "                            if  kosten < pOpt: #Verwende die \"optimale\" Lösung\n",
    "                                jOpt = j\n",
    "                                kOpt = k\n",
    "                                sposOpt = spos\n",
    "                                eposOpt = epos\n",
    "                                pOpt = kosten\n",
    "        if pOpt < M:   \n",
    "            # unterschied jOpt start und ende\n",
    "            tourenplan[kOpt].insert(sposOpt,jOpt) #Setze denn \"optimalen\" Kunden, an der \"optimalen\" Posititon im \"optimalen\" Tourenplan ein\n",
    "            tourenplan[kOpt].insert(eposOpt,jOpt)\n",
    "            #Update die Start- und Endzeitfenster\n",
    "            for i in range(posOpt, len(tourenplan[kOpt])-1) :\n",
    "                szf[tourenplan[kOpt][i]] = max(szf[tourenplan[kOpt][i]], szf[tourenplan[kOpt][i-1]]+c[tourenplan[kOpt][i],i-1])\n",
    "            for i in range(posOpt-1, 0, -1):\n",
    "                ezf[tourenplan[kOpt][i]] = min(ezf[tourenplan[kOpt][i]], ezf[tourenplan[kOpt][i+1]]-c[tourenplan[kOpt][i],i+1])\n",
    "           \n",
    "            Kunden.remove(jOpt) #Entferne den eigesetzten Kunden aus der Liste der noch ausstehenden Kunden\n",
    "        \n",
    "        else:\n",
    "            reject = copy.deepcopy(Kunden)\n",
    "            Kunden = []\n",
    "   \n",
    "    return tourenplan,reject"
   ]
  },
  {
   "cell_type": "code",
   "execution_count": null,
   "metadata": {},
   "outputs": [],
   "source": [
    "opttourenplan, reject  = parinsertion(tourenplaninit, kunden, M, K)\n",
    "opttourenplan, reject"
   ]
  },
  {
   "cell_type": "code",
   "execution_count": null,
   "metadata": {},
   "outputs": [],
   "source": [
    "gesamtkost = 0\n",
    "for k in range(K):\n",
    "    tourkost = 0\n",
    "    for pos in range(len(opttourenplan[k])-1):\n",
    "        tourkost = tourkost + c[opttourenplan[k][pos],opttourenplan[k][pos+1]]\n",
    "    gesamtkost = gesamtkost + tourkost \n",
    "print(gesamtkost) "
   ]
  },
  {
   "cell_type": "markdown",
   "metadata": {},
   "source": [
    "GANTT CHART"
   ]
  },
  {
   "cell_type": "code",
   "execution_count": null,
   "metadata": {},
   "outputs": [],
   "source": [
    "def convert_to_datetime(x):\n",
    "      return datetime.fromtimestamp(31536000+x*24*3600).strftime(\"%Y-%m-%d\")"
   ]
  },
  {
   "cell_type": "code",
   "execution_count": null,
   "metadata": {},
   "outputs": [],
   "source": [
    "start = copy.deepcopy(startzeitfenster[:-1])\n",
    "ende = copy.deepcopy(endezeitfenster[:-1])"
   ]
  },
  {
   "cell_type": "code",
   "execution_count": null,
   "metadata": {},
   "outputs": [],
   "source": [
    "for j in range(len(start)):\n",
    "    start[j] = convert_to_datetime(start[j])\n",
    "    ende[j] = convert_to_datetime(ende[j])"
   ]
  },
  {
   "cell_type": "code",
   "execution_count": null,
   "metadata": {},
   "outputs": [],
   "source": [
    "num_tick_labels = np.linspace(start = 0, stop = 100, num = 21, dtype = int)\n",
    "date_ticks = [convert_to_datetime(x) for x in num_tick_labels]"
   ]
  },
  {
   "cell_type": "code",
   "execution_count": null,
   "metadata": {},
   "outputs": [],
   "source": [
    "df = pd.DataFrame({'Kunde': I, \"Start\": start , \"Finish\": ende})"
   ]
  },
  {
   "cell_type": "code",
   "execution_count": null,
   "metadata": {},
   "outputs": [],
   "source": [
    "fig = ff.create_gantt(df)\n",
    "fig.layout.xaxis.update({\n",
    "        'tickvals' : date_ticks,\n",
    "        'ticktext' : num_tick_labels\n",
    "        })\n",
    "fig.update_yaxes(autorange=\"reversed\")\n",
    "fig.show()"
   ]
  },
  {
   "cell_type": "code",
   "execution_count": null,
   "metadata": {},
   "outputs": [],
   "source": [
    "for i in range(posOpt, len(tourenplan[kOpt])):\n",
    "    print(i)"
   ]
  },
  {
   "cell_type": "code",
   "execution_count": null,
   "metadata": {},
   "outputs": [],
   "source": [
    "import plotly.express as px\n",
    "fig2 = px.timeline(df, x_start=\"Start\", x_end=\"Finish\", y=\"Kunde\")\n",
    "fig2.layout.xaxis.update({\n",
    "        'tickvals' : date_ticks,\n",
    "        'ticktext' : num_tick_labels\n",
    "        })\n",
    "fig2.update_yaxes(autorange=\"reversed\")\n",
    "fig2.show()"
   ]
  },
  {
   "cell_type": "code",
   "execution_count": null,
   "metadata": {},
   "outputs": [],
   "source": []
  },
  {
   "cell_type": "code",
   "execution_count": null,
   "metadata": {},
   "outputs": [],
   "source": []
  }
 ],
 "metadata": {
  "kernelspec": {
   "display_name": "Python 3",
   "language": "python",
   "name": "python3"
  },
  "language_info": {
   "codemirror_mode": {
    "name": "ipython",
    "version": 3
   },
   "file_extension": ".py",
   "mimetype": "text/x-python",
   "name": "python",
   "nbconvert_exporter": "python",
   "pygments_lexer": "ipython3",
   "version": "3.7.6"
  }
 },
 "nbformat": 4,
 "nbformat_minor": 4
}
