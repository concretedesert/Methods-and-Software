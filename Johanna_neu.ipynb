{
 "cells": [
  {
   "cell_type": "code",
   "execution_count": 1,
   "metadata": {},
   "outputs": [],
   "source": [
    "#Johanna und Markus, Betreuer, Seminar, Martrikelnummer, WiSe 2020, Uni Augsburg"
   ]
  },
  {
   "cell_type": "markdown",
   "metadata": {
    "slideshow": {
     "slide_type": "-"
    }
   },
   "source": [
    "*DISCLAIMER: Dieses Tutorial verwendet das Codefolding Add-On aus Nbextensions. Sollten Sie dieses nicht installiert haben, empfehlen wir das jetzt zu tun, um das Tutorial bestmöglich nutzen zu können.*\n",
    "\n",
    "*Unter dem folgenden Link finden Sie eine ausführliche Anleitung\n",
    "https://jupyter-contrib-nbextensions.readthedocs.io/en/latest/install.html.\n",
    "Achten Sie darauf das Notebook nach den Notebook Server nach der Installation neu zu starten.* \n",
    "\n",
    "*Bitte aktivieren Sie die Zeilennummerierung in Ihrem Notebook, indem Sie unter dem Reiter View, \"Toogle Line Numbers\" auswählen.*"
   ]
  },
  {
   "cell_type": "markdown",
   "metadata": {},
   "source": [
    "# Tourenplanung für Ride-Sharing-Dienstleister"
   ]
  },
  {
   "cell_type": "code",
   "execution_count": 2,
   "metadata": {},
   "outputs": [],
   "source": [
    "# Ride Sharing Erklären, Uber Pool"
   ]
  },
  {
   "cell_type": "markdown",
   "metadata": {},
   "source": [
    "Ein spezielles Tourenplanungsproblem, dass sich mit der Planung von Touren für Ride-Sharing-Dienstleister befasst ist das Dial-a-ride Problem (DARP). Dieses unterscheidet sich von anderen Tourenplanungsproblem zunächst darin, dass sowohl Pickups als auch Dropoffs geplant werden. Außerdem entsteht sich durch das spezielle Förderungsgut \"Kunde\" eine paarweise Verbindung zwischen Pickups und Dropoffs. Im Gegensatz zu einem homogenen Gut kann ein Drop-off nicht von einem beliebigen Pick-up bedient werden [1]. Zusätzlich ergeben sich durch die Beförderung von Kunden, weitere zu berücksichtigende Kriterien, wie z.B. die im Fahrzeug verbrachte Zeit [2]."
   ]
  },
  {
   "cell_type": "markdown",
   "metadata": {},
   "source": [
    "Eine Standarddefinition des Problems kommt von Cordeau und Laporte [2]:"
   ]
  },
  {
   "cell_type": "markdown",
   "metadata": {},
   "source": [
    "<center>\"In the dial-a-ride problem (DARP), $n$ users specify transportation requests between given origins and destinations. Users may provide a time window on their desired departure or arrival time, or on both. Transportation is supplied by a fleet of $m$ vehicles based at a common depot. The aim is to design a set of least cost vehicle routes capable of accommodating all requests, under a set of constraints.\" [2, p.1]</center>"
   ]
  },
  {
   "cell_type": "markdown",
   "metadata": {},
   "source": [
    "Im Weiteren beschäftigen wir uns mit einer vereinfachten Version des dynamischen DARPs (DDARP), wie es von Haferkamp und Ehmke [3] vorgestellt wird. Da die zukünftigen Kundenanfragen nicht bekannt sind müssen beim Eintreffen jeder einzelnen Anfrage zwei Planungsentscheidung getroffen werden:\n",
    "  1. Wird der Kunde akzeptiert? \n",
    "  2. Und wenn ja, wie sieht eine gute neue Routenplanung aus? #umformulieren\n",
    "    \n",
    "Mit einer effizienteren Tourenplanung kann die Akzeptanzrate erhöht werden, die wiederrum in der Regel zu höheren Gewinnen führt. Um das zu erreichen, schlagen Haferkamp und Ehmke vor, Prognosen für zukünftige Kundenanfragen zu erstellen und diese mit in die Planungsentscheidungen einzubeziehen. #schöner"
   ]
  },
  {
   "cell_type": "markdown",
   "metadata": {},
   "source": [
    "Es werden vier Ausprägungen von Antizipation betrachtet:\n",
    "1. None Anticipatory/ Myopisch: Zukünftige Kunden werden nicht beachtet und jeder Kunde der in den Tourenplan eingefügt werden kann wird akzeptiert.\n",
    "2. Anticipatory Acceptance\n",
    "3. Anticpatory Routing\n",
    "4. Fully Anticipatory"
   ]
  },
  {
   "cell_type": "markdown",
   "metadata": {},
   "source": [
    "In Teil 1 beginnen wir mit der detailierten Problemdefinition. Die wir anhand eines Beispiels veranschaulichen. In Teil 2 folgt die Einführung der zwei wesentlichen Methoden, die Large Neighbourhood search (LNS) und die Parallel Insertion Heuristic. Damit kann unser Beispielproblem gelöst werden. Anschließend folgt in Teil 3 ein Ausblick über weitere Anwendungen des DDARPs."
   ]
  },
  {
   "cell_type": "markdown",
   "metadata": {},
   "source": [
    "## Teil 1: Ride-Sharing Problem"
   ]
  },
  {
   "cell_type": "markdown",
   "metadata": {},
   "source": [
    "Zunächst importieren wir die benötigten Libraries."
   ]
  },
  {
   "cell_type": "code",
   "execution_count": 3,
   "metadata": {},
   "outputs": [],
   "source": [
    "import sys\n",
    "from copy import deepcopy\n",
    "import ipywidgets as widgets\n",
    "import matplotlib.pyplot as plt\n",
    "from datetime import datetime\n",
    "import numpy as np\n",
    "import plotly.express as px\n",
    "import pandas as pd\n",
    "from IPython.display import display"
   ]
  },
  {
   "cell_type": "code",
   "execution_count": 4,
   "metadata": {
    "code_folding": [
     0
    ]
   },
   "outputs": [],
   "source": [
    "def distance(loc1, loc2):\n",
    "    return ((loc1[0] - loc2[0])**2 + (loc1[1] - loc2[1])**2)**0.5"
   ]
  },
  {
   "cell_type": "code",
   "execution_count": 5,
   "metadata": {
    "code_folding": [
     0
    ]
   },
   "outputs": [],
   "source": [
    "class RideSharing:\n",
    "\n",
    "    requests = []\n",
    "    tours = []\n",
    "\n",
    "    def add_request(self, pickup_loc, dropoff_loc, request_time, max_waiting_duration):\n",
    "        self.requests.append(Request(pickup_loc, dropoff_loc, request_time, max_waiting_duration))\n",
    "\n",
    "    def remove_request(self, request):\n",
    "        if request in self.requests:\n",
    "            self.requests.remove(request)\n",
    "\n",
    "    def add_tour(self, depot_loc, latest_return=sys.maxsize):\n",
    "        self.tours.append(Tour(depot_loc, latest_return))\n",
    "\n",
    "    def remove_tour(self, tour):\n",
    "        if tour in self.tours:\n",
    "            self.tours.remove(tour)\n",
    "\n",
    "    def solve(self):\n",
    "        parallel_insertion(self.tours, self.requests)\n",
    "\n",
    "    def __init__(self):\n",
    "        pass"
   ]
  },
  {
   "cell_type": "code",
   "execution_count": 6,
   "metadata": {
    "code_folding": [
     0,
     7,
     15
    ]
   },
   "outputs": [],
   "source": [
    "class Location:\n",
    "\n",
    "    def __init__(self, loc, request):\n",
    "        self.loc = loc\n",
    "        self.request = request\n",
    "\n",
    "\n",
    "class PickUp(Location):\n",
    "    is_pickup = True\n",
    "    is_dropoff = False\n",
    "\n",
    "    def __init__(self, loc, request):\n",
    "        super().__init__(loc, request)\n",
    "\n",
    "\n",
    "class DropOff(Location):\n",
    "    is_pickup = False\n",
    "    is_dropoff = True\n",
    "\n",
    "    def __init__(self, loc, request):\n",
    "        super().__init__(loc, request)"
   ]
  },
  {
   "cell_type": "code",
   "execution_count": 7,
   "metadata": {
    "code_folding": [
     0
    ]
   },
   "outputs": [],
   "source": [
    "class Request:\n",
    "\n",
    "    count = 0\n",
    "\n",
    "    def __init__(self, pickup_loc, dropoff_loc, request_time, max_waiting_duration):\n",
    "        self.id = Request.count\n",
    "        Request.count += 1\n",
    "        self.request_time = request_time\n",
    "        self.max_waiting_duration = max_waiting_duration\n",
    "        self.latest_dropoff = request_time + distance(pickup_loc, dropoff_loc) + max_waiting_duration\n",
    "        self.pickup = PickUp(pickup_loc, self)\n",
    "        self.dropoff = DropOff(dropoff_loc, self)"
   ]
  },
  {
   "cell_type": "code",
   "execution_count": 8,
   "metadata": {
    "code_folding": [
     0
    ]
   },
   "outputs": [],
   "source": [
    "class Tour:\n",
    "\n",
    "    def __init__(self, depot_loc=(0, 0), M=sys.maxsize):\n",
    "        depot = Request(depot_loc, depot_loc, 0, M)\n",
    "        self.tour = [depot.pickup, depot.dropoff]\n",
    "        self.early = [0, 0]\n",
    "        self.late = [M, M]\n",
    "        self.length = 2\n",
    "        self.total_cost = 0\n",
    "\n",
    "    def feasible(self, place, i):\n",
    "        if place.is_dropoff and place.request.pickup not in self.tour[:i]:\n",
    "            return False\n",
    "        if place.is_pickup and place.request.dropoff in self.tour[:i]:\n",
    "            return False\n",
    "        e, l = self.insertion_time_window(place, i)\n",
    "        return e <= l\n",
    "\n",
    "    def insertion_cost(self, place, i):\n",
    "        return (distance(self.tour[i-1].loc, place.loc) + distance(place.loc, self.tour[i].loc)\n",
    "                - distance(self.tour[i-1].loc, self.tour[i].loc))\n",
    "\n",
    "    # berechne Zeitfenster\n",
    "    def insertion_time_window(self, place, i):\n",
    "        # e alt:\n",
    "        # e = max(place.request.req_t, self.early[i-1] + euclidean(self.tour[i-1].loc, place.loc))\n",
    "        # e neu:\n",
    "        e = max(place.request.request_time + distance(self.tour[i-1].loc, place.loc), \n",
    "                self.early[i-1] + distance(self.tour[i-1].loc, place.loc))\n",
    "        l = min(place.request.latest_dropoff, \n",
    "                self.late[i] - distance(place.loc, self.tour[i].loc))\n",
    "        return e, l\n",
    "\n",
    "    def insert(self, place, i):\n",
    "        self.total_cost += self.insertion_cost(place, i)\n",
    "        self.tour.insert(i, place)\n",
    "        self.length += 1\n",
    "        self.update(i)\n",
    "        \n",
    "    def remove(self, i):\n",
    "        place = self.tour[i]\n",
    "        del self.tour[i]\n",
    "        del self.early[i]\n",
    "        del self.late[i]\n",
    "        self.total_cost -= self.insertion_cost(place, i)\n",
    "        self.length -= 1\n",
    "        self.recalculate_time_windows()\n",
    "\n",
    "    def update(self, i):\n",
    "        # Berechnung und Einfügen des Zeitfensters des neuen Ortes\n",
    "        e, l = self.insertion_time_window(self.tour[i], i)\n",
    "        self.early.insert(i, e)\n",
    "        self.late.insert(i, l)\n",
    "        # Update der Zeitfenster (late) der vorigen Orte\n",
    "        for k in range(i-1, -1, -1):\n",
    "            self.late[k] = min(self.late[k], self.late[k+1] - distance(self.tour[k].loc, self.tour[k+1].loc))\n",
    "        # Update der Zeitfenster (early) der nachfolgenden Orte\n",
    "        for k in range(i+1, self.length):\n",
    "            self.early[k] = max(self.early[k], self.early[k-1] + distance(self.tour[k-1].loc, self.tour[k].loc))\n",
    "    \n",
    "    def recalculate_time_windows(self):\n",
    "        for k in range(1, self.length):\n",
    "            self.early[k] = max(self.tour[k].request.request_time + distance(self.tour[k-1].loc, self.tour[k].loc), \n",
    "                self.early[k-1] + distance(self.tour[k-1].loc, self.tour[k].loc))\n",
    "        for k in range(self.length-2, -1, -1):\n",
    "            self.late[k] = min(self.tour[k].request.latest_dropoff, \n",
    "                self.late[k+1] - distance(self.tour[k].loc, self.tour[k+1].loc))\n",
    "        \n",
    "    def printable(self):\n",
    "        result= []\n",
    "        for i in range(self.length):\n",
    "            if i == 0 or i == self.length-1:\n",
    "                typ = \"Depot\"\n",
    "            elif self.tour[i].is_pickup:\n",
    "                typ = \"Pick-Up\"\n",
    "            else:\n",
    "                typ = \"Drop_Off\"\n",
    "            result.append((self.tour[i].request.id, \n",
    "                           self.tour[i].loc, \n",
    "                           round(self.early[i], 2), \n",
    "                           round(self.late[i], 2), \n",
    "                           typ))\n",
    "        return result"
   ]
  },
  {
   "cell_type": "code",
   "execution_count": 9,
   "metadata": {
    "code_folding": [
     0
    ]
   },
   "outputs": [],
   "source": [
    "class DecisionEpoch:\n",
    "    \n",
    "    # Customers in a vehicle at new request time\n",
    "    in_vehicle = []\n",
    "    \n",
    "    # Customers waiting vor a vehicle at new request time\n",
    "    waiting = []\n",
    "    \n",
    "    def __init__(self, new_request, tours):\n",
    "        self.time = request.request_time\n",
    "        self.request = new_request\n",
    "        self.tours = deepcopy(tours)\n",
    "        for tour in tours:\n",
    "            v = len([e for e in self.early if e <= time])\n",
    "            for i in range(v):\n",
    "                if tour[i].is_pickup and tour[i].request.dropoff in tour[v:]:\n",
    "                    self.in_vehicle.append((tour, i))\n",
    "            for i in range(v, tour.length):\n",
    "                if tour[i].is_pickup and tour[i].request.dropoff in tour[i:]:\n",
    "                    self.waiting.append((tour, i))\n",
    "        self.accept, self.solution = LNS(self, \"accept\")\n",
    "        if self.accept:\n",
    "            pass"
   ]
  },
  {
   "cell_type": "markdown",
   "metadata": {},
   "source": [
    "Die Kunden steigen im PickUp Punkt in das Fahrzeug ein und am DropOff Punkt wieder aus. Dabei hat jeder Kunde ein Zeitfenster, in dem er bedient werden muss, wenn er angenommen wird. Das Zeitfenster beginnt mit dem Zeitpunkt der Anfrage. Das Ende des Zeitfensters lässt sich errechnen aus der Fahrzeit zwischen den PickUp und dem DropOff plus einem Puffer $\\alpha$. Ist $\\alpha$ gleich 10, bedeutet das für den Kunden eine mögliche Warte- oder Verzögerungszeit von insgesamt 10 Minuten.  Die Fahrzeit entspricht hier der euklidischen Distanz. Die Attribute der Kunden werden in der Klasse *Requests* festgehalten."
   ]
  },
  {
   "cell_type": "markdown",
   "metadata": {},
   "source": [
    "$R$:  requests ($r \\in R$)\n",
    "\n",
    "- receiving time $t_r$\n",
    "- origin $o_r \\in L$\n",
    "- destination $d_r \\in L$\n",
    "- time window $[b_r, e_r]$\n",
    "    - $b_r = t_r$\n",
    "    - $e_r = t_r + c_{o_r,d_r} + \\alpha$"
   ]
  },
  {
   "cell_type": "markdown",
   "metadata": {},
   "source": [
    "$L$:  locations ($l \\in L$)\n",
    "\n",
    "- *loc:* Koordinaten der Location\n",
    "- *request:* Zugehöriges Request zur Location\n",
    "\n",
    "$o_r$: origins ($o_r \\in L_o \\subset L$)\n",
    "\n",
    "- erbt von Location\n",
    "\n",
    "$d_r$: destinations ($d_r \\in L_d \\subset L$)\n",
    "\n",
    "- erbt von Location"
   ]
  },
  {
   "cell_type": "markdown",
   "metadata": {},
   "source": [
    "Wir betrachten 5 Kunden, die an den Koordinaten (1,8), (6,5), (3,2), (8,3) zu- und an den Koordinaten (5,9), (3,4), (8,5) und (4,6) aussteigen. Führen Sie den folgenden Code aus um einen Überblick der Anfangskoordinaten (blau) und Endkoordinaten (rot) zu generieren."
   ]
  },
  {
   "cell_type": "code",
   "execution_count": 10,
   "metadata": {},
   "outputs": [],
   "source": [
    "instance = RideSharing()\n",
    "instance.add_tour((1, 1))\n",
    "instance.add_tour((6, 6))\n",
    "instance.add_request((1, 8), (5, 9), 1, 10)\n",
    "instance.add_request((6, 5), (3, 4), 0, 10)\n",
    "instance.add_request((3, 2), (8, 5), 0, 10)\n",
    "instance.add_request((8, 3), (4, 6), 0, 10)\n",
    "#instance.solve()"
   ]
  },
  {
   "cell_type": "code",
   "execution_count": 11,
   "metadata": {
    "code_folding": [
     0
    ]
   },
   "outputs": [
    {
     "data": {
      "image/png": "[encoded data removed]",
      "text/plain": [
       "<Figure size 432x288 with 1 Axes>"
      ]
     },
     "metadata": {
      "needs_background": "light"
     },
     "output_type": "display_data"
    }
   ],
   "source": [
    "# PickUp und DropOff der Kunden\n",
    "plt.plot([1,6,3,8],[8,5,2,3],'o', label =\"PickUp\")\n",
    "plt.plot([5,3,8,4],[9,4,5,6],'ro', label = \"DropOff\")\n",
    "plt.text((1+0.1),(8+0.1), 1)\n",
    "plt.text((5+0.1),(9+0.1), 1)\n",
    "plt.text((6+0.1),(5+0.1), 2)\n",
    "plt.text((3+0.1),(4+0.1), 2)\n",
    "plt.text((3+0.1),(2+0.1), 3)\n",
    "plt.text((8+0.1),(5+0.1), 3)\n",
    "plt.text((8+0.1),(3+0.1), 4)\n",
    "plt.text((4+0.1),(6+0.1), 4)\n",
    "plt.axis([0,10,0,10])\n",
    "plt.grid()\n",
    "plt.legend()\n",
    "plt.show()"
   ]
  },
  {
   "cell_type": "markdown",
   "metadata": {},
   "source": [
    "Kunde | PickUp  | DropOff | Request Time | End Time | alpha\n",
    "--|:---------:|:---------:|:---------:|:---------:|:---------:\n",
    "1|(1,8)    | (5,9)   |0|| 10 \n",
    "2|(6,5)   | (3,4) |1||10\n",
    "3|(3,2)   | (8,5) |2||10\n",
    "4|(8,3)   | (4,6) |3||10\n"
   ]
  },
  {
   "cell_type": "code",
   "execution_count": 16,
   "metadata": {
    "code_folding": []
   },
   "outputs": [
    {
     "data": {
      "application/vnd.jupyter.widget-view+json": {
       "model_id": "2ebdb9d8c1a34a9fb63dcd4588d07576",
       "version_major": 2,
       "version_minor": 0
      },
      "text/plain": [
       "BoundedIntText(value=4, description='X-Koordinate PickUp', max=10, style=DescriptionStyle(description_width='i…"
      ]
     },
     "metadata": {},
     "output_type": "display_data"
    },
    {
     "data": {
      "application/vnd.jupyter.widget-view+json": {
       "model_id": "5ed83ec3d98b45a6a161946ea2b3d4ee",
       "version_major": 2,
       "version_minor": 0
      },
      "text/plain": [
       "BoundedIntText(value=7, description='Y-Koordinate PickUp', max=10, style=DescriptionStyle(description_width='i…"
      ]
     },
     "metadata": {},
     "output_type": "display_data"
    },
    {
     "data": {
      "application/vnd.jupyter.widget-view+json": {
       "model_id": "0ff9f0b033334a0aaeee4da60c7ba69f",
       "version_major": 2,
       "version_minor": 0
      },
      "text/plain": [
       "BoundedIntText(value=6, description='X-Koordinate DropOff', max=10, style=DescriptionStyle(description_width='…"
      ]
     },
     "metadata": {},
     "output_type": "display_data"
    },
    {
     "data": {
      "application/vnd.jupyter.widget-view+json": {
       "model_id": "c658b3c38f48446fab9192d14d06ace3",
       "version_major": 2,
       "version_minor": 0
      },
      "text/plain": [
       "BoundedIntText(value=1, description='Y-Koordinate DropOff', max=10, style=DescriptionStyle(description_width='…"
      ]
     },
     "metadata": {},
     "output_type": "display_data"
    },
    {
     "data": {
      "application/vnd.jupyter.widget-view+json": {
       "model_id": "e0e9419f3d8c4939aae5835f9b5b2332",
       "version_major": 2,
       "version_minor": 0
      },
      "text/plain": [
       "BoundedIntText(value=3, description='Request Time', max=10, style=DescriptionStyle(description_width='initial'…"
      ]
     },
     "metadata": {},
     "output_type": "display_data"
    },
    {
     "data": {
      "application/vnd.jupyter.widget-view+json": {
       "model_id": "b7dbee695f8846c6a8a5540692be0676",
       "version_major": 2,
       "version_minor": 0
      },
      "text/plain": [
       "Button(description='Hinzufügen', style=ButtonStyle())"
      ]
     },
     "metadata": {},
     "output_type": "display_data"
    }
   ],
   "source": [
    "#Kunde Nr. 5 hinzufügen\n",
    "\n",
    "style = {'description_width': 'initial'}\n",
    "xo = widgets.BoundedIntText(value=4, min=0, max=10,step=1,description='X-Koordinate PickUp',disabled=False, style=style)\n",
    "yo = widgets.BoundedIntText(value=7, min=0, max=10,step=1,description='Y-Koordinate PickUp',disabled=False, style=style)\n",
    "xd = widgets.BoundedIntText(value=6, min=0, max=10,step=1,description='X-Koordinate DropOff',disabled=False, style=style)\n",
    "yd = widgets.BoundedIntText(value=1, min=0, max=10,step=1,description='Y-Koordinate DropOff',disabled=False, style=style)\n",
    "rt = widgets.BoundedIntText(value=3, min=0, max=10,step=1,description='Request Time',disabled=False, style=style)\n",
    "\n",
    "button = widgets.Button(description=\"Hinzufügen\")\n",
    "\n",
    "\n",
    "def on_button_clicked(b):\n",
    "    instance.add_request((xo.value, yo.value), (xd.value, yd.value), rt.value, 10)\n",
    "\n",
    "button.on_click(on_button_clicked)\n",
    "\n",
    "display( xo, yo, xd, yd, rt,  button)\n"
   ]
  },
  {
   "cell_type": "markdown",
   "metadata": {},
   "source": [
    "## Teil 2: Heuristisches Lösungverfahren für das DDRAP"
   ]
  },
  {
   "cell_type": "markdown",
   "metadata": {},
   "source": [
    "### Insertion-Heuristik"
   ]
  },
  {
   "cell_type": "code",
   "execution_count": 13,
   "metadata": {
    "code_folding": []
   },
   "outputs": [],
   "source": [
    "def parallel_insertion(tours, requests, M=sys.maxsize):\n",
    "    reject = []\n",
    "    # Kunden = copy.deepcopy(fiktivekunden)\n",
    "    \n",
    "    while requests: # Braucht man hier nicht =/= []?\n",
    "        pOpt = M \n",
    "        for j in range(len(requests)):\n",
    "            for k in range(len(tours)):\n",
    "                # spos: Position in Tour k, an der der Pickup des Kunden eingefügt wird\n",
    "                for spos in range(1, tours[k].length):\n",
    "                    if tours[k].feasible(requests[j].origin, spos):\n",
    "                        skosten = tours[k].insertion_cost(requests[j].origin, spos)\n",
    "                        \n",
    "                        # speichert die aktuell gültige Tour in einer temporären Variablen\n",
    "                        tour_temp = deepcopy(tours[k])\n",
    "                        \n",
    "                        # füge den Pickup des Kunden vorübergehend in den Tourenplan ein und Update der Zeitfenster\n",
    "                        tour_temp.insert(requests[j].origin, spos)\n",
    "                        \n",
    "                        # Prüfe für alle Positionen im Tourenplan nach dem eingefügten Pickup ob es einen möglichen Drop-off gibt \n",
    "                        for epos in range(spos+1, tour_temp.length): \n",
    "                            if tour_temp.feasible(requests[j].destination, epos):  \n",
    "                                ekosten = tour_temp.insertion_cost(requests[j].destination, epos)\n",
    "                                if skosten + ekosten < pOpt:\n",
    "                                    reqOpt = requests[j] \n",
    "                                    tourOpt = tours[k] \n",
    "                                    sposOpt = spos\n",
    "                                    eposOpt = epos\n",
    "                                    pOpt = skosten + ekosten   \n",
    "      \n",
    "        if pOpt < M:   \n",
    "            # Setze den Pickup und Drop-Off des Kunden ein und aktualisiere Zeitfenster\n",
    "            tourOpt.insert(reqOpt.origin, sposOpt)\n",
    "            tourOpt.insert(reqOpt.destination, eposOpt)\n",
    "            \n",
    "            #Entferne den eigesetzten Kunden aus der Liste der noch ausstehenden Kunden\n",
    "            requests.remove(reqOpt)         \n",
    "        else:\n",
    "            # Wenn kein Kunde den Feasibility mehr besteht, speichere die abgewiesenen Kunden und leere die Liste\n",
    "            reject = deepcopy(requests)\n",
    "            requests = []\n",
    "   \n",
    "    return tours, reject"
   ]
  },
  {
   "cell_type": "code",
   "execution_count": 14,
   "metadata": {
    "code_folding": [
     1
    ]
   },
   "outputs": [
    {
     "ename": "NameError",
     "evalue": "name 'tour1' is not defined",
     "output_type": "error",
     "traceback": [
      "\u001b[1;31m---------------------------------------------------------------------------\u001b[0m",
      "\u001b[1;31mNameError\u001b[0m                                 Traceback (most recent call last)",
      "\u001b[1;32m<ipython-input-14-e8c0209a7c0a>\u001b[0m in \u001b[0;36m<module>\u001b[1;34m\u001b[0m\n\u001b[1;32m----> 1\u001b[1;33m \u001b[0mtours\u001b[0m\u001b[1;33m,\u001b[0m \u001b[0mreject\u001b[0m \u001b[1;33m=\u001b[0m \u001b[0mparallel_insertion\u001b[0m\u001b[1;33m(\u001b[0m\u001b[1;33m[\u001b[0m\u001b[0mtour1\u001b[0m\u001b[1;33m,\u001b[0m \u001b[0mtour2\u001b[0m\u001b[1;33m]\u001b[0m\u001b[1;33m,\u001b[0m \u001b[1;33m[\u001b[0m\u001b[0mkunde1\u001b[0m\u001b[1;33m,\u001b[0m \u001b[0mkunde2\u001b[0m\u001b[1;33m,\u001b[0m \u001b[0mkunde3\u001b[0m\u001b[1;33m]\u001b[0m\u001b[1;33m)\u001b[0m\u001b[1;33m\u001b[0m\u001b[1;33m\u001b[0m\u001b[0m\n\u001b[0m\u001b[0;32m      2\u001b[0m \u001b[1;32mfor\u001b[0m \u001b[0mtour\u001b[0m \u001b[1;32min\u001b[0m \u001b[0mtours\u001b[0m\u001b[1;33m:\u001b[0m\u001b[1;33m\u001b[0m\u001b[1;33m\u001b[0m\u001b[0m\n\u001b[0;32m      3\u001b[0m     \u001b[1;31m# ID, Location, (früheste) Besuchszeit, Origin/Destination\u001b[0m\u001b[1;33m\u001b[0m\u001b[1;33m\u001b[0m\u001b[1;33m\u001b[0m\u001b[0m\n\u001b[0;32m      4\u001b[0m     \u001b[0mprint\u001b[0m\u001b[1;33m(\u001b[0m\u001b[0mtour\u001b[0m\u001b[1;33m.\u001b[0m\u001b[0mprintable\u001b[0m\u001b[1;33m(\u001b[0m\u001b[1;33m)\u001b[0m\u001b[1;33m)\u001b[0m\u001b[1;33m\u001b[0m\u001b[1;33m\u001b[0m\u001b[0m\n",
      "\u001b[1;31mNameError\u001b[0m: name 'tour1' is not defined"
     ]
    }
   ],
   "source": [
    "tours, reject = parallel_insertion([tour1, tour2], [kunde1, kunde2, kunde3])\n",
    "for tour in tours:\n",
    "    # ID, Location, (früheste) Besuchszeit, Origin/Destination\n",
    "    print(tour.printable())"
   ]
  },
  {
   "cell_type": "markdown",
   "metadata": {},
   "source": [
    "$K$:  Entscheidungsepochen ($k \\in K$)"
   ]
  },
  {
   "cell_type": "code",
   "execution_count": null,
   "metadata": {},
   "outputs": [],
   "source": [
    "t = Tour()\n",
    "\n",
    "pickup = Origin((5,4), ())\n",
    "t.insertion_time_window(pickup, 0)"
   ]
  },
  {
   "cell_type": "markdown",
   "metadata": {},
   "source": [
    "### GANTT CHART"
   ]
  },
  {
   "cell_type": "code",
   "execution_count": null,
   "metadata": {},
   "outputs": [],
   "source": [
    "def convert_to_datetime(x):\n",
    "      return datetime.fromtimestamp(31536000+x*24*3600).strftime(\"%Y-%m-%d\")"
   ]
  },
  {
   "cell_type": "code",
   "execution_count": null,
   "metadata": {},
   "outputs": [],
   "source": [
    "#Kunden ID: I; Untere schranke Zeitfenster: start; obere Schranke Zeitfenster: ende\n",
    "I = [1,3,3,3] #instance.requests[i].id\n",
    "start = [0,1,5,7] #instance.requests[i].request_time\n",
    "ende = [4,4,6,8] #instance.requests[i].latest_dropoff"
   ]
  },
  {
   "cell_type": "code",
   "execution_count": null,
   "metadata": {},
   "outputs": [],
   "source": [
    "for j in range(len(start)):\n",
    "    start[j] = convert_to_datetime(start[j])\n",
    "    ende[j] = convert_to_datetime(ende[j])"
   ]
  },
  {
   "cell_type": "code",
   "execution_count": null,
   "metadata": {},
   "outputs": [],
   "source": [
    "num_tick_labels = np.linspace(start = 0, stop = 10, num = 21, dtype = int)\n",
    "date_ticks = [convert_to_datetime(x) for x in num_tick_labels]"
   ]
  },
  {
   "cell_type": "code",
   "execution_count": null,
   "metadata": {},
   "outputs": [],
   "source": [
    "df = pd.DataFrame({'Kunde': I, \"Start\": start , \"Finish\": ende})"
   ]
  },
  {
   "cell_type": "code",
   "execution_count": null,
   "metadata": {},
   "outputs": [],
   "source": [
    "df"
   ]
  },
  {
   "cell_type": "code",
   "execution_count": null,
   "metadata": {},
   "outputs": [],
   "source": [
    "fig = px.timeline(df, x_start='Start', x_end='Finish', y='Kunde')\n",
    "fig.layout.xaxis.update({\n",
    "        'tickvals' : date_ticks,\n",
    "        'ticktext' : num_tick_labels\n",
    "        })\n",
    "fig.update_yaxes(autorange=\"reversed\")\n",
    "fig.show()"
   ]
  },
  {
   "cell_type": "code",
   "execution_count": 19,
   "metadata": {},
   "outputs": [
    {
     "data": {
      "text/plain": [
       "<matplotlib.collections.BrokenBarHCollection at 0x2c33c1dab38>"
      ]
     },
     "execution_count": 19,
     "metadata": {},
     "output_type": "execute_result"
    },
    {
     "data": {
      "image/png": "[encoded data removed]",
      "text/plain": [
       "<Figure size 432x288 with 1 Axes>"
      ]
     },
     "metadata": {
      "needs_background": "light"
     },
     "output_type": "display_data"
    }
   ],
   "source": [
    "# Declaring a figure \"gnt\" \n",
    "fig, gnt = plt.subplots() \n",
    "  \n",
    "# Setting Y-axis limits \n",
    "gnt.set_ylim(0, 50) \n",
    "  \n",
    "# Setting X-axis limits \n",
    "gnt.set_xlim(0, 160) \n",
    "  \n",
    "# Setting labels for x-axis and y-axis \n",
    "gnt.set_xlabel('seconds since start') \n",
    "gnt.set_ylabel('Processor') \n",
    "  \n",
    "# Setting ticks on y-axis \n",
    "gnt.set_yticks([15, 25, 35]) \n",
    "# Labelling tickes of y-axis \n",
    "gnt.set_yticklabels(['3', '2', '1']) \n",
    "  \n",
    "# Setting graph attribute \n",
    "gnt.grid(True) \n",
    "  \n",
    "# Declaring a bar in schedule \n",
    "gnt.broken_barh([(40, 50)], (20, 9), facecolors =('tab:purple')) \n",
    "  \n",
    "# Declaring multiple bars in at same level and same width \n",
    "gnt.broken_barh([(110, 10), (150, 10)], (10, 9), facecolors ='tab:blue') \n",
    "  \n",
    "gnt.broken_barh([(10, 50), (100, 20), (130, 10)], (20, 9), facecolors =('tab:red')) \n",
    "  \n",
    "#plt.savefig(\"gantt1.png\") "
   ]
  },
  {
   "cell_type": "markdown",
   "metadata": {},
   "source": [
    "## Teil 3: Ausblick"
   ]
  },
  {
   "cell_type": "code",
   "execution_count": null,
   "metadata": {},
   "outputs": [],
   "source": []
  },
  {
   "cell_type": "markdown",
   "metadata": {},
   "source": [
    "## Literaturverzeichnis:"
   ]
  },
  {
   "cell_type": "markdown",
   "metadata": {},
   "source": [
    "[1] Parragh, S. N., Doerner, K. F., & Hartl, R. F. (2008). A survey on pickup and delivery problems. Part II:\n",
    "Transportation between pickup and delivery locations. Journal für Betriebswirtschaft, 58(2), 81–117.\n",
    "\n",
    "[2] Cordeau, J.-F., & Laporte, G. (2003). A tabu search heuristic for the static multi-vehicle dial-a-ride problem.\n",
    "Transportation Research Part B: Methodological, 37(6), 579–594.\n",
    "\n",
    "[3 ]Haferkamp J, Ehmke J (2020): Evaluation of Anticipatory Decision-Making in\n",
    "Ride-Sharing Services. Working Paper, Universität Magdeburg."
   ]
  }
 ],
 "metadata": {
  "kernelspec": {
   "display_name": "Python 3",
   "language": "python",
   "name": "python3"
  },
  "language_info": {
   "codemirror_mode": {
    "name": "ipython",
    "version": 3
   },
   "file_extension": ".py",
   "mimetype": "text/x-python",
   "name": "python",
   "nbconvert_exporter": "python",
   "pygments_lexer": "ipython3",
   "version": "3.7.1"
  }
 },
 "nbformat": 4,
 "nbformat_minor": 4
}
