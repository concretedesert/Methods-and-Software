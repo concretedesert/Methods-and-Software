{
 "cells": [
  {
   "cell_type": "markdown",
   "metadata": {},
   "source": [
    "# Tourenplanung für Ride-Sharing-Dienstleister"
   ]
  },
  {
   "cell_type": "markdown",
   "metadata": {},
   "source": [
    "Ein spezielles Tourenplanungsproblem, dass sich mit der Planung von Touren für Ride-Sharing-Dienstleister befasst ist das Dial-a-ride Problem (DARP). Dieses unterscheidet sich von anderen Tourenplanungsproblem zunächst darin, dass sowohl Pickups als auch Drop-offs geplant werden. Außerdem entsteht sich durch das spezielle Förderungsgut \"Kunde\" eine paarweise Verbindung zwischen Pickups und Dropoffs. Im Gegensatz zu einem homogenen Gut kann ein Drop-off nicht von einem beliebigen Pick-up bedient werden [1]. Zusätzlich ergeben sich durch die Beförderung von Kunden, weitere Nebenbedingungen, wie die im Fahrzeug verbrachte Zeit [2]."
   ]
  },
  {
   "cell_type": "markdown",
   "metadata": {},
   "source": [
    "Eine standard Definition des Problems kommt von Cordeau und Laporte [2]:"
   ]
  },
  {
   "cell_type": "markdown",
   "metadata": {},
   "source": [
    "<center>\"In the dial-a-ride problem (DARP), *n* users specify transportation requests between given origins and destinations. Users may provide a time window on their desired departure or arrival time, or on both. Transportation is supplied by a fleet of *m* vehicles based at a common depot. The aim is to design a set of least cost vehicle routes capable of accommodating all requests, under a set of constraints.\" [2, p.1]</center>"
   ]
  },
  {
   "cell_type": "markdown",
   "metadata": {},
   "source": [
    "Im Weiteren beschäftigen wir uns mit einer vereinfachten Version des DARPs, wie es von Haferkamp und Ehmke [3] vorgestellt wird."
   ]
  },
  {
   "cell_type": "markdown",
   "metadata": {},
   "source": [
    "## Teil 1: Das Problem"
   ]
  },
  {
   "cell_type": "markdown",
   "metadata": {},
   "source": [
    "Es gibt 3 Kunden, die an den Koordinaten (1,8), (6,5) und (3,2) zu- und an den Koordinaten (5,9), (3,4) und (8,5) aussteigen. Der folgende Graf zeigt die Anfangskoordinaten (blau) und Endkoordinaten (rot)."
   ]
  },
  {
   "cell_type": "code",
   "execution_count": 1,
   "metadata": {},
   "outputs": [],
   "source": [
    "import sys\n",
    "from copy import deepcopy\n",
    "\n",
    "# ? Erst später, kurz erklären, dass als distanz und kosten verwendet\n",
    "def euclidean(loc1, loc2):\n",
    "    return ((loc1[0] - loc2[0])**2 + (loc1[1] - loc2[1])**2)**0.5"
   ]
  },
  {
   "cell_type": "markdown",
   "metadata": {},
   "source": [
    "# Einführungstext"
   ]
  },
  {
   "cell_type": "markdown",
   "metadata": {},
   "source": [
    "$L$:  locations ($l \\in L$)\n",
    "\n",
    "- *loc:* Koordinaten der Location\n",
    "- *request:* Zugehöriges Request zur Location\n",
    "\n",
    "$o_r$: origins ($o_r \\in L_o \\subset L$)\n",
    "\n",
    "- erbt von Location\n",
    "\n",
    "$d_r$: destinations ($d_r \\in L_d \\subset L$)\n",
    "\n",
    "- erbt von Location"
   ]
  },
  {
   "cell_type": "code",
   "execution_count": 2,
   "metadata": {
    "code_folding": [
     0,
     2,
     7,
     15
    ]
   },
   "outputs": [],
   "source": [
    "class Location:\n",
    "\n",
    "    def __init__(self, loc, req):\n",
    "        self.loc = loc\n",
    "        self.request = req\n",
    "\n",
    "\n",
    "class Origin(Location):\n",
    "    is_origin = True\n",
    "    is_destination = False\n",
    "\n",
    "    def __init__(self, loc, req):\n",
    "        super().__init__(loc, req)\n",
    "\n",
    "\n",
    "class Destination(Location):\n",
    "    is_origin = False\n",
    "    is_destination = True\n",
    "\n",
    "    def __init__(self, loc, req):\n",
    "        super().__init__(loc, req)\n"
   ]
  },
  {
   "cell_type": "markdown",
   "metadata": {},
   "source": [
    "$R$:  requests ($r \\in R$)\n",
    "\n",
    "- receiving time $t_r$\n",
    "- origin $o_r \\in L$\n",
    "- destination $d_r \\in L$\n",
    "- time window $[b_r, e_r]$\n",
    "    - $b_r = t_r$\n",
    "    - $e_r = t_r + c_{o_r,d_r} + \\alpha$"
   ]
  },
  {
   "cell_type": "code",
   "execution_count": 3,
   "metadata": {
    "code_folding": [
     0
    ]
   },
   "outputs": [],
   "source": [
    "class Request:\n",
    "    _count = 0\n",
    "\n",
    "    def __init__(self, orig_loc, dest_loc, req_t, alpha=15):\n",
    "        self.id = Request._count\n",
    "        Request._count += 1\n",
    "        self.req_t = req_t\n",
    "        self.alpha = alpha\n",
    "        self.end_t = req_t + euclidean(orig_loc, dest_loc) + alpha\n",
    "        self.origin = Origin(orig_loc, self)\n",
    "        self.destination = Destination(dest_loc, self)"
   ]
  },
  {
   "cell_type": "markdown",
   "metadata": {},
   "source": [
    "$V$:  vehicles ($v \\in V$)"
   ]
  },
  {
   "cell_type": "code",
   "execution_count": 4,
   "metadata": {
    "code_folding": [
     0
    ]
   },
   "outputs": [],
   "source": [
    "class Tour:\n",
    "\n",
    "    def __init__(self, depot_loc=(0, 0), M=sys.maxsize):\n",
    "        depot = Request(depot_loc, depot_loc, 0, M)\n",
    "        self.tour = [depot.origin, depot.destination]\n",
    "        self.early = [0, 0]\n",
    "        self.late = [M, M]\n",
    "        self.length = 2\n",
    "        self.total_cost = 0\n",
    "        self.M = M\n",
    "\n",
    "    # Beim Updaten bestimmen\n",
    "    def get_total_cost(self):\n",
    "        pass\n",
    "\n",
    "    # Überprüfe, ob Pick-Up / Drop-Off (place) des Kunden an Position i in der Tour zulässig ist\n",
    "    def feasible(self, place, i):\n",
    "        # Für Destination muss gelten: Pick-Up vor Drop-Off, Drop-Off in der gleichten Tour wie Pick-Up\n",
    "        if place.is_destination and place.request.origin not in self.tour[:i]:\n",
    "            return False\n",
    "        # Origin nicht nach Destination einfügbar\n",
    "        if place.is_origin and place.request.destination in self.tour[:i]:\n",
    "            return False\n",
    "        # überprüfen der Zeitfenster: Early < Late\n",
    "        e, l = self.insertion_time_window(place, i)\n",
    "        return e <= l\n",
    "\n",
    "    # Einfügekosten, die entstehen, falls Location in Tour an Position i eingefügt wird\n",
    "    def insertion_cost(self, place, i):\n",
    "        return (euclidean(self.tour[i-1].loc, place.loc) + euclidean(place.loc, self.tour[i].loc)\n",
    "                - euclidean(self.tour[i-1].loc, self.tour[i].loc))\n",
    "\n",
    "    # berechne Zeitfenster\n",
    "    def insertion_time_window(self, place, i):\n",
    "        e = max(place.request.req_t, self.early[i-1] + euclidean(self.tour[i-1].loc, place.loc))\n",
    "        l = min(place.request.end_t, self.late[i] - euclidean(place.loc, self.tour[i].loc))\n",
    "        return e, l\n",
    "\n",
    "    def insert(self, place, i):\n",
    "        self.total_cost += self.insertion_cost(place, i)\n",
    "        self.tour.insert(i, place)\n",
    "        self.length += 1\n",
    "        self.update(i)\n",
    "\n",
    "    def update(self, i):\n",
    "        # Berechnung und Einfügen des Zeitfensters des neuen Ortes\n",
    "        e, l = self.insertion_time_window(self.tour[i], i)\n",
    "        self.early.insert(i, e)\n",
    "        self.late.insert(i, l)\n",
    "        # Update der Zeitfenster (late) der vorigen Orte\n",
    "        for k in range(i-1, -1, -1):\n",
    "            self.late[k] = min(self.late[k], self.late[k+1] - euclidean(self.tour[k].loc, self.tour[k+1].loc))\n",
    "        # Update der Zeitfenster (early) der nachfolgenden Orte\n",
    "        for k in range(i+1, self.length):\n",
    "            self.early[k] = max(self.early[k], self.early[k-1] + euclidean(self.tour[k-1].loc, self.tour[k].loc))\n",
    "    \n",
    "    def printable(self):\n",
    "        abfolge = []\n",
    "        for i in range(self.length):\n",
    "            type = \"Origin\" if self.tour[i].is_origin else \"Destination\"\n",
    "            abfolge.append((self.tour[i].request.id, self.tour[i].loc, self.early[i], type))\n",
    "        return abfolge"
   ]
  },
  {
   "cell_type": "markdown",
   "metadata": {},
   "source": [
    "### Insertion-Heuristik"
   ]
  },
  {
   "cell_type": "code",
   "execution_count": 5,
   "metadata": {
    "code_folding": []
   },
   "outputs": [],
   "source": [
    "def parallel_insertion(tours, requests, M=sys.maxsize):\n",
    "    reject = []\n",
    "    # Kunden = copy.deepcopy(fiktivekunden)\n",
    "    \n",
    "    while requests: # Braucht man hier nicht =/= []?\n",
    "        pOpt = M \n",
    "        for j in range(len(requests)):\n",
    "            for k in range(len(tours)):\n",
    "                # spos: Position in Tour k, an der der Pickup des Kunden eingefügt wird\n",
    "                for spos in range(1, tours[k].length):\n",
    "                    if tours[k].feasible(requests[j].origin, spos):\n",
    "                        skosten = tours[k].insertion_cost(requests[j].origin, spos)\n",
    "                        \n",
    "                        # speichert die aktuell gültige Tour in einer temporären Variablen\n",
    "                        tour_temp = deepcopy(tours[k])\n",
    "                        \n",
    "                        # füge den Pickup des Kunden vorübergehend in den Tourenplan ein und Update der Zeitfenster\n",
    "                        tour_temp.insert(requests[j].origin, spos)\n",
    "                        \n",
    "                        # Prüfe für alle Positionen im Tourenplan nach dem eingefügten Pickup ob es einen möglichen Drop-off gibt \n",
    "                        for epos in range(spos+1, tour_temp.length): \n",
    "                            if tour_temp.feasible(requests[j].destination, epos):  \n",
    "                                ekosten = tour_temp.insertion_cost(requests[j].destination, epos)\n",
    "                                if skosten + ekosten < pOpt:\n",
    "                                    reqOpt = requests[j] \n",
    "                                    tourOpt = tours[k] \n",
    "                                    sposOpt = spos\n",
    "                                    eposOpt = epos\n",
    "                                    pOpt = skosten + ekosten   \n",
    "      \n",
    "        if pOpt < M:   \n",
    "            # Setze den Pickup und Drop-Off des Kunden ein und aktualisiere Zeitfenster\n",
    "            tourOpt.insert(reqOpt.origin, sposOpt)\n",
    "            tourOpt.insert(reqOpt.destination, eposOpt)\n",
    "            \n",
    "            #Entferne den eigesetzten Kunden aus der Liste der noch ausstehenden Kunden\n",
    "            requests.remove(reqOpt)         \n",
    "        else:\n",
    "            # Wenn kein Kunde den Feasibility mehr besteht, speichere die abgewiesenen Kunden und leere die Liste\n",
    "            reject = deepcopy(requests)\n",
    "            requests = []\n",
    "   \n",
    "    return tours, reject"
   ]
  },
  {
   "cell_type": "code",
   "execution_count": 6,
   "metadata": {},
   "outputs": [],
   "source": [
    "tour1 = Tour((1, 1))\n",
    "tour2 = Tour((6, 6))\n",
    "\n",
    "kunde1 = Request((1,8), (5,9), 7.1, 10)\n",
    "kunde2 = Request((6,5), (3,4), 0, 10)\n",
    "kunde3 = Request((3,2), (8,5), 0, 10)"
   ]
  },
  {
   "cell_type": "code",
   "execution_count": 7,
   "metadata": {},
   "outputs": [
    {
     "name": "stdout",
     "output_type": "stream",
     "text": [
      "[(0, (1, 1), 0, 'Origin'), (2, (1, 8), 7.1, 'Origin'), (2, (5, 9), 11.22310562561766, 'Destination'), (0, (1, 1), 20.16737753561682, 'Destination')]\n",
      "[(1, (6, 6), 0, 'Origin'), (3, (6, 5), 1.0, 'Origin'), (3, (3, 4), 4.16227766016838, 'Destination'), (4, (3, 2), 6.16227766016838, 'Origin'), (4, (8, 5), 11.99322955501368, 'Destination'), (1, (6, 6), 14.22929753251347, 'Destination')]\n"
     ]
    }
   ],
   "source": [
    "tours, reject = parallel_insertion([tour1, tour2], [kunde1, kunde2, kunde3])\n",
    "for tour in tours:\n",
    "    # ID, Location, (früheste) Besuchszeit, Origin/Destination\n",
    "    print(tour.printable())"
   ]
  },
  {
   "cell_type": "markdown",
   "metadata": {},
   "source": [
    "To-do:\n",
    "- printable-Funktion für Tour --> Erledigt\n",
    "- Zeitepochen --> Heute"
   ]
  },
  {
   "cell_type": "markdown",
   "metadata": {},
   "source": [
    "$K$:  Entscheidungsepochen ($k \\in K$)"
   ]
  },
  {
   "cell_type": "code",
   "execution_count": 8,
   "metadata": {},
   "outputs": [],
   "source": [
    "class Decision_Epoch:\n",
    "    pass"
   ]
  },
  {
   "cell_type": "markdown",
   "metadata": {},
   "source": [
    "[1] Parragh, S. N., Doerner, K. F., & Hartl, R. F. (2008). A survey on pickup and delivery problems. Part II:\n",
    "Transportation between pickup and delivery locations. Journal für Betriebswirtschaft, 58(2), 81–117.\n",
    "\n",
    "[2] Cordeau, J.-F., & Laporte, G. (2003). A tabu search heuristic for the static multi-vehicle dial-a-ride problem.\n",
    "Transportation Research Part B: Methodological, 37(6), 579–594.\n",
    "\n",
    "[3 ]Haferkamp J, Ehmke J (2020): Evaluation of Anticipatory Decision-Making in\n",
    "Ride-Sharing Services. Working Paper, Universität Magdeburg."
   ]
  }
 ],
 "metadata": {
  "kernelspec": {
   "display_name": "Python 3",
   "language": "python",
   "name": "python3"
  },
  "language_info": {
   "codemirror_mode": {
    "name": "ipython",
    "version": 3
   },
   "file_extension": ".py",
   "mimetype": "text/x-python",
   "name": "python",
   "nbconvert_exporter": "python",
   "pygments_lexer": "ipython3",
   "version": "3.7.6"
  }
 },
 "nbformat": 4,
 "nbformat_minor": 4
}
