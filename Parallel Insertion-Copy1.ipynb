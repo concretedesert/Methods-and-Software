{
 "cells": [
  {
   "cell_type": "code",
   "execution_count": 12,
   "metadata": {},
   "outputs": [],
   "source": [
    "import numpy as np\n",
    "import copy\n",
    "from datetime import datetime\n",
    "import numpy as np\n",
    "import plotly.figure_factory as ff\n",
    "import pandas as pd"
   ]
  },
  {
   "cell_type": "code",
   "execution_count": 13,
   "metadata": {},
   "outputs": [],
   "source": [
    "kapa = 3 #kapazität der Fahrzeuge\n",
    "M = 1000 \n",
    "I = [0,1,2,3,4,5] #5 Kunden+Depot = Knoten\n",
    "K = 2 #Anzahl Fahrzeuge = Anzahl Touren\n",
    "seed = [] #Vordefinierte Seed Customer\n",
    "c = np.array([[0,12,24,10,24,25],[12,0,24,21,14,27],\n",
    "              [24,24,0,32,37,48],[10,21,32,0,30,22],[24,14,37,30,0,25],[25,27,48,22,25,0]]) #Kostenmatrix, hier Distanz in Minuten\n",
    "startzeitfenster = [0, 20, 10, 50, 55, 70, 0]\n",
    "endezeitfenster = [100, 40, 35, 70, 65, 75,100]\n",
    "kundenOffen = copy.deepcopy(I)\n",
    "kundenOffen.remove(0)"
   ]
  },
  {
   "cell_type": "code",
   "execution_count": 14,
   "metadata": {},
   "outputs": [
    {
     "data": {
      "text/plain": [
       "array([[ 0, 12, 24, 10, 24, 25],\n",
       "       [12,  0, 24, 21, 14, 27],\n",
       "       [24, 24,  0, 32, 37, 48],\n",
       "       [10, 21, 32,  0, 30, 22],\n",
       "       [24, 14, 37, 30,  0, 25],\n",
       "       [25, 27, 48, 22, 25,  0]])"
      ]
     },
     "execution_count": 14,
     "metadata": {},
     "output_type": "execute_result"
    }
   ],
   "source": [
    "c"
   ]
  },
  {
   "cell_type": "code",
   "execution_count": 15,
   "metadata": {},
   "outputs": [],
   "source": [
    "kunden = [i for i in kundenOffen if i not in seed] #Alle Kunden die noch nicht im Tourenplan sind\n",
    "tourenplaninit = []\n",
    "tourenplaninit.append([0,0]) #hier manuell vorgegeben, sollte leer sein\n",
    "tourenplaninit.append([0,0])"
   ]
  },
  {
   "cell_type": "code",
   "execution_count": 16,
   "metadata": {},
   "outputs": [
    {
     "data": {
      "text/plain": [
       "[[0, 0], [0, 0]]"
      ]
     },
     "execution_count": 16,
     "metadata": {},
     "output_type": "execute_result"
    }
   ],
   "source": [
    "tourenplaninit"
   ]
  },
  {
   "cell_type": "code",
   "execution_count": 17,
   "metadata": {},
   "outputs": [],
   "source": [
    "tourenplan = copy.deepcopy(tourenplaninit)"
   ]
  },
  {
   "cell_type": "code",
   "execution_count": 18,
   "metadata": {},
   "outputs": [
    {
     "data": {
      "text/plain": [
       "[1, 2, 3, 4, 5]"
      ]
     },
     "execution_count": 18,
     "metadata": {},
     "output_type": "execute_result"
    }
   ],
   "source": [
    "kunden"
   ]
  },
  {
   "cell_type": "code",
   "execution_count": 19,
   "metadata": {},
   "outputs": [],
   "source": [
    "def parinsertion (tourenplan, kunden, M, K, kapa, startzeitfenster, endezeitfenster):\n",
    "    szf = copy.deepcopy(startzeitfenster)\n",
    "    ezf = copy.deepcopy(endezeitfenster)\n",
    "    reject = []\n",
    "    Kunden = copy.deepcopy(kunden)\n",
    "    #in jeder Iteration wird ein Kunde aus der Liste genommen, bis diese leer ist\n",
    "    while Kunden != []:\n",
    "        pOpt = M #initialisiert mit sehr hoher Zahl M\n",
    "        for j in Kunden:\n",
    "            \n",
    "            #K ist die Anzahl der Touren/Fahrzeuge\n",
    "            for k in range(K): \n",
    "               \n",
    "                #pos ist die Position in Tour k, an der der Kunde eingefügt wird\n",
    "                for pos in range(1, len(tourenplan[k])): # iteriert von der zweiten bis zur vorletzen Position der Tour\n",
    "                    \n",
    "                    #Feasibility Check: Kann der Kunde an pos eingefügt werden ohne das ein Zeitfenster verpasst wird?    \n",
    "                    e = max(szf[j],szf[tourenplan[k][pos-1]]+c[tourenplan[k][pos-1],j])\n",
    "                    l = min(ezf[j],ezf[tourenplan[k][pos]]-c[tourenplan[k][pos],j])\n",
    "                    if e <= l:\n",
    "                       \n",
    "                        kosten = c[tourenplan[k][pos-1],j]+c[j,tourenplan[k][pos]]-c[tourenplan[k][pos-1],tourenplan[k][pos]]#-1 ist letzte position \n",
    "                        if  kosten < pOpt: #Verwende die \"optimale\" Lösung\n",
    "                            jOpt = j\n",
    "                            kOpt = k\n",
    "                            posOpt = pos\n",
    "                            pOpt = kosten\n",
    "        if pOpt < M:   \n",
    "            tourenplan[kOpt].insert(posOpt,jOpt) #Setze denn \"optimalen\" Kunden, an der \"optimalen\" Posititon im \"optimalen\" Tourenplan ein\n",
    "\n",
    "            #Update die Start- und Endzeitfenster\n",
    "            for i in range(posOpt, len(tourenplan[kOpt])) :\n",
    "                szf[tourenplan[kOpt][i]] = max(szf[tourenplan[kOpt][i]], szf[tourenplan[kOpt][i-1]]+c[tourenplan[kOpt][i],i-1])\n",
    "            for i in range(posOpt-1, 0, -1):\n",
    "                ezf[tourenplan[kOpt][i]] = min(ezf[tourenplan[kOpt][i]], ezf[tourenplan[kOpt][i+1]]-c[tourenplan[kOpt][i],i+1])\n",
    "            \n",
    "            Kunden.remove(jOpt) #Entferne den eigesetzten Kunden aus der Liste der noch ausstehenden Kunden\n",
    "        \n",
    "        else:\n",
    "            reject = copy.deepcopy(Kunden)\n",
    "            Kunden = []\n",
    "   \n",
    "    return tourenplan,reject"
   ]
  },
  {
   "cell_type": "code",
   "execution_count": 20,
   "metadata": {},
   "outputs": [
    {
     "data": {
      "text/plain": [
       "([[0, 3, 5, 0], [0, 0]], [1, 2, 4])"
      ]
     },
     "execution_count": 20,
     "metadata": {},
     "output_type": "execute_result"
    }
   ],
   "source": [
    "opttourenplan, reject  = parinsertion(tourenplaninit, kunden, M, K, kapa, startzeitfenster, endezeitfenster)\n",
    "opttourenplan, reject"
   ]
  },
  {
   "cell_type": "code",
   "execution_count": null,
   "metadata": {},
   "outputs": [],
   "source": [
    "gesamtkost = 0\n",
    "for k in range(K):\n",
    "    tourkost = 0\n",
    "    for pos in range(len(opttourenplan[k])-1):\n",
    "        tourkost = tourkost + c[opttourenplan[k][pos],opttourenplan[k][pos+1]]\n",
    "    gesamtkost = gesamtkost + tourkost \n",
    "print(gesamtkost) "
   ]
  },
  {
   "cell_type": "code",
   "execution_count": null,
   "metadata": {},
   "outputs": [],
   "source": [
    "\n",
    "    szf = copy.deepcopy(startzeitfenster)\n",
    "    ezf = copy.deepcopy(endezeitfenster)\n",
    "    print(szf)\n",
    "    print(ezf)\n",
    "    reject = []\n",
    "    Kunden = copy.deepcopy(kunden)\n",
    "    #in jeder Iteration wird ein Kunde aus der Liste genommen, bis diese leer ist\n",
    "    while Kunden != []:\n",
    "        pOpt = M #initialisiert mit sehr hoher Zahl M\n",
    "        for j in Kunden:\n",
    "            \n",
    "            #K ist die Anzahl der Touren/Fahrzeuge\n",
    "            for k in range(K): \n",
    "               \n",
    "                #pos ist die Position in Tour k, an der der Kunde eingefügt wird\n",
    "                for pos in range(1, len(tourenplan[k])): # iteriert von der zweiten bis zur vorletzen Position der Tour\n",
    "                    \n",
    "                    #Feasibility Check: Kann der Kunde an pos eingefügt werden ohne das ein Zeitfenster verpasst wird?    \n",
    "                    e = max(szf[j],szf[tourenplan[k][pos-1]]+c[tourenplan[k][pos-1],j])\n",
    "                    l = min(ezf[j],ezf[tourenplan[k][pos]]-c[tourenplan[k][pos],j])\n",
    "                    if e <= l:\n",
    "                       \n",
    "                        kosten = c[tourenplan[k][pos-1],j]+c[j,tourenplan[k][pos]]-c[tourenplan[k][pos-1],tourenplan[k][pos]]#-1 ist letzte position \n",
    "                        if  kosten < pOpt: #Verwende die \"optimale\" Lösung\n",
    "                            jOpt = j\n",
    "                            kOpt = k\n",
    "                            posOpt = pos\n",
    "                            pOpt = kosten\n",
    "        if pOpt < M:   \n",
    "            tourenplan[kOpt].insert(posOpt,jOpt) #Setze denn \"optimalen\" Kunden, an der \"optimalen\" Posititon im \"optimalen\" Tourenplan ein\n",
    "            print(tourenplan)\n",
    "            #Update die Start- und Endzeitfenster\n",
    "            for i in range(posOpt, len(tourenplan[k])) :\n",
    "                szf[tourenplan[k][i]] = max(szf[tourenplan[k][i]], szf[tourenplan[k][i-1]]+c[tourenplan[k][i],i-1])\n",
    "            for i in range(posOpt-1, 0, -1):\n",
    "                ezf[tourenplan[k][i]] = min(ezf[tourenplan[k][i]], ezf[tourenplan[k][i+1]]-c[tourenplan[k][i],i+1])\n",
    "            print(szf)\n",
    "            print(ezf)\n",
    "            \n",
    "            Kunden.remove(jOpt) #Entferne den eigesetzten Kunden aus der Liste der noch ausstehenden Kunden\n",
    "        \n",
    "        else:\n",
    "            reject = copy.deepcopy(Kunden)\n",
    "            Kunden = []\n",
    "   \n"
   ]
  },
  {
   "cell_type": "markdown",
   "metadata": {},
   "source": [
    "GANTT CHART"
   ]
  },
  {
   "cell_type": "code",
   "execution_count": null,
   "metadata": {},
   "outputs": [],
   "source": [
    "def convert_to_datetime(x):\n",
    "      return datetime.fromtimestamp(31536000+x*24*3600).strftime(\"%Y-%m-%d\")"
   ]
  },
  {
   "cell_type": "code",
   "execution_count": null,
   "metadata": {},
   "outputs": [],
   "source": [
    "start = copy.deepcopy(startzeitfenster[:-1])\n",
    "ende = copy.deepcopy(endezeitfenster[:-1])"
   ]
  },
  {
   "cell_type": "code",
   "execution_count": null,
   "metadata": {},
   "outputs": [],
   "source": [
    "for j in range(len(start)):\n",
    "    start[j] = convert_to_datetime(start[j])\n",
    "    ende[j] = convert_to_datetime(ende[j])"
   ]
  },
  {
   "cell_type": "code",
   "execution_count": null,
   "metadata": {},
   "outputs": [],
   "source": [
    "num_tick_labels = np.linspace(start = 0, stop = 100, num = 21, dtype = int)\n",
    "date_ticks = [convert_to_datetime(x) for x in num_tick_labels]"
   ]
  },
  {
   "cell_type": "code",
   "execution_count": null,
   "metadata": {},
   "outputs": [],
   "source": [
    "df = pd.DataFrame({'Kunde': I, \"Start\": start , \"Finish\": ende})"
   ]
  },
  {
   "cell_type": "code",
   "execution_count": null,
   "metadata": {},
   "outputs": [],
   "source": [
    "fig = ff.create_gantt(df)\n",
    "fig.layout.xaxis.update({\n",
    "        'tickvals' : date_ticks,\n",
    "        'ticktext' : num_tick_labels\n",
    "        })\n",
    "fig.update_yaxes(autorange=\"reversed\")\n",
    "fig.show()"
   ]
  },
  {
   "cell_type": "code",
   "execution_count": null,
   "metadata": {},
   "outputs": [],
   "source": [
    "for i in range(1, 0, -1):\n",
    "    print(i)"
   ]
  },
  {
   "cell_type": "code",
   "execution_count": null,
   "metadata": {},
   "outputs": [],
   "source": [
    "import plotly.express as px\n",
    "fig2 = px.timeline(df, x_start=\"Start\", x_end=\"Finish\", y=\"Kunde\")\n",
    "fig2.layout.xaxis.update({\n",
    "        'tickvals' : date_ticks,\n",
    "        'ticktext' : num_tick_labels\n",
    "        })\n",
    "fig2.update_yaxes(autorange=\"reversed\")\n",
    "fig2.show()"
   ]
  },
  {
   "cell_type": "code",
   "execution_count": null,
   "metadata": {},
   "outputs": [],
   "source": []
  }
 ],
 "metadata": {
  "kernelspec": {
   "display_name": "Python 3",
   "language": "python",
   "name": "python3"
  },
  "language_info": {
   "codemirror_mode": {
    "name": "ipython",
    "version": 3
   },
   "file_extension": ".py",
   "mimetype": "text/x-python",
   "name": "python",
   "nbconvert_exporter": "python",
   "pygments_lexer": "ipython3",
   "version": "3.7.1"
  }
 },
 "nbformat": 4,
 "nbformat_minor": 4
}
