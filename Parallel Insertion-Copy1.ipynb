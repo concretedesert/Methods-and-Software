{
 "cells": [
  {
   "cell_type": "code",
   "execution_count": 40,
   "metadata": {},
   "outputs": [],
   "source": [
    "import numpy as np\n",
    "import copy"
   ]
  },
  {
   "cell_type": "code",
   "execution_count": 41,
   "metadata": {},
   "outputs": [],
   "source": [
    "kapa = 3 #kapazität der Fahrzeuge\n",
    "M = 1000 \n",
    "I = [0,1,2,3,4,5] #Kunden+Depot = Knoten\n",
    "K = 2 #Anzahl Fahrzeuge = Anzahl Touren\n",
    "seed = [2, 5] #Vordefinierte Seed Customer\n",
    "c = np.array([[0,12,24,10,24,25],[12,0,24,21,14,27],\n",
    "              [24,24,0,32,37,48],[10,21,32,0,30,22],[24,14,37,30,0,25],[25,27,48,22,25,0]]) #Kostenmatrix\n",
    "startzeitfenster = [0, 20, 10, 50, 55, 0]\n",
    "endezeitfenster = [100, 40, 35, 70, 65, 100]\n",
    "kundenOffen = copy.deepcopy(I)\n",
    "kundenOffen.remove(0)"
   ]
  },
  {
   "cell_type": "code",
   "execution_count": 42,
   "metadata": {},
   "outputs": [
    {
     "data": {
      "text/plain": [
       "array([[ 0, 12, 24, 10, 24, 25],\n",
       "       [12,  0, 24, 21, 14, 27],\n",
       "       [24, 24,  0, 32, 37, 48],\n",
       "       [10, 21, 32,  0, 30, 22],\n",
       "       [24, 14, 37, 30,  0, 25],\n",
       "       [25, 27, 48, 22, 25,  0]])"
      ]
     },
     "execution_count": 42,
     "metadata": {},
     "output_type": "execute_result"
    }
   ],
   "source": [
    "c"
   ]
  },
  {
   "cell_type": "code",
   "execution_count": 43,
   "metadata": {},
   "outputs": [],
   "source": [
    "#Bedarf für unser Ride-Sharing Problem egal\n",
    "#bedarf = ([1]*6) \n",
    "#bedarf[0] = 0 "
   ]
  },
  {
   "cell_type": "code",
   "execution_count": 44,
   "metadata": {},
   "outputs": [],
   "source": [
    "kunden = [i for i in kundenOffen if i not in seed] #Alle Kunden die noch nicht im Tourenplan sind\n",
    "tourenplan = []\n",
    "tourenplan.append([0,5,0]) #hier manuell vorgegeben, sollte leer sein\n",
    "tourenplan.append([0,2,0])"
   ]
  },
  {
   "cell_type": "code",
   "execution_count": 45,
   "metadata": {},
   "outputs": [
    {
     "data": {
      "text/plain": [
       "[[0, 5, 0], [0, 2, 0]]"
      ]
     },
     "execution_count": 45,
     "metadata": {},
     "output_type": "execute_result"
    }
   ],
   "source": [
    "tourenplan"
   ]
  },
  {
   "cell_type": "code",
   "execution_count": 46,
   "metadata": {},
   "outputs": [
    {
     "data": {
      "text/plain": [
       "[1, 3, 4]"
      ]
     },
     "execution_count": 46,
     "metadata": {},
     "output_type": "execute_result"
    }
   ],
   "source": [
    "kunden"
   ]
  },
  {
   "cell_type": "code",
   "execution_count": 47,
   "metadata": {},
   "outputs": [],
   "source": [
    "def parinsertion (tourenplan, kunden, M, bedarf, K, kapa):\n",
    "    #in jeder Iteration wird ein Kunde aus der Liste genommen, bis diese leer ist\n",
    "    while kunden != []:\n",
    "        pOpt = M #initialisiert mit sehr hoher Zahl M\n",
    "        for j in kunden:\n",
    "            #K ist die Anzahl der Touren/Fahrzeuge\n",
    "            for k in range(K): \n",
    "                aktuelleLadung = sum(bedarf[j] for j in tourenplan[k])\n",
    "                if aktuelleLadung + bedarf[j] <= kapa: #feasibility check\n",
    "                    for pos in range(1, len(tourenplan[k])): #M ist die position in Tour k (eigentlich menge der Kunden)\n",
    "                        kosten = c[tourenplan[k][pos-1],j]+c[j,tourenplan[k][pos]]-c[tourenplan[k][pos-1],tourenplan[k][pos]]#-1 ist letzte position\n",
    "                        if  kosten < pOpt: #Verwende die \"optimale\" Lösung\n",
    "                            jOpt = j\n",
    "                            kOpt = k\n",
    "                            posOpt = pos\n",
    "                            pOpt = kosten\n",
    "        tourenplan[kOpt].insert(posOpt,jOpt)   #Setze denn \"optimalen\" Kunden, an der \"optimalen\" Posititon im \"optimalen\" Tourenplan ein\n",
    "        kunden.remove(jOpt) #Entferne den eigesetzten Kunden aus der Liste der noch ausstehenden Kunden\n",
    "    return tourenplan"
   ]
  },
  {
   "cell_type": "code",
   "execution_count": 48,
   "metadata": {},
   "outputs": [
    {
     "data": {
      "text/plain": [
       "[[0, 3, 5, 4, 0], [0, 1, 2, 0]]"
      ]
     },
     "execution_count": 48,
     "metadata": {},
     "output_type": "execute_result"
    }
   ],
   "source": [
    "opttourenplan = parinsertion(tourenplan, kunden, M, bedarf, K, kapa)\n",
    "opttourenplan"
   ]
  },
  {
   "cell_type": "code",
   "execution_count": 50,
   "metadata": {},
   "outputs": [
    {
     "name": "stdout",
     "output_type": "stream",
     "text": [
      "141\n"
     ]
    }
   ],
   "source": [
    "gesamtkost = 0\n",
    "for k in range(K):\n",
    "    tourkost = 0\n",
    "    for pos in range(len(tourenplan[k])-1):\n",
    "        tourkost = tourkost + c[tourenplan[k][pos],tourenplan[k][pos+1]]\n",
    "    gesamtkost = gesamtkost + tourkost \n",
    "print(gesamtkost) "
   ]
  },
  {
   "cell_type": "code",
   "execution_count": null,
   "metadata": {},
   "outputs": [],
   "source": []
  }
 ],
 "metadata": {
  "kernelspec": {
   "display_name": "Python 3",
   "language": "python",
   "name": "python3"
  },
  "language_info": {
   "codemirror_mode": {
    "name": "ipython",
    "version": 3
   },
   "file_extension": ".py",
   "mimetype": "text/x-python",
   "name": "python",
   "nbconvert_exporter": "python",
   "pygments_lexer": "ipython3",
   "version": "3.7.1"
  }
 },
 "nbformat": 4,
 "nbformat_minor": 4
}
