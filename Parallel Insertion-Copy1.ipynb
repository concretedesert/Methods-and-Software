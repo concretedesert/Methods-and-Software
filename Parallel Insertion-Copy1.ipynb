{
 "cells": [
  {
   "cell_type": "code",
   "execution_count": 33,
   "metadata": {},
   "outputs": [],
   "source": [
    "import numpy as np\n",
    "import copy"
   ]
  },
  {
   "cell_type": "code",
   "execution_count": 70,
   "metadata": {},
   "outputs": [],
   "source": [
    "kapa = 3 #kapazität der Fahrzeuge\n",
    "M = 1000 \n",
    "I = [0,1,2,3,4,5] #Kunden+Depot = Knoten\n",
    "K = 2 #Anzahl Fahrzeuge = Anzahl Touren\n",
    "seed = [2, 5] #Vordefinierte Seed Customer\n",
    "c = np.array([[0,12,24,10,24,25],[12,0,24,21,14,27],\n",
    "              [24,24,0,32,37,48],[10,21,32,0,30,22],[24,14,37,30,0,25],[25,27,48,22,25,0]]) #Kostenmatrix\n",
    "kundenOffen = copy.deepcopy(I)\n",
    "kundenOffen.remove(0)"
   ]
  },
  {
   "cell_type": "code",
   "execution_count": 71,
   "metadata": {},
   "outputs": [
    {
     "data": {
      "text/plain": [
       "array([[ 0, 12, 24, 10, 24, 25],\n",
       "       [12,  0, 24, 21, 14, 27],\n",
       "       [24, 24,  0, 32, 37, 48],\n",
       "       [10, 21, 32,  0, 30, 22],\n",
       "       [24, 14, 37, 30,  0, 25],\n",
       "       [25, 27, 48, 22, 25,  0]])"
      ]
     },
     "execution_count": 71,
     "metadata": {},
     "output_type": "execute_result"
    }
   ],
   "source": [
    "c"
   ]
  },
  {
   "cell_type": "code",
   "execution_count": 72,
   "metadata": {},
   "outputs": [],
   "source": [
    "#Bedarf ist 1 für alle Kunden und null für das Depot\n",
    "bedarf = ([1]*6)\n",
    "bedarf[0] = 0 "
   ]
  },
  {
   "cell_type": "code",
   "execution_count": 73,
   "metadata": {},
   "outputs": [],
   "source": [
    "kunden = [i for i in kundenOffen if i not in seed]\n",
    "tourenplan = []\n",
    "tourenplan.append([0,5,0])\n",
    "tourenplan.append([0,2,0])"
   ]
  },
  {
   "cell_type": "code",
   "execution_count": 74,
   "metadata": {},
   "outputs": [
    {
     "data": {
      "text/plain": [
       "[[0, 5, 0], [0, 2, 0]]"
      ]
     },
     "execution_count": 74,
     "metadata": {},
     "output_type": "execute_result"
    }
   ],
   "source": [
    "tourenplan"
   ]
  },
  {
   "cell_type": "code",
   "execution_count": 75,
   "metadata": {},
   "outputs": [
    {
     "data": {
      "text/plain": [
       "[1, 3, 4]"
      ]
     },
     "execution_count": 75,
     "metadata": {},
     "output_type": "execute_result"
    }
   ],
   "source": [
    "kunden"
   ]
  },
  {
   "cell_type": "code",
   "execution_count": 13,
   "metadata": {},
   "outputs": [],
   "source": [
    "def parinsertion (tourenplan, kunden, M, bedarf, K, kapa):\n",
    "    while kunden != []:\n",
    "        pOpt = M\n",
    "        for j in kunden:\n",
    "            for k in range(K):\n",
    "                aktuelleLadung = sum(bedarf[j] for j in tourenplan[k])\n",
    "                if aktuelleLadung + bedarf[j] <= kapa:\n",
    "                    for pos in range(1, len(tourenplan[k])-1): #M ist die position in Tour k (eigentlich menge der Kunden)\n",
    "                        kosten = c[tourenplan[k][pos-1],j]+c[j,tourenplan[k][pos]]+c[tourenplan[k][pos-1],tourenplan[k][pos]]#-2 ist vorletzte position?\n",
    "                        if  kosten < pOpt: \n",
    "                            jOpt = j\n",
    "                            kOpt = k\n",
    "                            posOpt = pos\n",
    "                            pOpt = kosten\n",
    "            tourenplan[k].insert(pos,jOpt)   \n",
    "            kunden.remove(jOpt)\n",
    "    return tourenplan"
   ]
  },
  {
   "cell_type": "code",
   "execution_count": 12,
   "metadata": {},
   "outputs": [
    {
     "data": {
      "text/plain": [
       "[[0, 5, 0], [0, 3, 1, 4, 2, 0]]"
      ]
     },
     "execution_count": 12,
     "metadata": {},
     "output_type": "execute_result"
    }
   ],
   "source": [
    "opttourenplan = parinsertion(tourenplan, kunden, M, bedarf, K, kapa)\n",
    "opttourenplan"
   ]
  },
  {
   "cell_type": "code",
   "execution_count": 9,
   "metadata": {},
   "outputs": [
    {
     "name": "stdout",
     "output_type": "stream",
     "text": [
      "0\n",
      "1\n"
     ]
    }
   ],
   "source": [
    "for k in range(K):\n",
    "    print(k)"
   ]
  },
  {
   "cell_type": "code",
   "execution_count": 10,
   "metadata": {},
   "outputs": [
    {
     "name": "stdout",
     "output_type": "stream",
     "text": [
      "156\n"
     ]
    }
   ],
   "source": [
    "gesamtkost = 0\n",
    "for k in range(K):\n",
    "    tourkost = 0\n",
    "    for pos in range(len(tourenplan[k])-1):\n",
    "        tourkost = tourkost + c[tourenplan[k][pos],tourenplan[k][pos+1]]\n",
    "    gesamtkost = gesamtkost + tourkost \n",
    "print(gesamtkost) "
   ]
  },
  {
   "cell_type": "code",
   "execution_count": 68,
   "metadata": {},
   "outputs": [
    {
     "name": "stdout",
     "output_type": "stream",
     "text": [
      "j:  1\n",
      "k:  0\n",
      "aktuelleLadung:  1\n",
      "kosten:  64\n",
      "pOPT:  64\n",
      "kosten:  64\n",
      "pOPT:  64\n",
      "k:  1\n",
      "aktuelleLadung:  1\n",
      "kosten:  60\n",
      "pOPT:  60\n",
      "kosten:  60\n",
      "pOPT:  60\n",
      "j:  3\n",
      "k:  0\n",
      "aktuelleLadung:  1\n",
      "kosten:  57\n",
      "pOPT:  57\n",
      "kosten:  57\n",
      "pOPT:  57\n",
      "k:  1\n",
      "aktuelleLadung:  1\n",
      "kosten:  66\n",
      "pOPT:  57\n",
      "kosten:  66\n",
      "pOPT:  57\n",
      "j:  4\n",
      "k:  0\n",
      "aktuelleLadung:  1\n",
      "kosten:  74\n",
      "pOPT:  57\n",
      "kosten:  74\n",
      "pOPT:  57\n",
      "k:  1\n",
      "aktuelleLadung:  1\n",
      "kosten:  85\n",
      "pOPT:  57\n",
      "kosten:  85\n",
      "pOPT:  57\n",
      "[[0, 5, 0], [0, 2, 3, 0]]\n",
      "j:  1\n",
      "k:  0\n",
      "aktuelleLadung:  1\n",
      "kosten:  64\n",
      "pOPT:  64\n",
      "kosten:  64\n",
      "pOPT:  64\n",
      "k:  1\n",
      "aktuelleLadung:  2\n",
      "kosten:  60\n",
      "pOPT:  60\n",
      "kosten:  77\n",
      "pOPT:  60\n",
      "kosten:  43\n",
      "pOPT:  43\n",
      "j:  4\n",
      "k:  0\n",
      "aktuelleLadung:  1\n",
      "kosten:  74\n",
      "pOPT:  43\n",
      "kosten:  74\n",
      "pOPT:  43\n",
      "k:  1\n",
      "aktuelleLadung:  2\n",
      "kosten:  85\n",
      "pOPT:  43\n",
      "kosten:  99\n",
      "pOPT:  43\n",
      "kosten:  64\n",
      "pOPT:  43\n",
      "[[0, 5, 0], [0, 2, 3, 1, 0]]\n",
      "j:  4\n",
      "k:  0\n",
      "aktuelleLadung:  1\n",
      "kosten:  74\n",
      "pOPT:  74\n",
      "kosten:  74\n",
      "pOPT:  74\n",
      "k:  1\n",
      "aktuelleLadung:  3\n",
      "[[0, 5, 0], [0, 2, 4, 3, 1, 0]]\n"
     ]
    }
   ],
   "source": [
    "while kunden != []:\n",
    "        pOpt = M\n",
    "        for j in kunden:\n",
    "            print(\"j: \",j)\n",
    "            for k in range(K):\n",
    "                print(\"k: \",k)\n",
    "                aktuelleLadung = sum(bedarf[j] for j in tourenplan[k])\n",
    "                print(\"aktuelleLadung: \", aktuelleLadung)\n",
    "                if aktuelleLadung + bedarf[j] <= kapa:\n",
    "                    for pos in range(1, len(tourenplan[k])): #M ist die position in Tour k (eigentlich menge der Kunden)\n",
    "                        kosten = c[tourenplan[k][pos-1],j]+c[j,tourenplan[k][pos]]+c[tourenplan[k][pos-1],tourenplan[k][pos]]#-2 ist vorletzte position?\n",
    "                        print(\"kosten: \", kosten)\n",
    "                        if  kosten < pOpt: \n",
    "                            jOpt = j\n",
    "                            kOpt = k\n",
    "                            posOpt = pos\n",
    "                            pOpt = kosten\n",
    "                        print(\"pOPT: \",pOpt)\n",
    "        tourenplan[k].insert(pos,jOpt)\n",
    "        print(tourenplan)\n",
    "        kunden.remove(jOpt)"
   ]
  },
  {
   "cell_type": "code",
   "execution_count": 15,
   "metadata": {},
   "outputs": [
    {
     "data": {
      "text/plain": [
       "1"
      ]
     },
     "execution_count": 15,
     "metadata": {},
     "output_type": "execute_result"
    }
   ],
   "source": [
    "bedarf[1]"
   ]
  },
  {
   "cell_type": "code",
   "execution_count": 77,
   "metadata": {},
   "outputs": [
    {
     "name": "stdout",
     "output_type": "stream",
     "text": [
      "14\n",
      "14\n"
     ]
    }
   ],
   "source": [
    "for pos in range(1, len(tourenplan[0])):\n",
    "    print(c[tourenplan[0][pos-1],1]+\n",
    "    c[1,tourenplan[0][pos]]-\n",
    "    c[tourenplan[0][pos-1],tourenplan[0][pos]])"
   ]
  },
  {
   "cell_type": "code",
   "execution_count": null,
   "metadata": {},
   "outputs": [],
   "source": []
  }
 ],
 "metadata": {
  "kernelspec": {
   "display_name": "Python 3",
   "language": "python",
   "name": "python3"
  },
  "language_info": {
   "codemirror_mode": {
    "name": "ipython",
    "version": 3
   },
   "file_extension": ".py",
   "mimetype": "text/x-python",
   "name": "python",
   "nbconvert_exporter": "python",
   "pygments_lexer": "ipython3",
   "version": "3.7.6"
  }
 },
 "nbformat": 4,
 "nbformat_minor": 4
}
