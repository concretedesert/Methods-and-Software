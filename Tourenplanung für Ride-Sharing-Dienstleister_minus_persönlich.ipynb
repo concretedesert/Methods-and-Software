{
 "cells": [
  {
   "cell_type": "markdown",
   "metadata": {},
   "source": [
    "*DISCLAIMER: Dieses Tutorial verwendet das Add-On Codefolding aus Nbextensions. Sollten Sie dieses nicht installiert haben, empfehlen wir das jetzt zu tun, um das Tutorial bestmöglich nutzen zu können.*\n",
    "\n",
    "*Unter dem folgenden Link finden Sie eine ausführliche Anleitung\n",
    "https://jupyter-contrib-nbextensions.readthedocs.io/en/latest/install.html.\n",
    "Achten Sie darauf den Notebook Server nach der Installation neu zu starten.* \n",
    "\n",
    "*In diesem Notebook sind einige der Codezellen mit Hilfe des Codefolding eingeklappt. Dieser Code dient der Implementierung und Veranschaulichung des Problems. Für Ihr Verständnis genügt es die ausgeklappten Zellen nachvollziehen zu können. Sie können die eingeklappten Zellen eingeklappt lassen. Wichtig ist, dass Sie alle eingeklappten und ausgeklappten Codezellen der Reihe nach ausführen.*"
   ]
  },
  {
   "cell_type": "code",
   "execution_count": 1,
   "metadata": {},
   "outputs": [],
   "source": [
    "# Libraries importieren\n",
    "from copy import deepcopy\n",
    "import sys\n",
    "import matplotlib.pyplot as plt\n",
    "from random import sample, randint, seed\n",
    "from math import floor, ceil\n",
    "import ipywidgets as widgets\n",
    "import IPython as IPy"
   ]
  },
  {
   "cell_type": "markdown",
   "metadata": {},
   "source": [
    "# Tourenplanung für Ride-Sharing-Dienstleister"
   ]
  },
  {
   "cell_type": "markdown",
   "metadata": {},
   "source": [
    "Beim On-Demand Ride-Sharing handelt es sich um eine relativ neue Entwicklung, bei der ein Anbieter einen Transportservice für Kunden zur Verfügung stellt. Dabei unterscheidet sich das Ride-Sharing Konzept von herkömmlichen Taxiunternehmen hauptsächlich darin, dass Kunden nicht nacheinander bedient werden. Es ist möglich, dass zwei oder mehr Kunden im Fahrzeug sitzen, wenn sich ihre Routen vereinbaren lassen. Dabei buchen die Kunden ihre Fahrt nicht in Voraus, sondern genau dann wenn sie benötigt wird [1]. Ein Beispiel für einen solchen Ride-Sharing Service ist UberPool [2]. "
   ]
  },
  {
   "cell_type": "markdown",
   "metadata": {},
   "source": [
    "Das Tourenplanungsproblem, das sich mit der Planung von Touren für Ride-Sharing-Dienstleister befasst, ist das Dial-a-ride Problem (DARP). Dieses unterscheidet sich von anderen Tourenplanungsproblem zunächst darin, dass sowohl Startorte, als auch Zielorte geplant werden. Außerdem entsteht durch das spezielle Fördergut \"Kunde\" eine paarweise Verbindung zwischen Startort und Zielort. Im Gegensatz zu einem homogenen Gut, wie Geld, bei dem jeder Zielort von einem beliebigen Startort beliefert werden kann, ist der Kunde ein heterogenes Gut, d.h. jeder Zielort muss vom zugehörigen Startort bedient werden [3]. Zusätzlich ergeben sich durch die Beförderung von Kunden oft weitere, zu berücksichtigende Kriterien, wie z.B. die im Fahrzeug verbrachte Zeit [4]."
   ]
  },
  {
   "cell_type": "markdown",
   "metadata": {},
   "source": [
    "Eine Standarddefinition des DARP kommt von Cordeau und Laporte [4]:\n",
    "<center>\"In the dial-a-ride problem (DARP), $n$ users specify transportation requests between given origins and destinations. Users may provide a time window on their desired departure or arrival time, or on both. Transportation is supplied by a fleet of $m$ vehicles based at a common depot. The aim is to design a set of least cost vehicle routes capable of accommodating all requests, under a set of constraints.\" [4, p.1]</center>"
   ]
  },
  {
   "cell_type": "markdown",
   "metadata": {},
   "source": [
    "Im Weiteren beschäftigen wir uns mit dem dynamischen DARP (DDARP), wie es von Haferkamp und Ehmke [2] vorgestellt wird. Da im dynamischen Fall die Kundenanfragen nur nach und nach bekannt werden, müssen beim Eintreffen jeder einzelnen Anfrage zwei Planungsentscheidungen getroffen werden:\n",
    "  1. Wird der Kunde akzeptiert? $\\longrightarrow$ **Akzeptanzentscheidung**\n",
    "  2. Und wenn ja, wie sieht der neue Routenplan aus? $\\longrightarrow$ **Routingentscheidung**"
   ]
  },
  {
   "cell_type": "markdown",
   "metadata": {},
   "source": [
    "Im dynamischen DDARP von Haferkamp und Ehmke [2] müssen nicht alle Kunden akzeptiert werden, jedoch soll die Akzeptanzrate durch eine effizientere Tourenplanung maximiert werden. Um das zu erreichen, schlagen Haferkamp und Ehmke [2] vor, zukünftige Kundenanfragen zu antizipieren und diese mit in die Planungsentscheidungen einzubeziehen.\n",
    "\n",
    "Es werden vier Ausprägungen von Antizipation betrachtet:\n",
    "1. **None Anticipatory / Myopisch**: Zukünftige Kunden werden nicht beachtet. Jeder Kunde der in den Tourenplan eingefügt werden kann, wird akzeptiert. Der Routenplan wird für alle noch nicht ausgeführten Kunden neu erstellt.\n",
    "2. **Anticipatory Acceptance**: Zukünftige Kunden werden bei der Akzeptanzentscheidung beachtet. Bei jeder Anfrage wird geprüft, ob sie unter Berücksichtigung zukünftiger Kunden vorteilhaft ist. Wenn nicht, wird sie abgelehnt. Der Routenplan wird für alle noch nicht ausgeführten Kunden neu erstellt.\n",
    "3. **Anticipatory Routing**: Zukünftige Kunden werden bei der Routingentscheidung beachtet. Jeder Kunde, der in den Tourenplan eingefügt werden kann, wird akzeptiert. Annahme: Die Planung efolgt für den nächsten Tag. Bei der Optimierung des Routenplans werden alle Kunden beachtet, auch die, die bei einer Planung für den selben Tag schon bedient worden wären. \n",
    "4. **Fully Anticipatory**: Kombination aus Anticipatory Acceptance und Anticipatory Routing. Bei jeder Anfrage wird geprüft, ob sie unter Berücksichtigung zukünftiger Kunden vorteilhaft ist. Wenn nicht, wird sie abgelehnt. Bei der Optimierung des Routenplans werden alle Kunden beachtet. Durch die Annahme von perfekter Information kann das Problem statisch gelöst werden."
   ]
  },
  {
   "cell_type": "markdown",
   "metadata": {},
   "source": [
    "In Teil 1 beginnen wir mit der detaillierten Problemdefinition für den nicht-antizipatorischen Fall des DDARPs, den wir anhand eines Beispiels veranschaulichen. In Teil 2 folgt die Einführung der zwei für die Problemlösung wesentlichen Methoden, die Large Neighborhood Search (LNS) und die Parallel Insertion-Heuristik. Damit lösen wir unser Beispielproblem. Anschließend folgt in Teil 3 ein Ausblick über weitere Anwendungen des DDARPs.\n",
    "\n",
    "Bei allem orientieren wir uns, wenn nicht anders angegeben, an Haferkamp und Ehmke [2]. Ziel ist es nicht, deren Analyse nachzustellen, sondern ein \"Proof of Concept\" für ihr Vorgehen zu erhalten."
   ]
  },
  {
   "cell_type": "markdown",
   "metadata": {},
   "source": [
    "## Teil 1: Ride-Sharing Problem"
   ]
  },
  {
   "cell_type": "markdown",
   "metadata": {},
   "source": [
    "Im Folgenden werden die Bausteine des nicht-antizipatorischen Ride-Sharing-Problems eingeführt und durch Beispiele erklärt."
   ]
  },
  {
   "cell_type": "markdown",
   "metadata": {},
   "source": [
    "### 1.1 Kundenanfragen"
   ]
  },
  {
   "cell_type": "code",
   "execution_count": 2,
   "metadata": {
    "code_folding": [
     0,
     17,
     27,
     39
    ]
   },
   "outputs": [],
   "source": [
    "class Request:\n",
    "\n",
    "    # Klassenübergreifende Zählvariable: Anzahl der erstellten Request-Objekte\n",
    "    count = 0\n",
    "\n",
    "    def __init__(self, pickup_loc, dropoff_loc, request_time, alpha):\n",
    "        # Erzeuge einzigartige ID für jedes Request-Objekt und inkrementiere Zählvariable\n",
    "        Request.count += 1\n",
    "        self.id = Request.count\n",
    "        # Empfangszeit der Anfrage und frühester Abholzeitpunkt beim Startort\n",
    "        self.request_time = request_time\n",
    "        # Spätest mögliche Ankunftszeit des Kunden am Zielort\n",
    "        self.latest_dropoff = request_time + distance(pickup_loc, dropoff_loc) + alpha\n",
    "        # Zur Anfrage zugehörige Start- und Zielorte\n",
    "        self.pickup = PickUp(pickup_loc, self)\n",
    "        self.dropoff = DropOff(dropoff_loc, self)\n",
    "\n",
    "class PickUp:\n",
    "    is_pickup = True\n",
    "    is_dropoff = False\n",
    "\n",
    "    def __init__(self, loc, request):\n",
    "        # Koordinaten (num, num) des Startortes\n",
    "        self.loc = loc\n",
    "        # Zugehörige Kundenanfrage\n",
    "        self.request = request\n",
    "\n",
    "class DropOff:\n",
    "    is_pickup = False\n",
    "    is_dropoff = True\n",
    "\n",
    "    def __init__(self, loc, request):\n",
    "        # Koordinaten (num, num) des Zielortes\n",
    "        self.loc = loc\n",
    "        # Zugehörige Kundenanfrage\n",
    "        self.request = request\n",
    "\n",
    "# Distanz (in Zeiteinheiten) zwischen zwei Orten loc1 und loc2\n",
    "# Hier: euklidische Distanz. Das Innere der Funktion kann durch andere Distanzmaße ersetzt werden.\n",
    "def distance(loc1, loc2):\n",
    "    return ((loc1[0] - loc2[0])**2 + (loc1[1] - loc2[1])**2)**0.5"
   ]
  },
  {
   "attachments": {
    "Request,%20Pickup,%20Dropoff.jpg": {
     "image/jpeg": "[encoded data removed]"
    }
   },
   "cell_type": "markdown",
   "metadata": {},
   "source": [
    "![Request,%20Pickup,%20Dropoff.jpg](attachment:Request,%20Pickup,%20Dropoff.jpg)"
   ]
  },
  {
   "cell_type": "markdown",
   "metadata": {
    "slideshow": {
     "slide_type": "-"
    }
   },
   "source": [
    "Mit einer Kundenanfrage $r \\in \\mathcal{R}$ (*request*) frägt ein Kunde eine Fahrt von einem Startort $p_r$ (*Pick-Up*) zu einem Zielort $d_r$ (*Drop-Off*) an. Die Orte werden durch Klassen repräsentiert, die die Koordinaten des Ortes ($x, y$) beinhalten. Jede Kundenanfrage hat eine Anfragezeit $t_r$ (*request time*), die den Zeitpunkt, zu dem der Kunde eine Anfrage stellt, beschreibt.\n",
    "\n",
    "Die Fahrt muss innerhalb des Zeitfensters [$t_r, m_r$] (*time window*) durchgeführt werden. Der früheste Abholzeitpunkt wird durch die Anfragezeit des Kunden $t_r$ festgelegt. Vorausbuchungen sind somit nicht möglich. Der späteste Ankunftszeitpunkt des Kunden am Zielort $m_r = t_r + c_{p_r,d_r} + \\alpha$ ergibt sich aus der Empfangszeit der Anfrage $t_r$, der euklidischen Distanz zwischen dem Start- und dem Zielort $c_{p_r,d_r}$ (*distance*) und $\\alpha$. Der Parameter $\\alpha$ bezeichnet die vom Kunden maximal tolerierte Verzögerungszeit, die durch Wartezeiten und abweichende Touren durch Bedienung anderer Kunden entsteht. Eine Distanzeinheit entspricht einer Zeiteinheit."
   ]
  },
  {
   "cell_type": "markdown",
   "metadata": {},
   "source": [
    "**Beispiel:** Ein Kunde fragt eine Fahrt vom Startort (3, 4) zum Zielort (3, 0) zum Zeitpunkt $t_r=$ 0 an. Es wird angenommen, dass der Kunde eine Verzögerung von $\\alpha=$ 30 Zeiteinheiten akzeptiert. Die beiden Orte sind vier Zeiteinheiten voneinander entfernt.\n",
    "\n",
    "Hieraus ergibt sich, dass die Fahrt innerhalb des Zeitfensters [0, 0 + 4 + 30] = [0, 34] absolivert werden muss."
   ]
  },
  {
   "cell_type": "code",
   "execution_count": 3,
   "metadata": {
    "code_folding": [
     2,
     4,
     6
    ]
   },
   "outputs": [
    {
     "name": "stdout",
     "output_type": "stream",
     "text": [
      "Anfragezeit des Kunden: 0\n",
      "Distanz zwischen Startort und Zielort: 4.0\n",
      "Späteste Ankunft am Zielort: 34.0\n"
     ]
    }
   ],
   "source": [
    "# Code-Beispiel\n",
    "bsp_request = Request(pickup_loc=(3, 4), dropoff_loc=(3, 0), request_time=0, alpha=30)\n",
    "print(\"Anfragezeit des Kunden: \"+\n",
    "     str(bsp_request.request_time))\n",
    "print(\"Distanz zwischen Startort und Zielort: \" +\n",
    "     str(distance(bsp_request.pickup.loc, bsp_request.dropoff.loc)))\n",
    "print(\"Späteste Ankunft am Zielort: \" +\n",
    "     str(bsp_request.latest_dropoff))"
   ]
  },
  {
   "cell_type": "markdown",
   "metadata": {},
   "source": [
    "Auf Bedienzeiten, etwa die Einstiegsdauer und die Verifizierung des Kunden wird der Einfachheit halber verzichtet."
   ]
  },
  {
   "cell_type": "markdown",
   "metadata": {},
   "source": [
    "### 1.2 Touren"
   ]
  },
  {
   "cell_type": "code",
   "execution_count": 4,
   "metadata": {
    "code_folding": [
     2,
     21,
     37,
     38,
     43,
     50,
     75,
     100,
     115
    ]
   },
   "outputs": [],
   "source": [
    "class Tour:\n",
    "\n",
    "    def __init__(self, depot_loc=(0, 0), M=sys.maxsize):\n",
    "        # Erstelle Pseudo-Request depot. depot_loc ist Start- und Zielstandort\n",
    "        depot = Request(depot_loc, depot_loc, 0, M)\n",
    "        Request.count -= 1\n",
    "        depot.id = 'D'\n",
    "        # Tour: Abfolge von Pickups und Dropoffs, Tour beginnt und endet mit dem Depot\n",
    "        self.tour = [depot.pickup, depot.dropoff]\n",
    "        # Early: Frühestmögliche und geplante Besuchszeit des Standortes in Tour. \n",
    "        self.early = [0, 0]\n",
    "        # Late: Spätest mögliche Besuchszeit\n",
    "        self.late = [M, M]\n",
    "        # Length: Länge der Tour\n",
    "        self.length = 2\n",
    "        # Gesamtkosten der Tour\n",
    "        self.total_cost = 0\n",
    "        # Positionen der Standorte der Tour\n",
    "        self.dict_place_positions = {}\n",
    "\n",
    "    # Check: Ist der PickUp/DropOff in Position i der Tour einfügbar?\n",
    "    def check_insert_feasible(self, place, i):\n",
    "        p_id = place.request.id\n",
    "        temp = [(elem.is_pickup, elem.request.id) for elem in self.tour]\n",
    "        # DropOff muss in die gleiche Tour wie der PickUp eingefügt\n",
    "        # UND DropOff muss nach dem Pickup eingefügt werden.\n",
    "        if place.is_dropoff and ((True, p_id) not in temp[:i] or (False, p_id) in temp):\n",
    "            return False\n",
    "        # PickUp ist nicht vor dem DropOff einfügbar\n",
    "        if place.is_pickup and ((False, p_id) in temp[:i] or (True, p_id) in temp):\n",
    "            return False\n",
    "        # Die Zeitfenster aller Ort der Tour müssen eingehalten werden. \n",
    "        # Verletzt, falls e > l\n",
    "        e, l = self.insertion_time_window(place, i)\n",
    "        return e <= l\n",
    "        \n",
    "    # Berechne anfallende Einfügekosten, falls Pick-Up / Drop-Off place in Position i eingefügt wird\n",
    "    def insertion_cost(self, place, i):\n",
    "        return (distance(self.tour[i-1].loc, place.loc) + distance(place.loc, self.tour[i].loc)\n",
    "                - distance(self.tour[i-1].loc, self.tour[i].loc))\n",
    "\n",
    "    # Berechnen des Zeitfensters des Ortes, falls es in die Position i der Tour eingefügt wird\n",
    "    # Entnommen aus: Campbell and Savelsbergh [5]\n",
    "    def insertion_time_window(self, place, i):\n",
    "        e = max(place.request.request_time, self.early[i-1]) + distance(self.tour[i-1].loc, place.loc)\n",
    "        l = min(place.request.latest_dropoff, \n",
    "                self.late[i] - distance(place.loc, self.tour[i].loc))\n",
    "        return e, l\n",
    "\n",
    "    # Füge den Ort place in Position i der Tour ein\n",
    "    def insert(self, place, i):\n",
    "        # aktualisiere die Gesamtkosten der Tour\n",
    "        self.total_cost += self.insertion_cost(place, i)\n",
    "        # Einfügen von place in die Position i der Liste tour\n",
    "        self.tour.insert(i, place)\n",
    "        # Die Anzahl der Orte der Tour vergrößert sich\n",
    "        self.length += 1\n",
    "        # Berechne Zeitfenster des neuen Ortes und füge es in early und late ein\n",
    "        e, l = self.insertion_time_window(self.tour[i], i)\n",
    "        self.early.insert(i, e)\n",
    "        self.late.insert(i, l)\n",
    "        # Berechne die Zeitfenster neu: Early - vorwärts, Late - rückwärts\n",
    "        for k in range(i, -1, -1):\n",
    "            self.late[k] = min(self.late[k], self.late[k+1] - distance(self.tour[k].loc, self.tour[k+1].loc))\n",
    "        # Update der Zeitfenster (early) der Orte nach dem neuen Ort\n",
    "        for k in range(i+1, self.length):\n",
    "            self.early[k] = max(self.early[k], self.early[k-1] + distance(self.tour[k-1].loc, self.tour[k].loc))\n",
    "         # Update der Positionen der Orte nach dem neuen Ort im Dictionary:\n",
    "        for key in self.dict_place_positions:\n",
    "            if self.dict_place_positions[key] >= i:\n",
    "                self.dict_place_positions[key] += 1\n",
    "        # Einfügen der Position des neuen Ortes ins Dictionary\n",
    "        self.dict_place_positions[place] = i\n",
    "    \n",
    "    # entferne den PickUp/DropOff auf Position i der Tour\n",
    "    def remove(self, i):\n",
    "        place = self.tour[i]\n",
    "        # Lösche den Ort place von tour, early, late und dem Dictionary\n",
    "        del self.tour[i]\n",
    "        del self.early[i]\n",
    "        del self.late[i]\n",
    "        del self.dict_place_positions[place]\n",
    "        # Reduziere die Gesamtkosten der Tour um die Einfügekosten des entfernten Ortes\n",
    "        self.total_cost -= self.insertion_cost(place, i)\n",
    "        # Reduziere die Anzahl der Orte der Tour\n",
    "        self.length -= 1\n",
    "        # Berechne die Zeitfenster neu: Early - vorwärts, Late - rückwärts\n",
    "        for k in range(1, self.length):\n",
    "            self.early[k] = max(self.tour[k].request.request_time + distance(self.tour[k-1].loc, self.tour[k].loc), \n",
    "                self.early[k-1] + distance(self.tour[k-1].loc, self.tour[k].loc))\n",
    "        for k in range(self.length-2, -1, -1):\n",
    "            self.late[k] = min(self.tour[k].request.latest_dropoff, \n",
    "                self.late[k+1] - distance(self.tour[k].loc, self.tour[k+1].loc))\n",
    "        # Reduziere die Position im Dictionary für die nachfolgenden Orte\n",
    "        for key in self.dict_place_positions:\n",
    "            if self.dict_place_positions[key] >= i:\n",
    "                self.dict_place_positions[key] -= 1\n",
    "    \n",
    "    # Gebe die Kundenanfragen aus, die zum Zeitpunkt time aus der Tour entfernbar sind\n",
    "    # entfernbar: Kundenanfragen, deren Startort und Zielort nach time liegen UND noch nicht angefahren wurden\n",
    "    def get_removable_requests(self, time):\n",
    "        result = []\n",
    "        # v: Position der Tour, die im Zeitpunkt time als nächstes bedient / angefahren wird\n",
    "        v = len([e for e in self.early if e <= time])\n",
    "        # Startort auf Position v => Startort wird als nächstes angefahren und ist somit nicht entfernbar,\n",
    "        # da der nächste angefahrene Ort nicht abrupt änderbar ist.\n",
    "        # Folglich müssen sowohl der Startort, als auch der Zielort > v sein\n",
    "        for key in self.dict_place_positions:\n",
    "            if (key.is_pickup \n",
    "                and self.dict_place_positions[key] > v \n",
    "                and self.dict_place_positions[key.request.dropoff] > v):\n",
    "                result.append(key.request)\n",
    "        return result\n",
    "    \n",
    "    # Gebe eine Liste aus mit der Abfolge von: (ID, Koordinaten, früheste | geplante Besuchszeit, Art des Ortes)\n",
    "    def printable(self):\n",
    "        result = []\n",
    "        for i in range(self.length):\n",
    "            if i == 0 or i == self.length-1:\n",
    "                typ = \"D\"\n",
    "            elif self.tour[i].is_pickup:\n",
    "                typ = \"PU\"\n",
    "            else:\n",
    "                typ = \"DO\"\n",
    "            result.append((self.tour[i].request.id, \n",
    "                           self.tour[i].loc, \n",
    "                           round(self.early[i], 2), \n",
    "                           #round(self.late[i], 2), \n",
    "                           typ))\n",
    "        return result"
   ]
  },
  {
   "attachments": {
    "Tour.jpg": {
     "image/jpeg": "[encoded data removed]"
    }
   },
   "cell_type": "markdown",
   "metadata": {},
   "source": [
    "![Tour.jpg](attachment:Tour.jpg)"
   ]
  },
  {
   "cell_type": "markdown",
   "metadata": {},
   "source": [
    "Eine Tour $v \\in \\mathcal{V}$ entspricht der geplanten Fahrt eines Fahrzeugs des Ride-Sharing-Anbieters. Die Kapazität jedes Fahrzeuges ist unbeschränkt und die Fahrzeuge unterscheiden sich nicht voneinander. Auf eine Kapazitätsbeschränkung kann verzichtet werden, da die Kundenanfragen kurze Zeitfenster aufweisen und es somit unwahrscheinlich ist, viele Kunden gleichzeitig in einem Fahrzeug unterbringen zu müssen.\n",
    "\n",
    "Jede Tour beginnt zum Zeitpunkt 0 und wird mit den Koordinaten der Startposition des Fahrzeugs (*depot*) initialisiert. Die anfänglich geplante Tour besteht aus einer Rundreise, die mit diesem Depot beginnt und endet. Mit dem heuristischen Verfahren werden die Startorte $p_r$ und Zielorte $d_r$ der Kundenanfragen $r$ in die Touren eingefügt (*insert*) und entfernt (*remove*), wobei die Liste *tour* die Abfolge der Orte darstellt. Damit ein Ort an einer Position in die Tour eingefügt werden kann, muss die daraus resultierende Tour zulässig sein (*feasibility check*). \n",
    "\n",
    "Es müssen die Zeitfenster jeder einzelnen Kundenanfragen innerhalb der Tour berücksichtigt werden. Hierzu werden die frühesten und spätesten möglichen Besuchszeiten der Orte innerhalb der Tour mit $e_{p_r}, e_{d_r}, l_{p_r}$ und $l_{d_r}$ (*early*, *late*) festgehalten. Die tatsächlich geplante Besuchszeit der Orte $z_{p_r}, z_{d_r}$ entspricht der frühestmöglichen Besuchszeiten $e_{p_r}, e_{d_r}$ (*early*). \n",
    "\n",
    "Zudem wird die Anzahl der Orte in der Tour (*length*) und die Gesamtreisezeit der Tour (*total_cost*) festgehalten."
   ]
  },
  {
   "cell_type": "markdown",
   "metadata": {},
   "source": [
    "#### 1.2.1 Einfügekosten"
   ]
  },
  {
   "cell_type": "markdown",
   "metadata": {},
   "source": [
    "Nach der Maximierung der Akzeptanzquote, ist die Minimierung der Gesamtreisedauer (*total_cost*) das zweite Ziel. Die Gesamtreisedauer entspricht den Gesamtkosten. Bei gleicher Anzahl von akzeptierten Kundenanfragen, wird der Tourenplan mit der geringeren Gesamtreisedauer bevorzugt. Ihre Berechnung erfolgt anhand der Einfügekosten (*insertion_cost*). Beim Einfügen eines neuen Ortes (*neu*) auf die Position $i$ der Tour, werden die Einfügekosten wie folgt berechnet und zu den *total_cost* hinzugefügt. \n",
    "\n",
    "Gleichung der Einfügekosten:\n",
    "$c_{insert} = c_{tour_{i-1}, neu} + c_{neu, tour_{i}} - c_{tour_{i-1}, tour_{i}}$ "
   ]
  },
  {
   "cell_type": "markdown",
   "metadata": {},
   "source": [
    "**Beispiel:** Mit dem Einfügen des neuen Zielortes (3, 0) auf die Position 2 in die Beispieltour (0, 0), (3, 4), (0, 0) mit der Gesamtreisedauer von 10 Zeiteinheiten, ergibt sich die neue Tour (0, 0), (3, 4), (3, 0), (0, 0). \n",
    "\n",
    "Die Einfügekosten betragen im Beispiel $c_{(3, 4), (3, 0)} + c_{(3, 0), (0, 0)} - c_{(3, 4), (0, 0)} =$ 4 + 3 - 5 = 2 und die Gesamtreisedauer steigt somit von 10 auf 12 Zeiteinheiten."
   ]
  },
  {
   "cell_type": "code",
   "execution_count": 5,
   "metadata": {
    "code_folding": [
     4,
     6,
     10
    ]
   },
   "outputs": [
    {
     "name": "stdout",
     "output_type": "stream",
     "text": [
      "Gesamtkosten vor Einfügen:  10.0\n",
      "Einfügekosten (3, 0) auf Position 2:  2.0\n",
      "Gesamtkosten nach Einfügen:  12.0\n"
     ]
    }
   ],
   "source": [
    "# Beispielinstanz erstellen und vorbereiten\n",
    "bsp_tour = Tour(depot_loc=(0, 0), M=100)\n",
    "# Füge (3, 4) auf Position 1 ein\n",
    "bsp_tour.insert(bsp_request.pickup, 1)\n",
    "print(\"Gesamtkosten vor Einfügen: \", \n",
    "      bsp_tour.total_cost)\n",
    "print(\"Einfügekosten (3, 0) auf Position 2: \", \n",
    "      bsp_tour.insertion_cost(bsp_request.dropoff, 2))\n",
    "# Füge (3, 0) auf Position 2 ein\n",
    "bsp_tour.insert(bsp_request.dropoff, 2)\n",
    "print(\"Gesamtkosten nach Einfügen: \", \n",
    "      bsp_tour.total_cost)"
   ]
  },
  {
   "cell_type": "markdown",
   "metadata": {},
   "source": [
    "#### 1.2.2 Zeitfenster"
   ]
  },
  {
   "cell_type": "markdown",
   "metadata": {},
   "source": [
    "Bei der Erstellung der Touren müssen die Zeitfenster [$t_r, m_r$] aller Kundenanfragen $r$ berücksichtigt werden. So darf ein Startort nicht vor der Anfragezeit $t_r$ angefahren werden und ein Zielort muss spätestens zur spätesten Ankunftszeit $m_r$ bedient werden. Das muss für alle Orte einer Tour gewährleistet sein. Hierfür wird für jeden Ort der Tour das Zeitfenster [$e_{ort}, l_{ort}$] definiert. Wird ein neuer Ort zwischen Position $i-1$ und $i$ in die Tour eingesetzt, erfolgt die Berechnung der Zeitfenster angelehnt an Campbell und Savelsbergh [5] wie folgt:\n",
    "\n",
    "$e_{neu} = max(t_{neu}, e_{i-1}) + c_{i-1, neu}$\n",
    "\n",
    "$l_{neu} = min(m_{neu}, l_i - c_{neu, i})$\n",
    "\n",
    "Der früheste Besuchszeitpunkt $e_{neu}$ wird in Abhängigkeit der frühesten Besuchszeitpunkt des vorigen Ortes $e_{i-1}$ und der Reisezeit von dem vorigen Ort zum neuen Ort $c_{i-1, neu}$ berechnet. Falls der vorige Kunde bereits besucht wurde und das Fahrzeug beim letzten Ort auf die Ankunft einer neuen Kundenanfrage wartet, ergibt sich die früheste Besuchszeit aus dem Zeitpunkt der neuen Kundenanfrage $t_{neu}$ und der Reisezeit $c_{i-1, neu}$. Hier unterscheidet sich unser Vorgehen von dem von Campbell und Savelsbergh [5], weil sie von einem statischen Problem ausgehen, in dem die frühesten Besuchszeiten $t_r$ aller Kundenanfragen bereits im Vorhinein bekannt sind. Im dynamischen Fall wird die Kundenanfrage erst zum Zeitpunkt $t_r$ bekannt und die Reisezeit $c_{i-1, neu}$ muss somit berücksichtigt werden.\n",
    "\n",
    "Der späteste Besuch des neuen Ortes $l_{neu}$ muss vor der spätesten tolerierten Ankunftszeit der neuen Kundenanfrage am Zielort $m_{neu}$ und der spätesten möglichen Ankunftszeit des nächsten Ortes $l_i$ unter Berücksichtigung der Reisedauer $c_{neu, i}$ erfolgen. \n",
    "\n",
    "Ist es nicht möglich, die früheste Besuchszeit $e_{neu}$ vor der spätesten Besuchszeit $l_{neu}$ einzubringen ($e > l$), so können die Zeitfenster der anderen Kundenanfragen [$t_r, m_r$] nicht eingehalten werden und die gesamte Tour ist nicht zulässig.\n",
    "\n",
    "Zwar ist es möglich, die Orte in jedem Zeitpunkt zwischen [$e_{ort}, l_{ort}$] zu besuchen, ohne dass sich die Zulässigkeit der Tour und die Gesamtreisedauer ändert, jedoch wird hier angenommen, dass jeder Ort zur frühestmöglichen Besuchszeit $e_{ort}$ besucht wird ($z_{ort} = e_{ort}$). So kann im dynamischen Kontext besser auf zukünftige, unbekannte Kundenanfragen $r$ reagiert werden und es wird eine bessere Kundenzufriedenheit durch geringere Wartezeiten für den Kunden erzielt."
   ]
  },
  {
   "cell_type": "markdown",
   "metadata": {},
   "source": [
    "Wird ein neuer Ort auf Position $i$ in die Tour eingefügt, müssen die Zeitfenster [$e_{ort}, l_{ort}$] der anderen Orte wie folgt angepasst werden. Dabei entspricht $n$ der Anzahl der eingefügten Orte.\n",
    "\n",
    "für Position $k = i - 1$ bis $0$:\n",
    "* $l_k = min(l_k, k_{k+1} - c_{k, k+1})$\n",
    "\n",
    "für Position $k = i$ bis $n + 1$:\n",
    "* $e_k = max(e_k, e_{k-1} + c_{k-1, k})$\n",
    "\n",
    "Auch nach dem Entfernen eines Ortes aus der Tour, werden die Zeitfenster aktualisiert."
   ]
  },
  {
   "cell_type": "markdown",
   "metadata": {},
   "source": [
    "**Beispiel:** Ausgehend von der vorigen Tour (0, 0), (3, 4), (3, 0), (0, 0), wird der Startort (0, 4) mit der Ankunftszeit $t_{r}=$ 8 auf Position 2 der Tour gesetzt. Hieraus folgt die neue Tour: (0, 0), (3, 4), (0, 4), (3, 0), (0, 0). \n",
    "\n",
    "Die früheste Besuchszeit des vorigen Ortes ist $e_{(3, 4)}=$ 5 und die Distanz vom vorigen Ort zum neuen Ort ist $c_{(3, 4), (0, 4)}=$ 3. Die früheste Besuchszeit des neuen Ortes ergibt sich nun aus $e_{(0, 4)}=$ $max$($t_{neu}, e_{i-1}$) $ + c_{i-1, neu}=$ $max$(8, 5) + 3 = 11. In diesem Fall ist die Ankunftszeit der Anfrage $t_{r}=$ 8 einschränkend. Folglich wartet das Fahrzeug beim Ort (3, 4) drei Zeiteinheiten (Zeitpunkt 5 bis 8) auf den Eingang der neuen Kundenanfrage.\n",
    "\n",
    "Die späteste Besuchszeit des nächsten Ortes ist $l_{(3, 0)}=$ 34, die Distanz vom neuen Ort zum nächsten Ort ist $c_{(0, 4), (3, 0)}=$ 5 und der späteste Ankunftszeitpunkt beim Zielort ist $m_{(3, 0)} =$ 40. Die späteste Besuchszeit des neuen Ortes ist $l_{(0, 4)}=min$($m_{neu}, l_i - c_{neu, i}$)$ = min$(40, 34 - 5) = 29\n",
    "\n",
    "Somit ist das Zeitfenster des neuen Ortes [11, 29]."
   ]
  },
  {
   "cell_type": "code",
   "execution_count": 6,
   "metadata": {
    "code_folding": [
     1,
     3,
     5,
     8,
     10
    ]
   },
   "outputs": [
    {
     "name": "stdout",
     "output_type": "stream",
     "text": [
      "Vor einfügen - e_i: [0, 5.0, 9.0, 12.0]\n",
      "Vor einfügen - l_i: [25.0, 30.0, 34.0, 100]\n",
      "Zeitfenster des Ortes (1, 2) in Position 2: (11.0, 29.0)\n",
      "Nach einfügen - e_i: [0, 5.0, 11.0, 16.0, 19.0]\n",
      "Nach einfügen - l_i: [21.0, 26.0, 29.0, 34.0, 100]\n"
     ]
    }
   ],
   "source": [
    "bsp_request = Request(pickup_loc=(0, 4), dropoff_loc=(0, 2), request_time=8, alpha=30)\n",
    "print(\"Vor einfügen - e_i: \" + \n",
    "      str(bsp_tour.early))\n",
    "print(\"Vor einfügen - l_i: \" + \n",
    "      str(bsp_tour.late))\n",
    "print(\"Zeitfenster des Ortes (1, 2) in Position 2: \" +\n",
    "     str(bsp_tour.insertion_time_window(bsp_request.pickup, 2)))\n",
    "bsp_tour.insert(bsp_request.pickup, 2)\n",
    "print(\"Nach einfügen - e_i: \" + \n",
    "      str(bsp_tour.early))\n",
    "print(\"Nach einfügen - l_i: \" + \n",
    "      str(bsp_tour.late))"
   ]
  },
  {
   "cell_type": "markdown",
   "metadata": {},
   "source": [
    "#### 1.2.3 Feasibility Check"
   ]
  },
  {
   "cell_type": "markdown",
   "metadata": {},
   "source": [
    "Damit eine Tour zulässig ist, müssen die folgenden vier Punkte gelten (*feasibility check*):\n",
    "\n",
    "1. Der Startort und der Zielort einer Kundenanfrage müssen in der gleichen Tour liegen.\n",
    "2. Der Zielort einer Kundenanfrage muss nach ihrem Startort bedient werden.\n",
    "3. Bereits zu einem Zeitpunkt bediente Kunden, sowie Kunden, die sich derzeit in einem Fahrzeug befinden und Kunden, die derzeit angefahren werden, können nicht aus der Tour entfernt werden.\n",
    "4. Die Bedienzeit jedes Ortes muss sich in dem gültigen Zeitfenster [$e_{ort}, l_{ort}$] befinden."
   ]
  },
  {
   "cell_type": "markdown",
   "metadata": {},
   "source": [
    "**Beispiel :** In die vorige Tour [Depot: (0, 0), Startort 1: (3, 4), Startort 2: (0, 4), Zielort 1 (3, 0), Depot: (0, 0)] wird der Zielort der Kundenanfrage 2 (0, 2) an verschiedenen Positionen eingesetzt."
   ]
  },
  {
   "cell_type": "code",
   "execution_count": 7,
   "metadata": {
    "code_folding": [
     2
    ]
   },
   "outputs": [
    {
     "name": "stdout",
     "output_type": "stream",
     "text": [
      "Startort vor Zielort?  False\n"
     ]
    }
   ],
   "source": [
    "# Zielort 2 (0, 2) auf Position 1 setzen\n",
    "# False: Zielort vor zugehörigem Startort\n",
    "print(\"Startort vor Zielort? \", \n",
    "      bsp_tour.check_insert_feasible(bsp_request.dropoff, 1))"
   ]
  },
  {
   "cell_type": "code",
   "execution_count": 8,
   "metadata": {
    "code_folding": [
     3
    ]
   },
   "outputs": [
    {
     "name": "stdout",
     "output_type": "stream",
     "text": [
      "Startort und Zielort in der gleichen Tour?  False\n"
     ]
    }
   ],
   "source": [
    "# Zielort 2 (0, 2) auf Position 1 einer neuen Tour (0, 0), (0, 0) setzen\n",
    "# False: Zielort in einer anderen Tour als der Startort\n",
    "bsp_tour2 = Tour((0, 0))\n",
    "print(\"Startort und Zielort in der gleichen Tour? \", \n",
    "      bsp_tour2.check_insert_feasible(bsp_request.dropoff, 1))"
   ]
  },
  {
   "cell_type": "code",
   "execution_count": 9,
   "metadata": {
    "code_folding": [
     2
    ]
   },
   "outputs": [
    {
     "name": "stdout",
     "output_type": "stream",
     "text": [
      "Ist die Tour zulässig?  True\n"
     ]
    }
   ],
   "source": [
    "# Zielort 2 (0, 2) auf Position 3 der ersten Tour setzen\n",
    "# True: Zielort nach Startort in gleicher Tour und Zeitfenster eingehalten\n",
    "print(\"Ist die Tour zulässig? \",\n",
    "      bsp_tour.check_insert_feasible(bsp_request.dropoff, 3))"
   ]
  },
  {
   "cell_type": "markdown",
   "metadata": {},
   "source": [
    "### 1.3 Entscheidungsepochen"
   ]
  },
  {
   "cell_type": "code",
   "execution_count": 10,
   "metadata": {
    "code_folding": [
     0
    ]
   },
   "outputs": [],
   "source": [
    "class DecisionEpoch:\n",
    "\n",
    "    def __init__(self, new_request, tours, beta, gamma1, gamma2):\n",
    "        # Zeitpunkt der Entscheidungsepoche = Anfragezeitpunkt der neuen Anfrage\n",
    "        self.time = new_request.request_time\n",
    "        # Die neue Kundenanfrage\n",
    "        self.request = new_request\n",
    "        self.tours = deepcopy(tours)\n",
    "        # Akzeptanzentscheidung: Wird die neue Kundenanfrage angenommen (accept = True)? \n",
    "        self.accept, self.solution = LNS(self, \"accept\", beta, gamma1, gamma2)\n",
    "        # Re-Optimierung, falls vorige Kundenanfrage angenommen wurde\n",
    "        if self.accept:\n",
    "            self.tours = self.solution\n",
    "            _, self.solution = LNS(self, \"re-routing\", beta, gamma1, gamma2)"
   ]
  },
  {
   "attachments": {
    "Epoch.jpg": {
     "image/jpeg": "[encoded data removed]"
    }
   },
   "cell_type": "markdown",
   "metadata": {},
   "source": [
    "![Epoch.jpg](attachment:Epoch.jpg)"
   ]
  },
  {
   "cell_type": "markdown",
   "metadata": {},
   "source": [
    "Die Ankunft jeder neuen Kundenanfrage $r_k$ erzeugt eine neue Entscheidungsepoche $k \\in \\mathcal{K}$. Sie ist durch ihren Zeitpunkt *time* charakterisiert, die der Anfragezeit des Kunden $t_r$ entspricht. Die Entscheidungsepochen sind für den dynamischen Fall essentiell, da sie jede Stufe des Entscheidungsprozesses abbilden. Zu Beginn der ersten Stufe, die durch die erste Kundenanfrage ausgelöst wird, befinden sich alle Fahrzeuge in ihrem Startzustand am Depot und es gibt keine ausstehenden Kundenanfragen. In jeder neuen Stufe stellt sich die Frage, ob der Ride-Sharing-Anbieter die neue Kundenanfrage annimmt ($accept_k=$ 1), oder ablehnt ($accept_k=$ 0). \n",
    "\n",
    "Zudem muss der Ride-Sharing-Anbieter einen gültigen Tourenplan $y_k$ (*solution*) erstellen, der bis zur nächsten Entscheidungsepoche *k+1* ausgeführt wird. Die Entscheidung in jeder Stufe ist von den bisher getroffenen Entscheidungen in den Vorepochen abhängig. So können für die aktuelle Entscheidung keine bereits akzeptieren Kundenanfragen abgelehnt werden und die Durchführbarkeit der Touren muss gewährleistet bleiben (1.2.3). Bisher bediente Kunden, die sich in *time* in einem Fahrzeug befinden und Kunden, die derzeit von einem Fahrzeug angefahren werden, können nicht aus der Tour entfernt werden."
   ]
  },
  {
   "cell_type": "markdown",
   "metadata": {},
   "source": [
    "### 1.4 Ride-Sharing"
   ]
  },
  {
   "cell_type": "code",
   "execution_count": 11,
   "metadata": {
    "code_folding": [
     3,
     7,
     11,
     25,
     51,
     129
    ]
   },
   "outputs": [],
   "source": [
    "class RideSharing:\n",
    "\n",
    "    # Füge eine neue Kundenanfrage zur Instanz hinzu\n",
    "    def add_request(self, pickup_loc, dropoff_loc, request_time, alpha):\n",
    "        self.requests.append(Request(pickup_loc, dropoff_loc, request_time, alpha))\n",
    "\n",
    "    # Füge eine neue Tour zur Instanz hinzu\n",
    "    def add_tour(self, depot_loc, latest_return=sys.maxsize):\n",
    "        self.tours.append(Tour(depot_loc, latest_return))\n",
    "\n",
    "    # Löse das Problem myopisch\n",
    "    def solve(self):\n",
    "        # Sortiere die Kundenanfragen nach ihrer Ankunftszeit und arbeite sie in dieser Reihenfolge ab\n",
    "        self.requests = sorted(self.requests, key=lambda x: x.request_time)\n",
    "        for request in self.requests:\n",
    "            # Neue Kundenanfrage -> neue Entscheidungseopche\n",
    "            new_epoch = DecisionEpoch(request, self.tours, self.beta, self.gamma1, self.gamma2)\n",
    "            # Aktueller Tourenplan nach dieser Eopche\n",
    "            self.tours = new_epoch.tours\n",
    "            self.epochs.append(new_epoch)\n",
    "            # Wurde die Kundenanfrage in dieser Epoche angenommen?\n",
    "            if new_epoch.accept == False:\n",
    "                self.rejected_requests.append(new_epoch.request)\n",
    "    \n",
    "    # Scatter-Plot: Koordinaten der Startorte, der Zielorte und der Depots\n",
    "    def visualize_init_state(self):\n",
    "        # Ermittle Koordinaten der Startorte, Zielorte und der Depots\n",
    "        x_pickup = [req.pickup.loc[0] for req in self.requests]\n",
    "        y_pickup = [req.pickup.loc[1] for req in self.requests]\n",
    "        x_dropoff = [req.dropoff.loc[0] for req in self.requests]\n",
    "        y_dropoff = [req.dropoff.loc[1] for req in self.requests]\n",
    "        x_tour = [tour.tour[0].loc[0] for tour in self.tours]\n",
    "        y_tour = [tour.tour[0].loc[1] for tour in self.tours]\n",
    "        # Füge Koordinaten zum Plot hinzu\n",
    "        plt.plot(x_pickup, y_pickup,'o', label=\"PickUp\")\n",
    "        plt.plot(x_dropoff, y_dropoff, 'ro', label=\"DropOff\")\n",
    "        plt.plot(x_tour, y_tour, 'mo', label=\"TourDepot\")\n",
    "        # Füge Labels hinzu\n",
    "        for i in range(len(self.requests)):\n",
    "            plt.text((x_pickup[i]+0.1),(y_pickup[i]+0.1), self.requests[i].id)\n",
    "            plt.text((x_dropoff[i]+0.1),(y_dropoff[i]+0.1), self.requests[i].id)\n",
    "        for i in range(len(self.tours)):\n",
    "            plt.text((x_tour[i]+0.1), (y_tour[i]+0.1), \"D\")\n",
    "        # Skaliere Achsen dynamisch\n",
    "        plt.axis([min(0, *x_pickup, *x_dropoff, *x_tour), max(0, *x_pickup, *x_dropoff, *x_tour)+1,\n",
    "                min(0, *y_pickup, *y_dropoff, *y_tour), max(0, *y_pickup, *y_dropoff, *y_tour)+1])\n",
    "        plt.grid()\n",
    "        plt.legend()\n",
    "        plt.show()\n",
    "        \n",
    "    # Erstelle Gantt-ähnliche Abbildung\n",
    "    def visualize_tours(self, k=None, height=10):\n",
    "        # Wahl: Den Tourenplan welcher Entscheidungsepoche darstellen\n",
    "        # Standard: Tourenplan der letzten Epoche\n",
    "        if k is None:\n",
    "            k = len(self.epochs) - 1\n",
    "        tours_temp = self.epochs[k].solution\n",
    "        # Erstelle mehrere Plots (# Anzahl Touren + 1 (für abgelehnte Kundenanfragen))\n",
    "        fig, axs = plt.subplots(len(tours_temp)+1, figsize=(20, len(tours_temp)*4))\n",
    "        # aktuelle Position des neuen Balkens\n",
    "        current_y_pos = 5\n",
    "        # Skalierung: Einheitliche Achsen für Subplots\n",
    "        max_end_t = 0\n",
    "        # Ein Subplot für jede Tour\n",
    "        for i in range(len(tours_temp)):\n",
    "            # Position der Kundenanfragen, Label\n",
    "            y_ticks = []\n",
    "            y_ticklabels = []\n",
    "            requests_temp = []\n",
    "            # Beschriftung der Tour: Nummer der Tour und Koordinaten\n",
    "            tour_loc = tours_temp[i].tour[0].loc\n",
    "            axs[i].set_ylabel(str(i+1) + \": \" + str(tour_loc))\n",
    "            # Ermittle Kundenanfragen der Tour\n",
    "            for j in range(1, tours_temp[i].length-1):\n",
    "                if tours_temp[i].tour[j].is_pickup:\n",
    "                    requests_temp.append(tours_temp[i].tour[j].request)\n",
    "            requests_temp = sorted(requests_temp, key=lambda x: x.request_time, reverse=True)\n",
    "            # Ermittle Eigenschaften jeder Kundenanfragen für die Beschriftung\n",
    "            for req in requests_temp:\n",
    "                req_t = req.request_time\n",
    "                end_t = req.latest_dropoff\n",
    "                # für X-Achsen-Skalierung\n",
    "                if end_t > max_end_t:\n",
    "                    max_end_t = end_t\n",
    "                pu_t = tours_temp[i].early[tours_temp[i].dict_place_positions[req.pickup]]\n",
    "                do_t = tours_temp[i].early[tours_temp[i].dict_place_positions[req.dropoff]]\n",
    "                r_id = req.id\n",
    "                pu_loc = req.pickup.loc\n",
    "                do_loc = req.dropoff.loc\n",
    "                # Füge neues unterbrochenes Barchart hinzu\n",
    "                # orange: Zeit vor Bearbeitung (Anfragezeit, Bedienzeit Startort)\n",
    "                # blau: Zeit (Fahrzeit Startort zum Zielort)\n",
    "                # orange2: Zeit nach Bearbeitung (Ankunft Zielort, letztmöglicher Ankunftszeitpunkt)\n",
    "                axs[i].broken_barh([(req_t, pu_t-req_t), (pu_t, do_t-pu_t), (do_t, end_t-do_t)],\n",
    "                                   (current_y_pos, height-1),\n",
    "                                   facecolors=(\"tab:orange\", \"tab:blue\", \"tab:orange\"))\n",
    "                y_ticks.append(current_y_pos + 0.5*height)\n",
    "                y_ticklabels.append(\"id:\" + str(r_id) + \": \" + str(pu_loc) + \" \" + str(do_loc))\n",
    "                current_y_pos += height\n",
    "            axs[i].set_yticks(y_ticks)\n",
    "            axs[i].set_yticklabels(y_ticklabels)\n",
    "        # Visualisiere die abgelehnten Kundenanfragen\n",
    "        axs[i+1].set_ylabel(\"rejected requests\")\n",
    "        sorted_rejects = sorted(self.rejected_requests, key=lambda x: x.request_time, reverse=True)\n",
    "        sorted_rejects = [rej for rej in sorted_rejects if self.epochs[k].time >= rej.request_time]\n",
    "        y_ticks = []\n",
    "        y_ticklabels = []\n",
    "        for reject in sorted_rejects:\n",
    "            r_id = reject.id\n",
    "            req_t = reject.request_time\n",
    "            end_t = reject.latest_dropoff\n",
    "            pu_loc = reject.pickup.loc\n",
    "            do_loc = reject.dropoff.loc\n",
    "            axs[i+1].broken_barh([(req_t, end_t-req_t)],\n",
    "                               (current_y_pos, height-1),\n",
    "                               facecolors=\"tab:orange\")\n",
    "            # für X-Achsen-Skalierung\n",
    "            if end_t > max_end_t:\n",
    "                max_end_t = end_t\n",
    "            y_ticks.append(current_y_pos + 0.5*height)\n",
    "            y_ticklabels.append(\"id:\" + str(r_id) + \": \" + str(pu_loc) + \" \" + str(do_loc))\n",
    "            current_y_pos += height\n",
    "        axs[i+1].set_yticks(y_ticks)\n",
    "        axs[i+1].set_yticklabels(y_ticklabels)\n",
    "        # x-Achsenskalierung dynamisch\n",
    "        for ax in axs:\n",
    "            ax.set_xlim(0, max_end_t*1.03)\n",
    "        plt.show()\n",
    "        \n",
    "    def __init__(self, beta, gamma1, gamma2):\n",
    "        Request.count = 0\n",
    "        self.requests = []\n",
    "        self.tours = []\n",
    "        self.epochs = []\n",
    "        self.rejected_requests = []\n",
    "        self.beta = beta\n",
    "        self.gamma1 = gamma1\n",
    "        self.gamma2 = gamma2"
   ]
  },
  {
   "attachments": {
    "RideSharing.jpg": {
     "image/jpeg": "[encoded data removed]"
    }
   },
   "cell_type": "markdown",
   "metadata": {},
   "source": [
    "![RideSharing.jpg](attachment:RideSharing.jpg)"
   ]
  },
  {
   "cell_type": "markdown",
   "metadata": {},
   "source": [
    "Die Klasse Ride-Sharing dient zur Repräsentation einer Instanz des Ride-Sharing-Problems und als Schnittstelle für den Benutzer. Er kann über den Aufruf *add_request* Kundenanfragen und *add_tour* Touren anlegen und zur Instanz hinzufügen. So kann der Benutzer alle für das Problem relevanten Parameter, inklusive der Hyperparameter der LNS, $\\beta$, $\\gamma_1$ und $\\gamma_2$, eingeben und über die Funktion *solve* den nicht-antizipatorischen Fall des DDARPs für die gewählte Instanz lösen.\n",
    "\n",
    "In der *solve*-Funktion wird das Problem aus Sicht des Ride-Sharing-Anbieters gelöst. Die Kundenanfragen werden aufsteigend nach ihrer Ankunftszeit $t_r$ sortiert und für jede Kundenanfrage wird eine neue Entscheidungsepoche erstellt. In jeder Entscheidungsepoche wird entschieden, ob der Ride-Sharing-Anbieter die Kundenanfrage annimmt und falls ja, wird der Routenplan optimiert. Ziel ist es, über alle Entscheidungsepochen die Akzeptanzquote der Kundenanfragen zu maximieren und bei gleicher Akzeptanzquote, die Gesamtreisedauer zu minimieren."
   ]
  },
  {
   "cell_type": "markdown",
   "metadata": {},
   "source": [
    "### 1.5 Globales Beispiel"
   ]
  },
  {
   "cell_type": "markdown",
   "metadata": {},
   "source": [
    "Für unsere globale Beispielinstanz verwenden wir zwei Fahrzeuge, die an den Orten (1, 1) und (6, 6) zum Zeitpunkt 0 starten. Außerdem legen wir die vier Kunden aus der folgenden Tabelle an. Alle Kunden tolerieren eine Verzögerung von 15 Zeiteinheiten."
   ]
  },
  {
   "cell_type": "markdown",
   "metadata": {},
   "source": [
    "\n",
    "Kunde | PickUp  | DropOff | Request Time | End Time | alpha\n",
    ":--|:---------:|:---------:|:---------:|:---------:|:---------:\n",
    "1|(1,8)   | (5,9) |0|19.12|15 \n",
    "2|(3,2)   | (8,5) |0|20.83|15\n",
    "3|(6,5)   | (3,4) |1|19.16|15\n",
    "4|(15,15) | (7,1) |3|34.12|15"
   ]
  },
  {
   "cell_type": "markdown",
   "metadata": {},
   "source": [
    "Führen Sie die folgende Zelle aus, um unsere Instanz des Ride-Sharing-Problems anzulegen."
   ]
  },
  {
   "cell_type": "code",
   "execution_count": 12,
   "metadata": {},
   "outputs": [],
   "source": [
    "instance = RideSharing(beta=10, gamma1=0.2, gamma2=0.8)\n",
    "instance.add_tour(depot_loc=(1, 1))\n",
    "instance.add_tour((6, 6))\n",
    "instance.add_request(pickup_loc=(1, 8), dropoff_loc=(5, 9), request_time=0, alpha=15)\n",
    "instance.add_request((3, 2), (8, 5), 0, 15)\n",
    "instance.add_request((6, 5), (3, 4), 1, 15)\n",
    "instance.add_request((15, 15), (7, 1), 3, 15)"
   ]
  },
  {
   "cell_type": "markdown",
   "metadata": {},
   "source": [
    "Ein kurzer Überblick über die Standorte:"
   ]
  },
  {
   "cell_type": "code",
   "execution_count": 13,
   "metadata": {},
   "outputs": [
    {
     "data": {
      "image/png": "[encoded data removed]",
      "text/plain": [
       "<Figure size 432x288 with 1 Axes>"
      ]
     },
     "metadata": {
      "needs_background": "light"
     },
     "output_type": "display_data"
    }
   ],
   "source": [
    "instance.visualize_init_state()"
   ]
  },
  {
   "cell_type": "code",
   "execution_count": 14,
   "metadata": {
    "code_folding": [
     0
    ]
   },
   "outputs": [
    {
     "data": {
      "application/vnd.jupyter.widget-view+json": {
       "model_id": "36fb2a6e68874322aefe5bb5351662e1",
       "version_major": 2,
       "version_minor": 0
      },
      "text/plain": [
       "BoundedIntText(value=7, description='X-Koordinate PickUp', style=DescriptionStyle(description_width='130px'))"
      ]
     },
     "metadata": {},
     "output_type": "display_data"
    },
    {
     "data": {
      "application/vnd.jupyter.widget-view+json": {
       "model_id": "0fd699fe11ee4843a3c7f633ce8ac67c",
       "version_major": 2,
       "version_minor": 0
      },
      "text/plain": [
       "BoundedIntText(value=5, description='Y-Koordinate PickUp', style=DescriptionStyle(description_width='130px'))"
      ]
     },
     "metadata": {},
     "output_type": "display_data"
    },
    {
     "data": {
      "application/vnd.jupyter.widget-view+json": {
       "model_id": "8627c075dcaf4438b456275e2401f62c",
       "version_major": 2,
       "version_minor": 0
      },
      "text/plain": [
       "BoundedIntText(value=4, description='X-Koordinate DropOff', style=DescriptionStyle(description_width='130px'))"
      ]
     },
     "metadata": {},
     "output_type": "display_data"
    },
    {
     "data": {
      "application/vnd.jupyter.widget-view+json": {
       "model_id": "ba445fe833604d8a90008579a5e8edd3",
       "version_major": 2,
       "version_minor": 0
      },
      "text/plain": [
       "BoundedIntText(value=3, description='Y-Koordinate DropOff', style=DescriptionStyle(description_width='130px'))"
      ]
     },
     "metadata": {},
     "output_type": "display_data"
    },
    {
     "data": {
      "application/vnd.jupyter.widget-view+json": {
       "model_id": "3a5014ba0ff14e23aeeb4faa35e3746c",
       "version_major": 2,
       "version_minor": 0
      },
      "text/plain": [
       "BoundedIntText(value=2, description='Request Time', style=DescriptionStyle(description_width='130px'))"
      ]
     },
     "metadata": {},
     "output_type": "display_data"
    },
    {
     "data": {
      "application/vnd.jupyter.widget-view+json": {
       "model_id": "0bf7091b97f2483a823b35a127f4eb73",
       "version_major": 2,
       "version_minor": 0
      },
      "text/plain": [
       "Button(description='Hinzufügen', style=ButtonStyle())"
      ]
     },
     "metadata": {},
     "output_type": "display_data"
    }
   ],
   "source": [
    "# Führen Sie diese Zelle aus, belegen Sie die Parameter und fügen Sie den Kunden 5 hinzu\n",
    "\n",
    "style = {'description_width': '130px'}\n",
    "xo = widgets.BoundedIntText(value=7, min=0, step=1,description='X-Koordinate PickUp',disabled=False, style=style)\n",
    "yo = widgets.BoundedIntText(value=5, min=0, step=1,description='Y-Koordinate PickUp',disabled=False, style=style)\n",
    "xd = widgets.BoundedIntText(value=4, min=0, step=1,description='X-Koordinate DropOff',disabled=False, style=style)\n",
    "yd = widgets.BoundedIntText(value=3, min=0, step=1,description='Y-Koordinate DropOff',disabled=False, style=style)\n",
    "rt = widgets.BoundedIntText(value=2, min=0, step=1,description='Request Time',disabled=False, style=style)\n",
    "\n",
    "button = widgets.Button(description=\"Hinzufügen\")\n",
    "\n",
    "def on_button_clicked(b):\n",
    "    instance.add_request((xo.value, yo.value), (xd.value, yd.value), rt.value, 15)\n",
    "\n",
    "button.on_click(on_button_clicked)\n",
    "\n",
    "display( xo, yo, xd, yd, rt,  button)"
   ]
  },
  {
   "cell_type": "markdown",
   "metadata": {},
   "source": [
    "Ein Überblick der Orte mit Kunde 5:"
   ]
  },
  {
   "cell_type": "code",
   "execution_count": 15,
   "metadata": {},
   "outputs": [
    {
     "data": {
      "image/png": "[encoded data removed]",
      "text/plain": [
       "<Figure size 432x288 with 1 Axes>"
      ]
     },
     "metadata": {
      "needs_background": "light"
     },
     "output_type": "display_data"
    }
   ],
   "source": [
    "instance.visualize_init_state()"
   ]
  },
  {
   "cell_type": "markdown",
   "metadata": {},
   "source": [
    "## Teil 2: Heuristisches Lösungverfahren für das DDARP"
   ]
  },
  {
   "cell_type": "markdown",
   "metadata": {},
   "source": [
    "Im nächsten Schritt lernen wir die Methoden kennen, die wir für die Lösung unseres nicht-antizipatorischen DDARPs brauchen."
   ]
  },
  {
   "cell_type": "markdown",
   "metadata": {},
   "source": [
    "### 2.1 Parallel Insertion"
   ]
  },
  {
   "cell_type": "markdown",
   "metadata": {},
   "source": [
    "Unsere Parallel Insertion-Heuristik arbeitet nach dem Best Insertion-Prinzip. Es wird versucht den \"besten\" Kunden, an der \"besten\" Stelle, in der \"besten\" Tour einzufügen. Das genaue Vorgehen schauen wir uns Schritt für Schritt für die erste Iteration an."
   ]
  },
  {
   "cell_type": "code",
   "execution_count": 16,
   "metadata": {},
   "outputs": [],
   "source": [
    "pOpt = 1000 # große Zahl M\n",
    "tours = instance.tours\n",
    "requests = instance.requests"
   ]
  },
  {
   "cell_type": "markdown",
   "metadata": {},
   "source": [
    "Wir beginnen mit dem ersten Kunden *j* = 0  und dem ersten Fahrzeug *k* = 0 im Tourenplan. Zunächst wird die frühestmögliche Einsetzposition in die Tour von Fahrzeug *k* gesucht. Dabei geht man davon aus, dass der Kunde nur nach allen zu diesem Zeitpunkt bereits bedienten Kunden eingefügt werden kann. Außerdem wird das Fahrzeug immer zuerst den Ort anfahren, zu dem es aktuell unterwegs ist. Ist die Tour beispielsweise die folgende Liste an Orten: [0,1,2,3,4,5] und das Fahrzeug ist aktuell zu Ort 3 unterwegs, dann kann der neue Kunde frühestens an Position 4 eingefügt werden."
   ]
  },
  {
   "cell_type": "code",
   "execution_count": 17,
   "metadata": {
    "code_folding": []
   },
   "outputs": [
    {
     "name": "stdout",
     "output_type": "stream",
     "text": [
      "Erste mögliche Position:  1\n"
     ]
    }
   ],
   "source": [
    "j = 0 \n",
    "k = 0 \n",
    "time = 1 # Zeitpunkt der Anfrage\n",
    "print(\"Erste mögliche Position: \", \n",
    "      min(len([e for e in tours[k].early if e <= time])+1, tours[k].length-1))"
   ]
  },
  {
   "cell_type": "markdown",
   "metadata": {},
   "source": [
    "Als nächstes wird mit dem Feasibility-Check geprüft, ob der Startort des Kunden an dieser Position *spos* = 1 eingefügt werden kann. Wenn ja: Welche Einfügekosten entstehen daraus? "
   ]
  },
  {
   "cell_type": "code",
   "execution_count": 18,
   "metadata": {
    "code_folding": []
   },
   "outputs": [
    {
     "name": "stdout",
     "output_type": "stream",
     "text": [
      "Feasibility Check:  True\n",
      "Einfügekosten Startort:  14.0\n"
     ]
    }
   ],
   "source": [
    "spos = 1 # Einfügeposition PickUp\n",
    "print(\"Feasibility Check: \",\n",
    "      tours[k].check_insert_feasible(requests[j].pickup, spos))\n",
    "\n",
    "if tours[k].check_insert_feasible(requests[j].pickup, spos):\n",
    "    skosten = tours[k].insertion_cost(requests[j].pickup, spos)\n",
    "    \n",
    "    print(\"Einfügekosten Startort: \", skosten)"
   ]
  },
  {
   "cell_type": "markdown",
   "metadata": {},
   "source": [
    "Da der Feasibility-Check für den Startort des Kunden erfolgreich war, wird dieser vorübergehend an Position 1 in die Tour von *k* eingesetzt. Dafür wird eine temporäre Variable belegt, die dazu dient, alle möglichen Zielort-Positionen für diese Startort-Position überprüfen zu können."
   ]
  },
  {
   "cell_type": "code",
   "execution_count": 19,
   "metadata": {},
   "outputs": [],
   "source": [
    "tour_temp = deepcopy(tours[k])\n",
    "tour_temp.insert(requests[j].pickup, spos)"
   ]
  },
  {
   "cell_type": "markdown",
   "metadata": {},
   "source": [
    "Als nächstes wird überprüft, ob der Zielort an der nächsten Position *epos* = 2 einfügt werden kann. Auch hier werden die Einfügekosten berechnet."
   ]
  },
  {
   "cell_type": "code",
   "execution_count": 20,
   "metadata": {
    "code_folding": []
   },
   "outputs": [
    {
     "name": "stdout",
     "output_type": "stream",
     "text": [
      "Feasibility Check: True\n",
      "Einfügekosten Zielort:  6.067377535616821\n"
     ]
    }
   ],
   "source": [
    "epos = 2 # Einfügeposition DropOff\n",
    "print(\"Feasibility Check:\",\n",
    "      tour_temp.check_insert_feasible(requests[j].dropoff, epos))\n",
    "\n",
    "if tour_temp.check_insert_feasible(requests[j].dropoff, epos):  \n",
    "    ekosten = tour_temp.insertion_cost(requests[j].dropoff, epos)\n",
    "    \n",
    "    print(\"Einfügekosten Zielort: \", ekosten)"
   ]
  },
  {
   "cell_type": "markdown",
   "metadata": {},
   "source": [
    "Wurde der Startort und der Zielort erfolgreich eingefügt, wird überprüft, ob die Gesamteinfügekosten kleiner als das aktuelle Optimum sind. Wenn dem so ist, werden der aktuelle \"beste\" Kunde, die \"beste\" Tour, die \"besten\" Positionen für den Startort und den Zielort, sowie die Gesamteinfügekosten, als das aktuelle Optimum gespeichert. Das Optimum der Gesamtkosten wird als sehr große Zahl *pOpt* initialisiert."
   ]
  },
  {
   "cell_type": "code",
   "execution_count": 21,
   "metadata": {
    "code_folding": []
   },
   "outputs": [
    {
     "name": "stdout",
     "output_type": "stream",
     "text": [
      "Kunde:  0\n",
      "Fahrzeug:  0\n",
      "Einfügeposition Startort:  1\n",
      "Einfügeposition Zielort:  2\n",
      "Gesamtkosten 20.06737753561682\n"
     ]
    }
   ],
   "source": [
    "if skosten + ekosten < pOpt:\n",
    "    reqOpt = j\n",
    "    print(\"Kunde: \", reqOpt)\n",
    "    \n",
    "    tourOpt = k\n",
    "    print(\"Fahrzeug: \", tourOpt)\n",
    "    \n",
    "    sposOpt = spos\n",
    "    print(\"Einfügeposition Startort: \", sposOpt)\n",
    "    \n",
    "    eposOpt = epos\n",
    "    print(\"Einfügeposition Zielort: \", eposOpt)\n",
    "    \n",
    "    pOpt = skosten + ekosten\n",
    "    print(\"Gesamtkosten\", pOpt)     "
   ]
  },
  {
   "cell_type": "markdown",
   "metadata": {},
   "source": [
    "Dieses Verfahren wird wiederholt, bis für alle einzufügenden Kunden, alle möglichen Fahrzeuge und alle möglichen Einfügepositionen für die Startorte und Zielorte überprüft wurden. Dabei werden immer, wenn ein neues Optimum gefunden wurde, alle zugehörigen Werte überspeichert.\n",
    "Wurden alle Kunden überprüft, so wird der \"optimale\" Kunde an der \"optimalen\" Position im \"optimalen\" Fahrzeug eingesetzt und aus der Liste der offenen Kunden entfernt.\n",
    "Das Verfahren wird solange wiederholt, bis alle Kunden eingefügt sind oder kein Kunde mehr eingefügt werden kann. Ein Kunde kann nicht eingefügt werden, wenn kein zulässiger Tourenplan gefunden wurde, der den Kunden enthält. Sind am Ende des Verfahrens noch Kunden in der Liste, ohne das ein Optimum kleiner einer großen Zahl *M* gefunden wird, werden diese Kunden abgelehnt."
   ]
  },
  {
   "cell_type": "markdown",
   "metadata": {},
   "source": [
    "Wenn wir das alles zusammenführen erhalten wir die Funktion der Parallel Insertion-Heuristik."
   ]
  },
  {
   "cell_type": "code",
   "execution_count": 22,
   "metadata": {
    "code_folding": []
   },
   "outputs": [],
   "source": [
    "def parallel_insertion(tours, requests, time=0, M=sys.maxsize):\n",
    "    reject = []\n",
    "    \n",
    "    while requests:\n",
    "        pOpt = M \n",
    "        for j in range(len(requests)):\n",
    "            for k in range(len(tours)):\n",
    "                earl_pos = min(len([e for e in tours[k].early if e <= time])+1, tours[k].length-1)\n",
    "                # spos: Position in Tour k, an der der PickUp des Kunden eingefügt wird\n",
    "                for spos in range(earl_pos, tours[k].length):\n",
    "                    if tours[k].check_insert_feasible(requests[j].pickup, spos):\n",
    "                        skosten = tours[k].insertion_cost(requests[j].pickup, spos)\n",
    "                        \n",
    "                        # Speichere die aktuell gültige Tour in einer temporären Variable\n",
    "                        tour_temp = deepcopy(tours[k])\n",
    "                        \n",
    "                        # Füge den PickUp des Kunden vorübergehend in den Tourenplan ein \n",
    "                        # und aktualisiere die Zeitfenster\n",
    "                        tour_temp.insert(requests[j].pickup, spos)\n",
    "                        \n",
    "                        # Prüfe für alle Positionen im Tourenplan nach dem eingefügten PickUp, \n",
    "                        # ob es einen möglichen DropOff gibt \n",
    "                        for epos in range(spos+1, tour_temp.length): \n",
    "                            if tour_temp.check_insert_feasible(requests[j].dropoff, epos):  \n",
    "                                ekosten = tour_temp.insertion_cost(requests[j].dropoff, epos)\n",
    "                                # Überprüfen: Neues Optimum gefunden?\n",
    "                                if skosten + ekosten < pOpt:\n",
    "                                    reqOpt = requests[j] \n",
    "                                    tourOpt = tours[k] \n",
    "                                    sposOpt = spos\n",
    "                                    eposOpt = epos\n",
    "                                    pOpt = skosten + ekosten   \n",
    "      \n",
    "        if pOpt < M:   \n",
    "            # Setze den PickUp und DropOff des Kunden ein und aktualisiere die Zeitfenster\n",
    "            tourOpt.insert(reqOpt.pickup, sposOpt)\n",
    "            tourOpt.insert(reqOpt.dropoff, eposOpt)\n",
    "            \n",
    "            # Entferne den eingesetzten Kunden aus der Liste der noch ausstehenden Kunden\n",
    "            requests.remove(reqOpt)         \n",
    "        else:\n",
    "            # Wenn kein Kunde den Feasibility-Check mehr besteht, speichere die abgewiesenen Kunden \n",
    "            # und leere die Liste der offenen Kunden\n",
    "            reject = deepcopy(requests)\n",
    "            requests = []\n",
    "   \n",
    "    return tours, reject"
   ]
  },
  {
   "cell_type": "markdown",
   "metadata": {},
   "source": [
    "### 2.2 Large Neighbourhood Search"
   ]
  },
  {
   "cell_type": "markdown",
   "metadata": {},
   "source": [
    "Für die Lösung unseres nicht-antizipatorischen DDARPs, wird für jede neue Kundenanfrage zuerst entschieden, ob sie akzeptiert werden kann. Hierfür prüfen wir, ob es einen zulässigen Tourenplan gibt, der den neuen Kunden enthält. Konnte kein zulässiger Tourenplan gefunden werden, wird der Kunde abgelehnt. Wurde der Kunde akzeptiert, muss als nächstes entschieden werden, wie der neue Tourenplan aussieht. Dafür wird der zulässige Toureplan re-optimiert. Für beide Entscheidungen verwenden wir eine LNS. Dabei ändern wir nur das Abbruchkriterium. Für die Akzeptanzentscheidung wird die LNS solange wiederholt, bis eine zulässige Lösung gefunden wurde oder eine maximale Anzahl an Iterationen $\\beta$ erreicht ist. Wurde eine zulässige Lösung gefunden, wird der Kunde akzeptiert. Bei der Routingentscheidung werden immer $\\beta$ Iterationen durchgeführt. Es wird nach der Lösung für den Tourenplan $w_{best}$ gesucht wird, die alle Kunden bedient und die Gesamtreisezeit minimiert."
   ]
  },
  {
   "cell_type": "markdown",
   "metadata": {},
   "source": [
    "In der LNS werden abwechselnd ein Destroy-Operator und ein Repair-Operator verwendet. Man beginnt mit einer zulässigen Lösung für den Tourenplan $w_0$. Diese Lösung wird im ersten Schritt mit dem Destroy-Operator teilweise zerstört, indem Kunden aus dem Plan entfernt werden. Im zweiten Schritt wird versucht, mit dem Repair-Operator eine neue zulässige Lösung $w_{new}$ zu generieren, indem alle entfernten Kunden und der neue Kunde in den Tourenplan eingesetzt werden. Ist die Lösung $w_{new}$ besser als die vorherig beste Lösung $w_{best}$, wird sie als neue beste Lösung gespeichert. \n",
    "Das Verfahren wird solange wiederholt, bis ein Abbruchkriterium erfüllt ist. Dabei wird immer die letzte zulässige Lösung $w_{new}$ als neue Grundlage für den Destroy-Operator verwendet. Als Ergebnis gibt die LNS die beste Lösung aus, die bis dahin gefunden wurde. "
   ]
  },
  {
   "attachments": {
    "Flussdiagramm_klein.png": {
     "image/png": "[encoded data removed]"
    }
   },
   "cell_type": "markdown",
   "metadata": {},
   "source": [
    "![Flussdiagramm_klein.png](attachment:Flussdiagramm_klein.png)"
   ]
  },
  {
   "cell_type": "markdown",
   "metadata": {},
   "source": [
    "Für die Destroy- und Repair-Operatoren gibt es mehrere Optionen. Als Destroy-Operator verwenden wir das Random-Removal-Verfahren, das zwischen $\\gamma_1$ und $\\gamma_2$ Prozent der noch nicht ausgeführten Kunden aus dem Tourenplan entfernt. Für den Repair-Operator verwenden Haferkamp und Ehmke [2] eine Regret-2 Insertion. Wir verwenden stattdessen eine Best-Insertion in Form der oben beschriebenen Parallel Insertion-Heuristik."
   ]
  },
  {
   "cell_type": "code",
   "execution_count": 23,
   "metadata": {
    "code_folding": [
     1
    ]
   },
   "outputs": [],
   "source": [
    "# Entferne zufällig zwischen gamma1 und gamma2 der entfernbaren Kundenanfragen und setze sie neu ein\n",
    "def random_removal(tours, time, gamma1, gamma2):\n",
    "    new_tours = deepcopy(tours)\n",
    "    candidates = []\n",
    "    # Ermittle entfernbare Kundenanfragen\n",
    "    for i in range(len(new_tours)):\n",
    "        for elem in new_tours[i].get_removable_requests(time):\n",
    "            candidates.append((i, elem))\n",
    "    removed = []\n",
    "    # q: Anzahl der Kundenanfragen, die entfernt werden können\n",
    "    q = len(candidates)\n",
    "    # n: Anzahl der Kundenanfragen, die entfernt werden\n",
    "    n = randint(floor(gamma1 * q), ceil(gamma2 * q))\n",
    "    # Auswahl: Welche Kundenanfragen entferne ich zufällig\n",
    "    to_remove = sample(candidates, n)\n",
    "    # entferne Kundenanfragen\n",
    "    for elem in to_remove:\n",
    "        pos_pickup = new_tours[elem[0]].dict_place_positions[elem[1].pickup]\n",
    "        pos_dropoff = new_tours[elem[0]].dict_place_positions[elem[1].dropoff]\n",
    "        new_tours[elem[0]].remove(pos_dropoff)\n",
    "        new_tours[elem[0]].remove(pos_pickup)\n",
    "        removed.append(elem[1])\n",
    "    return new_tours, removed"
   ]
  },
  {
   "cell_type": "code",
   "execution_count": 24,
   "metadata": {
    "code_folding": []
   },
   "outputs": [],
   "source": [
    "def LNS(epoch, type, beta, gamma1, gamma2):\n",
    "    # w = w0\n",
    "    plan_current = deepcopy(epoch.tours)\n",
    "    # wbest = w0\n",
    "    plan_best = deepcopy(epoch.tours)\n",
    "    if type == \"accept\":\n",
    "        unplanned = [epoch.request]\n",
    "    else:\n",
    "        unplanned = []\n",
    "    all_inserted = False\n",
    "    iteration = 0\n",
    "    while iteration < beta:\n",
    "        iteration += 1\n",
    "        # w_new erzeugen\n",
    "        plan_new, removed = random_removal(plan_current, epoch.time, gamma1, gamma2)\n",
    "        unplanned += removed\n",
    "        # füge entfernte Kundenanfragen und, falls noch nicht geschehen, neue Kundenanfrage ein\n",
    "        plan_new, reject = parallel_insertion(plan_new, unplanned, epoch.time)\n",
    "        # Zulässigkeit: Alle Kundeneinfragen eingefügt\n",
    "        if len(reject) == 0 and type == \"accept\":\n",
    "            # Akzeptanzentscheidung --> w_best gefunden\n",
    "            return True, plan_new\n",
    "        elif len(reject) == 0 and type == \"re-routing\":\n",
    "            # Tourenplan ist gültig -> w = w_new\n",
    "            plan_current = plan_new\n",
    "            cost_current = sum([tour.total_cost for tour in plan_current])\n",
    "            cost_best = sum([tour.total_cost for tour in plan_best])\n",
    "            # Falls geringere Gesamtreisezeit -> w_best = w_new\n",
    "            if cost_current < cost_best:\n",
    "                plan_best = plan_new\n",
    "    return all_inserted, plan_best"
   ]
  },
  {
   "cell_type": "markdown",
   "metadata": {},
   "source": [
    "### 2.3 Lösung unserer Beispielinstanz"
   ]
  },
  {
   "cell_type": "markdown",
   "metadata": {},
   "source": [
    "Wir haben jetzt alle Bausteine unserer Lösungsverfahrens eingeführt und können damit unsere Beispielinstanz lösen."
   ]
  },
  {
   "cell_type": "code",
   "execution_count": 25,
   "metadata": {
    "code_folding": [
     1
    ]
   },
   "outputs": [
    {
     "name": "stdout",
     "output_type": "stream",
     "text": [
      "[('D', (1, 1), 0, 'D'), (2, (3, 2), 2.24, 'PU'), (2, (8, 5), 8.07, 'DO'), (5, (7, 5), 9.07, 'PU'), (3, (6, 5), 10.07, 'PU'), (5, (4, 3), 12.9, 'DO'), (3, (3, 4), 14.31, 'DO'), ('D', (1, 1), 17.92, 'D')]\n",
      "[('D', (6, 6), 0, 'D'), (1, (1, 8), 5.39, 'PU'), (1, (5, 9), 9.51, 'DO'), ('D', (6, 6), 12.67, 'D')]\n"
     ]
    }
   ],
   "source": [
    "instance.solve()\n",
    "for tour in instance.tours:\n",
    "    print(tour.printable())\n",
    "# ID, Koordinaten, early, late, typ"
   ]
  },
  {
   "cell_type": "markdown",
   "metadata": {},
   "source": [
    "Der Kunde 1 wird durch die zweite Tour bedient und die Kunden 2, 3 und 5 durch die erste Tour. Die Kunden 3 und 5 haben ähnliche Anfragezeiten und Start- und Endorte und können so gebündelt werden. \n",
    "\n",
    "Kunde 4 wird abgelehnt, da sein Startort zu weit von den anderen Orten entfernt ist."
   ]
  },
  {
   "cell_type": "markdown",
   "metadata": {},
   "source": [
    "Im Folgenden werden die Touren und die abgelehnten Kundenanfragen nach jeder Entscheidungsepoche visualisiert. Dabei zeigt ein Subplot die zu einer Tour gehörigen Kundenanfragen. Der letzte Subplot zeigt alle bisher abgelehnten Kundenanfragen. Auf der $x$-Achse ist der Zeitverlauf abgebildet und auf der $y$-Achse wird jeder Kunde durch einen Balken dargestellt. Die orangene Fläche gibt das Zeitfenster [$t_r, m_r$] des Kunden wider. Die Fahrt vom Startort bis zum Zielort muss innerhalb der orangenen Fläche liegen und wird durch die blaue Fläche dargestellt. In einem Fahrzeug befinden sich in einem Zeitpunkt mehrere Kunden, falls sich ihre blauen Balken zu einem Zeitpunkt überschneiden."
   ]
  },
  {
   "cell_type": "code",
   "execution_count": 26,
   "metadata": {
    "code_folding": [
     1
    ],
    "scrolled": false
   },
   "outputs": [
    {
     "name": "stdout",
     "output_type": "stream",
     "text": [
      "Epoche: 1  Kundenanfrage: 1 (1, 8) (5, 9)  t = 0  Akzeptanz: True\n"
     ]
    },
    {
     "data": {
      "image/png": "[encoded data removed]",
      "text/plain": [
       "<Figure size 1440x576 with 3 Axes>"
      ]
     },
     "metadata": {
      "needs_background": "light"
     },
     "output_type": "display_data"
    },
    {
     "name": "stdout",
     "output_type": "stream",
     "text": [
      "Epoche: 2  Kundenanfrage: 2 (3, 2) (8, 5)  t = 0  Akzeptanz: True\n"
     ]
    },
    {
     "data": {
      "image/png": "[encoded data removed]",
      "text/plain": [
       "<Figure size 1440x576 with 3 Axes>"
      ]
     },
     "metadata": {
      "needs_background": "light"
     },
     "output_type": "display_data"
    },
    {
     "name": "stdout",
     "output_type": "stream",
     "text": [
      "Epoche: 3  Kundenanfrage: 3 (6, 5) (3, 4)  t = 1  Akzeptanz: True\n"
     ]
    },
    {
     "data": {
      "image/png": "[encoded data removed]",
      "text/plain": [
       "<Figure size 1440x576 with 3 Axes>"
      ]
     },
     "metadata": {
      "needs_background": "light"
     },
     "output_type": "display_data"
    },
    {
     "name": "stdout",
     "output_type": "stream",
     "text": [
      "Epoche: 4  Kundenanfrage: 5 (7, 5) (4, 3)  t = 2  Akzeptanz: True\n"
     ]
    },
    {
     "data": {
      "image/png": "[encoded data removed]",
      "text/plain": [
       "<Figure size 1440x576 with 3 Axes>"
      ]
     },
     "metadata": {
      "needs_background": "light"
     },
     "output_type": "display_data"
    },
    {
     "name": "stdout",
     "output_type": "stream",
     "text": [
      "Epoche: 5  Kundenanfrage: 4 (15, 15) (7, 1)  t = 3  Akzeptanz: False\n"
     ]
    },
    {
     "data": {
      "image/png": "[encoded data removed]",
      "text/plain": [
       "<Figure size 1440x576 with 3 Axes>"
      ]
     },
     "metadata": {
      "needs_background": "light"
     },
     "output_type": "display_data"
    }
   ],
   "source": [
    "for i in range(len(instance.epochs)):\n",
    "    print(\"Epoche: \" + str(i+1)\n",
    "          + \"  \" + \"Kundenanfrage: \" \n",
    "          + str(instance.epochs[i].request.id) + \" \"\n",
    "          # Startort\n",
    "          + str(instance.epochs[i].request.pickup.loc) + \" \"\n",
    "          # Zielort\n",
    "          + str(instance.epochs[i].request.dropoff.loc) + \"  t = \"\n",
    "          + str(instance.epochs[i].request.request_time) + \"  Akzeptanz: \"\n",
    "          # Akzeptanzentscheidung\n",
    "          + str(instance.epochs[i].accept)\n",
    "         )\n",
    "    instance.visualize_tours(i)"
   ]
  },
  {
   "cell_type": "markdown",
   "metadata": {},
   "source": [
    "## Teil 3: Ausblick"
   ]
  },
  {
   "cell_type": "markdown",
   "metadata": {
    "code_folding": []
   },
   "source": [
    "Wir haben in diesem Notebook nur eine der vielen möglichen Ausprägungen des DDARPs implementiert. Für zukünftige Projekte wäre es sicher sinnvoll, sich mit unterschiedlichen Versionen des DDARPs zu beschäftigen und sie zu vergleichen.\n",
    "\n",
    "Zunächst kann die Ausprägung der Antizipation verändert werden. Wie bereits zuvor erwähnt, berücksichtigen die Autoren drei Ausprägungen der Antizipation: Anticipatory Acceptance, Anticipatory Routing und Fully Anticipatory. Unsere Implementation kann als Basis für deren Umsetzung verwendet werden.\n",
    "\n",
    "Für die Anticipatory Acceptance wird für die Akzeptanzentscheidung zusätzlich zum Feasibility-Check ein statisches team orienteering problem (TOP) als Favourability-Check gelöst, um zu prüfen, welche Kunden am vorteilhaftesten sind. Die Routingentscheidung wird jedoch nicht antizipativ getroffen. Es können im Tourenplan nur Kunden vertauscht werden, die noch nicht bedient wurden.\n",
    "\n",
    "Das Anticipatory Routing ist unserer nicht-antizipatorischen Implementierung am ähnlichsten. Der wesentliche Unterschied besteht darin, dass der Tourenplan nicht im Anschluss an jede Akzeptanzentscheidung optimiert wird, sondern erst wenn alle akzeptierten Anfragen feststehen. Es wird angenommen, dass es sich um die Kunden des Folgetages handelt, dadurch können in der Routingentscheidung alle Kunden verschoben werden. Es handelt sich hierbei um seine stilisierte Annahme, die in der Praxis unseres Ride-Sharing-Problems so nicht möglich wäre und dazu dient das Teilproblem des Anticipatory Routing darzustellen.\n",
    "\n",
    "Fully Anticipatory kombiniert Anticipatory Acceptance und Anticipatory Routing. Die Autoren gehen von vollständiger Information aus, wodurch das DDARP als statisches TOP gelöst werden kann. \n",
    "Für weitere Details zu den beiden Verfahren, sehen Sie sich bitte das Paper von Haferkamp und Ehmke [2] an."
   ]
  },
  {
   "cell_type": "markdown",
   "metadata": {},
   "source": [
    "Unabhängig von der Ausprägung der Antizipation können auch die Destroy- und Repair Operatoren angepasst werden. Haferkamp und Ehmke [2] verwenden zusätzlich zum Random-Removal zwei weitere Destroy-Operatoren: Worst-Removal und Shaw-Removal, sowie den Repair-Operator Regret-2-Insertion. Aber auch andere Methoden sind als Destroy- und Repair Operatoren denkbar und bilden eine interessante Grundlage für weitere Analysen des DDARPs."
   ]
  },
  {
   "cell_type": "markdown",
   "metadata": {},
   "source": [
    "Letztlich können auch die Parameter des Modells, $\\alpha$, $\\beta$, $\\gamma_1$, $\\gamma_2$ und die Anzahl der Fahrzeuge variiert werden. Das kann direkt in unserer Implementierung passieren. \n",
    "\n",
    "Unser Lösungsansatz ist außerdem auf größere Instanzen ausweitbar.\n",
    "\n",
    "Probieren Sie es aus und wählen sie nach dem Ausführen der nächsten Zelle die Parameter\n",
    "\n",
    "- Anzahl der Fahrzeuge,\n",
    "- Anzahl der Anfragen,\n",
    "- Untere Schranke der Koordinaten,\n",
    "- Obere Schranke der Koordinaten,\n",
    "- Spätester Kundenanfragezeitpunkt,\n",
    "- Anzahl Iteration der LNS $\\beta$,\n",
    "- Untere Schranke Random-Removal $\\gamma_1$,\n",
    "- Obere Schranke Random-Removal $\\gamma_2$,\n",
    "- und die maximal erlaubt Verzögerungszeit $\\alpha$\n",
    "    \n",
    "    \n",
    "selbst aus. Mit dem Klick auf \"Lösen\" wird eine Probleminstanz nach Ihren Vorgaben generiert und die Lösung ausgegeben. Bei großen Instanzen kann die Lösung etwas länger dauern."
   ]
  },
  {
   "cell_type": "code",
   "execution_count": 29,
   "metadata": {
    "code_folding": [
     0
    ]
   },
   "outputs": [
    {
     "data": {
      "application/vnd.jupyter.widget-view+json": {
       "model_id": "c1f08f7387404798b8d6eac560c6c912",
       "version_major": 2,
       "version_minor": 0
      },
      "text/plain": [
       "BoundedIntText(value=5, description='Fahrzeuge', style=DescriptionStyle(description_width='200px'))"
      ]
     },
     "metadata": {},
     "output_type": "display_data"
    },
    {
     "data": {
      "application/vnd.jupyter.widget-view+json": {
       "model_id": "beafad7d51c94f7382cdae583d4b37ff",
       "version_major": 2,
       "version_minor": 0
      },
      "text/plain": [
       "BoundedIntText(value=30, description='Anfragen', style=DescriptionStyle(description_width='200px'))"
      ]
     },
     "metadata": {},
     "output_type": "display_data"
    },
    {
     "data": {
      "application/vnd.jupyter.widget-view+json": {
       "model_id": "ec2cafc624e5482492d0e5fabce4b741",
       "version_major": 2,
       "version_minor": 0
      },
      "text/plain": [
       "BoundedIntText(value=0, description='Untere Schranke Koordinaten', style=DescriptionStyle(description_width='2…"
      ]
     },
     "metadata": {},
     "output_type": "display_data"
    },
    {
     "data": {
      "application/vnd.jupyter.widget-view+json": {
       "model_id": "6b34cf3bfa4c4019a24651e2f6b1e202",
       "version_major": 2,
       "version_minor": 0
      },
      "text/plain": [
       "BoundedIntText(value=20, description='Obere Schranke Koordinaten', style=DescriptionStyle(description_width='2…"
      ]
     },
     "metadata": {},
     "output_type": "display_data"
    },
    {
     "data": {
      "application/vnd.jupyter.widget-view+json": {
       "model_id": "e87f0a8b0ee54373ae9965310a6ad1e1",
       "version_major": 2,
       "version_minor": 0
      },
      "text/plain": [
       "BoundedIntText(value=100, description='Späteste Kundenanfrage', style=DescriptionStyle(description_width='200p…"
      ]
     },
     "metadata": {},
     "output_type": "display_data"
    },
    {
     "data": {
      "application/vnd.jupyter.widget-view+json": {
       "model_id": "c9f740b44319409887be7b45d843a0b4",
       "version_major": 2,
       "version_minor": 0
      },
      "text/plain": [
       "BoundedIntText(value=10, description='Beta', style=DescriptionStyle(description_width='200px'))"
      ]
     },
     "metadata": {},
     "output_type": "display_data"
    },
    {
     "data": {
      "application/vnd.jupyter.widget-view+json": {
       "model_id": "287362319da94c1280241a2ce0a48267",
       "version_major": 2,
       "version_minor": 0
      },
      "text/plain": [
       "BoundedFloatText(value=0.2, description='Gamma1', max=1.0, step=0.05, style=DescriptionStyle(description_width…"
      ]
     },
     "metadata": {},
     "output_type": "display_data"
    },
    {
     "data": {
      "application/vnd.jupyter.widget-view+json": {
       "model_id": "59d69f4c58524cc2b02359076d21dcdd",
       "version_major": 2,
       "version_minor": 0
      },
      "text/plain": [
       "BoundedFloatText(value=0.4, description='Gamma2', max=1.0, step=0.05, style=DescriptionStyle(description_width…"
      ]
     },
     "metadata": {},
     "output_type": "display_data"
    },
    {
     "data": {
      "application/vnd.jupyter.widget-view+json": {
       "model_id": "2e09081b0bb84f95bf20b9bf139fac4b",
       "version_major": 2,
       "version_minor": 0
      },
      "text/plain": [
       "BoundedIntText(value=20, description='Alpha', style=DescriptionStyle(description_width='200px'))"
      ]
     },
     "metadata": {},
     "output_type": "display_data"
    },
    {
     "data": {
      "application/vnd.jupyter.widget-view+json": {
       "model_id": "7f06510c7f31420f9a6cdf8bf664a070",
       "version_major": 2,
       "version_minor": 0
      },
      "text/plain": [
       "Button(description='Lösen', style=ButtonStyle())"
      ]
     },
     "metadata": {},
     "output_type": "display_data"
    }
   ],
   "source": [
    "# Lösen Sie eine Instanz mit den von Ihnen gewählten Parametern.\n",
    "seed(1022021)\n",
    "style2 = {'description_width': '200px'}\n",
    "# Fahrzeuge\n",
    "n = widgets.BoundedIntText(value=5, min=0,step=1,description='Fahrzeuge',disabled=False, style=style2)\n",
    "# Anfragen\n",
    "m = widgets.BoundedIntText(value=30, min=0,step=1,description='Anfragen',disabled=False, style=style2)\n",
    "# Koordinaten untere Schranke\n",
    "low = widgets.BoundedIntText(value=0,step=1,description='Untere Schranke Koordinaten',disabled=False, style=style2)\n",
    "# Koordinaten obere Schranke\n",
    "up = widgets.BoundedIntText(value=20,step=1,description='Obere Schranke Koordinaten',disabled=False, style=style2)\n",
    "# Späteste Kundenanfragezeit\n",
    "end = widgets.BoundedIntText(value=100,step=1,description='Späteste Kundenanfrage',disabled=False, style=style2)\n",
    "# beta: Anzahl Iterationen\n",
    "beta = widgets.BoundedIntText(value=10,step=1,description='Beta',disabled=False, style=style2)\n",
    "# gamma1: untere Schranke Random-Removal\n",
    "g1 = widgets.BoundedFloatText(value=0.2,min=0,max=1,step=0.05,description='Gamma1',disabled=False, style=style2)\n",
    "# gamma2: obere Schranke Random-Removal\n",
    "g2 = widgets.BoundedFloatText(value=0.4,min=0,max=1,step=0.05,description='Gamma2',disabled=False, style=style2)\n",
    "# alpha: Puffer\n",
    "a = widgets.BoundedIntText(value=20, min = 0, step=1,description='Alpha',disabled=False, style=style2)\n",
    "\n",
    "button2 = widgets.Button(description=\"Lösen\")\n",
    "\n",
    "def on_button_clicked_2(b):\n",
    "    IPy.display.clear_output()\n",
    "    groß = RideSharing(beta.value, g1.value, g2.value)\n",
    "    for i in range(n.value):\n",
    "        groß.add_tour((randint(low.value, up.value), randint(low.value, up.value)))\n",
    "    for i in range(m.value):\n",
    "        groß.add_request((randint(low.value, up.value), \n",
    "                          randint(low.value, up.value)), \n",
    "                         (randint(low.value, up.value), randint(low.value, up.value)), \n",
    "                         randint(0, end.value), a.value)\n",
    "    groß.solve()\n",
    "    groß.visualize_init_state()\n",
    "    groß.visualize_tours()\n",
    "\n",
    "button2.on_click(on_button_clicked_2)\n",
    "\n",
    "\n",
    "display(n, m, low, up, end, beta, g1, g2, a, button2)"
   ]
  },
  {
   "cell_type": "markdown",
   "metadata": {},
   "source": [
    "## Literaturverzeichnis:"
   ]
  },
  {
   "cell_type": "markdown",
   "metadata": {},
   "source": [
    "[1] Agatz, N., Erera, A. L., Savelsbergh, M. W. P., Wang, X. (2011): Dynamic Ride-Sharing: a Simulation Study in Metro Atlanta. Procedia - Social and Behavioural Science, 17, 532-550.\n",
    "\n",
    "[2] Haferkamp, J., Ehmke, J. (2020): Evaluation of Anticipatory Decision-Making in\n",
    "Ride-Sharing Services. Working Paper, Universität Magdeburg.\n",
    "\n",
    "[3] Parragh, S. N., Doerner, K. F., & Hartl, R. F. (2008). A survey on pickup and delivery problems. Part II:\n",
    "Transportation between pickup and delivery locations. Journal für Betriebswirtschaft, 58(2), 81–117.\n",
    "\n",
    "[4] Cordeau, J.-F., & Laporte, G. (2003). A tabu search heuristic for the static multi-vehicle dial-a-ride problem.\n",
    "Transportation Research Part B: Methodological, 37(6), 579–594.\n",
    "\n",
    "[5] Campbell, A. M., Savelsbergh, M. (2004): Efficient Insertion Heuristics for Vehicle Routing and Scheduling Problems. Transportation Science 38(3), 369-378."
   ]
  }
 ],
 "metadata": {
  "kernelspec": {
   "display_name": "Python 3",
   "language": "python",
   "name": "python3"
  },
  "language_info": {
   "codemirror_mode": {
    "name": "ipython",
    "version": 3
   },
   "file_extension": ".py",
   "mimetype": "text/x-python",
   "name": "python",
   "nbconvert_exporter": "python",
   "pygments_lexer": "ipython3",
   "version": "3.7.1"
  }
 },
 "nbformat": 4,
 "nbformat_minor": 4
}
