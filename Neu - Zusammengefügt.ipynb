{
 "cells": [
  {
   "cell_type": "code",
   "execution_count": 1,
   "metadata": {},
   "outputs": [],
   "source": [
    "import numpy as np\n",
    "import copy\n",
    "from datetime import datetime\n",
    "import numpy as np\n",
    "import plotly.figure_factory as ff\n",
    "import pandas as pd\n",
    "import matplotlib.pyplot as plt"
   ]
  },
  {
   "cell_type": "code",
   "execution_count": 2,
   "metadata": {},
   "outputs": [],
   "source": [
    "def euclidean(loc1, loc2):\n",
    "    return ((loc1[0] - loc2[0])**2 + (loc1[1] - loc2[1])**2)**0.5"
   ]
  },
  {
   "cell_type": "code",
   "execution_count": 4,
   "metadata": {},
   "outputs": [],
   "source": [
    "class Origin:\n",
    "    \n",
    "    type = \"orig\"\n",
    "    \n",
    "    def __init__(self, loc):\n",
    "        self.loc = loc\n",
    "        \n",
    "    def set_Request(self, req):\n",
    "        self.req = req\n",
    "\n",
    "class Destination:\n",
    "    \n",
    "    type = \"dest\"\n",
    "    \n",
    "    def __init__(self, loc):\n",
    "        self.loc = loc\n",
    "        \n",
    "    def set_Request(self, req):\n",
    "        self.req = req"
   ]
  },
  {
   "cell_type": "code",
   "execution_count": 5,
   "metadata": {},
   "outputs": [],
   "source": [
    "class Request:\n",
    "    \n",
    "    def __init__(self, orig_loc, dest_loc, req_t, alpha):\n",
    "        \n",
    "        self.origin = Origin(orig_loc)\n",
    "        self.destination = Destination(dest_loc)\n",
    "        self.origin.set_Request(self)\n",
    "        self.destination.set_Request(self)\n",
    "        self.alpha = alpha\n",
    "        self.req_t = req_t\n",
    "        self.end_t = req_t + euclidean(orig_loc, dest_loc) + alpha\n",
    "    \n",
    "    orig_earl = -1\n",
    "    dest_earl = -1\n",
    "    orig_late = -1\n",
    "    dest_late = -1"
   ]
  },
  {
   "cell_type": "code",
   "execution_count": 9,
   "metadata": {},
   "outputs": [],
   "source": [
    "kunde1 = Request((1,8), (5,9), 0,10)\n",
    "kunde2 = Request((6,5), (3,4), 0,10)\n",
    "kunde3 = Request((3,2), (8,5), 0,10)\n",
    "depot = Request((0,0),(0,0), 0,0)\n",
    "kunden = [kunde1, kunde2, kunde3]"
   ]
  },
  {
   "cell_type": "code",
   "execution_count": 10,
   "metadata": {},
   "outputs": [
    {
     "ename": "NameError",
     "evalue": "name 'I' is not defined",
     "output_type": "error",
     "traceback": [
      "\u001b[1;31m---------------------------------------------------------------------------\u001b[0m",
      "\u001b[1;31mNameError\u001b[0m                                 Traceback (most recent call last)",
      "\u001b[1;32m<ipython-input-10-ca32de836534>\u001b[0m in \u001b[0;36m<module>\u001b[1;34m\u001b[0m\n\u001b[0;32m      1\u001b[0m \u001b[0mM\u001b[0m \u001b[1;33m=\u001b[0m \u001b[1;36m1000\u001b[0m\u001b[1;33m\u001b[0m\u001b[1;33m\u001b[0m\u001b[0m\n\u001b[0;32m      2\u001b[0m \u001b[0mK\u001b[0m \u001b[1;33m=\u001b[0m \u001b[1;36m2\u001b[0m \u001b[1;31m#Anzahl Fahrzeuge = Anzahl Touren\u001b[0m\u001b[1;33m\u001b[0m\u001b[1;33m\u001b[0m\u001b[0m\n\u001b[1;32m----> 3\u001b[1;33m \u001b[0mkundenOffen\u001b[0m \u001b[1;33m=\u001b[0m \u001b[0mcopy\u001b[0m\u001b[1;33m.\u001b[0m\u001b[0mdeepcopy\u001b[0m\u001b[1;33m(\u001b[0m\u001b[0mI\u001b[0m\u001b[1;33m)\u001b[0m\u001b[1;33m\u001b[0m\u001b[1;33m\u001b[0m\u001b[0m\n\u001b[0m\u001b[0;32m      4\u001b[0m \u001b[1;33m\u001b[0m\u001b[0m\n\u001b[0;32m      5\u001b[0m \u001b[1;32mdef\u001b[0m \u001b[0mc\u001b[0m \u001b[1;33m(\u001b[0m\u001b[0mo\u001b[0m\u001b[1;33m,\u001b[0m \u001b[0md\u001b[0m\u001b[1;33m)\u001b[0m\u001b[1;33m:\u001b[0m\u001b[1;33m\u001b[0m\u001b[1;33m\u001b[0m\u001b[0m\n",
      "\u001b[1;31mNameError\u001b[0m: name 'I' is not defined"
     ]
    }
   ],
   "source": [
    "M = 1000 \n",
    "K = 2 #Anzahl Fahrzeuge = Anzahl Touren\n",
    "kundenOffen = copy.deepcopy(I)\n",
    "\n",
    "def c (o, d):\n",
    "    d = ((o[0]-d[0])**2+(o[1]-d[1])**2)**0.5"
   ]
  },
  {
   "cell_type": "code",
   "execution_count": null,
   "metadata": {},
   "outputs": [],
   "source": []
  }
 ],
 "metadata": {
  "kernelspec": {
   "display_name": "Python 3",
   "language": "python",
   "name": "python3"
  },
  "language_info": {
   "codemirror_mode": {
    "name": "ipython",
    "version": 3
   },
   "file_extension": ".py",
   "mimetype": "text/x-python",
   "name": "python",
   "nbconvert_exporter": "python",
   "pygments_lexer": "ipython3",
   "version": "3.7.1"
  }
 },
 "nbformat": 4,
 "nbformat_minor": 4
}
