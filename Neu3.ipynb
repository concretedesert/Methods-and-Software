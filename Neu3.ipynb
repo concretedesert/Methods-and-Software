{
 "cells": [
  {
   "cell_type": "markdown",
   "metadata": {},
   "source": [
    "### Globale Funktionen"
   ]
  },
  {
   "cell_type": "code",
   "execution_count": 1,
   "metadata": {},
   "outputs": [],
   "source": [
    "def euclidean(loc1, loc2):\n",
    "    return ((loc1[0] - loc2[0])**2 + (loc1[1] - loc2[1])**2)**0.5"
   ]
  },
  {
   "cell_type": "markdown",
   "metadata": {},
   "source": [
    "### Klasse Request"
   ]
  },
  {
   "cell_type": "code",
   "execution_count": 2,
   "metadata": {},
   "outputs": [],
   "source": [
    "class Request:\n",
    "    \n",
    "    def __init__(self, orig_loc, dest_loc, req_t, alpha=10):\n",
    "        self.orig_loc = orig_loc\n",
    "        self.dest_loc = dest_loc\n",
    "        self.req_t = req_t\n",
    "        self.alpha = alpha # tolerierte Wartezeit\n",
    "        self.end_t = req_t + euclidean(orig_loc, dest_loc) + alpha\n",
    "    \n",
    "    orig_earl = -1\n",
    "    dest_earl = -1\n",
    "    orig_late = -1\n",
    "    dest_late = -1"
   ]
  },
  {
   "cell_type": "markdown",
   "metadata": {},
   "source": [
    "### Klasse Tour"
   ]
  },
  {
   "cell_type": "code",
   "execution_count": 3,
   "metadata": {},
   "outputs": [],
   "source": [
    "class Tour:\n",
    "    \n",
    "    def __init__(self, depot_loc=(0,0), M=10000):\n",
    "        depot = Request(depot_loc, depot_loc, 0, M)\n",
    "        depot.orig_earl = 0\n",
    "        depot.dest_earl = 0\n",
    "        depot.orig_late = M\n",
    "        depot.dest_late = M\n",
    "        self.tour = [(depot, \"orig\"), (depot, \"dest\")]\n",
    "        self.length = 2\n",
    "    \n",
    "    def get_coordinates(self, tup):\n",
    "        return tup[0].orig_loc if tup[1] == \"orig\" else tup[0].dest_loc\n",
    "    \n",
    "    def get_earliest(self, tup):\n",
    "        return tup[0].orig_earl if tup[1] == \"orig\" else tup[0].dest_earl\n",
    "    \n",
    "    def get_latest(self, tup):\n",
    "        return tup[0].orig_late if tup[1] == \"orig\" else tup[0].dest_late\n",
    "    \n",
    "    def get_insert_earl_late(self, ins, bef, aft):\n",
    "        earliest = max(ins[0].req_t, \n",
    "                       self.get_earliest(bef) + euclidean(self.get_coordinates(bef), self.get_coordinates(ins)))\n",
    "        latest = min(ins[0].end_t,\n",
    "                    self.get_latest(aft) - euclidean(self.get_coordinates(ins), self.get_coordinates(aft)))\n",
    "        return earliest, latest\n",
    "    \n",
    "    def update_earliest(self, tupA, tupB):\n",
    "        locA = self.get_coordinates(tupA)\n",
    "        locB = self.get_coordinates(tupB)\n",
    "        earlA = self.get_earliest(tupA)\n",
    "        earlB = self.get_earliest(tupB)\n",
    "        new = max(earlA, earlB + euclidean(locA, locB))\n",
    "        if tupA[1] == \"orig\":\n",
    "            tupA[0].orig_earl = new\n",
    "        else:\n",
    "            tupA[0].dest_earl = new\n",
    "        \n",
    "    def update_latest(self, tupA, tupB):\n",
    "        locA = self.get_coordinates(tupA)\n",
    "        locB = self.get_coordinates(tupB)\n",
    "        lateA = self.get_latest(tupA)\n",
    "        lateB = self.get_latest(tupB)\n",
    "        new = min(lateA, lateB - euclidean(locA, locB))\n",
    "        if tupA[1] == \"orig\":\n",
    "            tupA[0].orig_late = new\n",
    "        else:\n",
    "            tupA[0].dest_late = new\n",
    "    \n",
    "    def feasible(self, i, place):\n",
    "        # Origin muss in der gleichen Tour sein, Destination nach Origin\n",
    "        if place[1] == \"dest\":\n",
    "            if not (place[0], \"orig\") in self.tour[:i]:\n",
    "                return False\n",
    "        else: # Origin\n",
    "            if (place[0], \"dest\") in self.tour[:1]:\n",
    "                return False\n",
    "        earliest, latest = self.get_insert_earl_late(place, self.tour[i-1], self.tour[i])\n",
    "        if earliest > latest:\n",
    "            return False\n",
    "        return True\n",
    "    \n",
    "    def insertion_cost(self, i, place):\n",
    "        bef = self.get_coordinates(self.tour[i-1])\n",
    "        ins = self.get_coordinates(place)\n",
    "        aft = self.get_coordinates(self.tour[i])\n",
    "        return euclidean(bef, ins) + euclidean(ins, aft) - euclidean(bef, aft)\n",
    "    \n",
    "    def insert(self, i, place):\n",
    "        self.tour.insert(i, place)\n",
    "        self.length += 1\n",
    "        self.update(i)\n",
    "    \n",
    "    def update(self, i):\n",
    "        earliest, latest = self.get_insert_earl_late(self.tour[i], self.tour[i-1], self.tour[i+1])\n",
    "        if self.tour[i][1] == \"orig\":\n",
    "            self.tour[i][0].orig_earl = earliest\n",
    "            self.tour[i][0].orig_late = latest\n",
    "        else:\n",
    "            self.tour[i][0].dest_earl = earliest\n",
    "            self.tour[i][0].dest_late = latest\n",
    "        \n",
    "        for k in range(i, -1, -1):\n",
    "            self.update_latest(self.tour[k], self.tour[k+1])\n",
    "        \n",
    "        for k in range(i, self.length+1):\n",
    "            self.update_earliest(self.tour[k], self.tour[k-1])\n",
    "            \n",
    "    def printable(self):\n",
    "        d = {}\n",
    "        unique = list(dict.fromkeys([x[0] for x in self.tour]))\n",
    "        for i in range(len(unique)):\n",
    "            d[unique[i]] = i\n",
    "        \n",
    "        # \"Node: \", \"Orig/Dest\", \"Request time: \", \"Earliest: \", \"Until: \", \"Latest: \"\n",
    "        for place in self.tour:\n",
    "            print(str(d[place[0]]), place[1], str(place[0].req_t), str(round(self.get_earliest(place), 1)), \n",
    "                 str(round(place[0].end_t, 1)), str(round(self.get_latest(place), 1)), sep=\"\\t\")"
   ]
  },
  {
   "cell_type": "markdown",
   "metadata": {},
   "source": [
    "### Parallel Insertion"
   ]
  },
  {
   "cell_type": "code",
   "execution_count": 4,
   "metadata": {},
   "outputs": [],
   "source": [
    "test = []\n",
    "\n",
    "def parallel_insertion(tours, places, M=10000):\n",
    "    while places:\n",
    "        cOpt = M\n",
    "        found = False\n",
    "        for place in places:\n",
    "            for tour in tours:\n",
    "                for i in range(1, tour.length):\n",
    "                    if tour.feasible(i, place) and tour.insertion_cost(i, place) < cOpt:\n",
    "                        found = True\n",
    "                        tourOpt = tour\n",
    "                        iOpt = i\n",
    "                        placeOpt = place\n",
    "                        cOpt = tour.insertion_cost(i, place)\n",
    "        if found:\n",
    "            test.append(placeOpt)\n",
    "            tourOpt.insert(iOpt, placeOpt)\n",
    "            places.remove(placeOpt)\n",
    "            tourOpt.update(iOpt)"
   ]
  },
  {
   "cell_type": "markdown",
   "metadata": {},
   "source": [
    "### Test"
   ]
  },
  {
   "cell_type": "code",
   "execution_count": 5,
   "metadata": {},
   "outputs": [],
   "source": [
    "tours = []\n",
    "\n",
    "for i in range(2):\n",
    "    tours.append(Tour())\n",
    "\n",
    "r1 = Request((1, 1), (4, 4), 0)\n",
    "r2 = Request((2, 2), (-2, -2), 0)\n",
    "r3 = Request((5, 5), (1, 1), 1)\n",
    "\n",
    "#r1 = Request((1,8), (5,9), 0, 10)\n",
    "#r2 = Request((6,5), (3,4), 0, 10)\n",
    "#r3 = Request((3,2), (8,5), 0, 10)\n",
    "\n",
    "requests = [r1, r2, r3]\n",
    "requests = sum([[(x, \"orig\"), (x, \"dest\")] for x in requests], [])"
   ]
  },
  {
   "cell_type": "code",
   "execution_count": 6,
   "metadata": {},
   "outputs": [
    {
     "ename": "IndexError",
     "evalue": "list index out of range",
     "output_type": "error",
     "traceback": [
      "\u001b[1;31m---------------------------------------------------------------------------\u001b[0m",
      "\u001b[1;31mIndexError\u001b[0m                                Traceback (most recent call last)",
      "\u001b[1;32m<ipython-input-6-f9373c16e3fe>\u001b[0m in \u001b[0;36m<module>\u001b[1;34m\u001b[0m\n\u001b[1;32m----> 1\u001b[1;33m \u001b[0mparallel_insertion\u001b[0m\u001b[1;33m(\u001b[0m\u001b[0mtours\u001b[0m\u001b[1;33m,\u001b[0m \u001b[0mrequests\u001b[0m\u001b[1;33m)\u001b[0m\u001b[1;33m\u001b[0m\u001b[1;33m\u001b[0m\u001b[0m\n\u001b[0m",
      "\u001b[1;32m<ipython-input-4-cc1f30cb31f7>\u001b[0m in \u001b[0;36mparallel_insertion\u001b[1;34m(tours, places, M)\u001b[0m\n\u001b[0;32m     16\u001b[0m         \u001b[1;32mif\u001b[0m \u001b[0mfound\u001b[0m\u001b[1;33m:\u001b[0m\u001b[1;33m\u001b[0m\u001b[1;33m\u001b[0m\u001b[0m\n\u001b[0;32m     17\u001b[0m             \u001b[0mtest\u001b[0m\u001b[1;33m.\u001b[0m\u001b[0mappend\u001b[0m\u001b[1;33m(\u001b[0m\u001b[0mplaceOpt\u001b[0m\u001b[1;33m)\u001b[0m\u001b[1;33m\u001b[0m\u001b[1;33m\u001b[0m\u001b[0m\n\u001b[1;32m---> 18\u001b[1;33m             \u001b[0mtourOpt\u001b[0m\u001b[1;33m.\u001b[0m\u001b[0minsert\u001b[0m\u001b[1;33m(\u001b[0m\u001b[0miOpt\u001b[0m\u001b[1;33m,\u001b[0m \u001b[0mplaceOpt\u001b[0m\u001b[1;33m)\u001b[0m\u001b[1;33m\u001b[0m\u001b[1;33m\u001b[0m\u001b[0m\n\u001b[0m\u001b[0;32m     19\u001b[0m             \u001b[0mplaces\u001b[0m\u001b[1;33m.\u001b[0m\u001b[0mremove\u001b[0m\u001b[1;33m(\u001b[0m\u001b[0mplaceOpt\u001b[0m\u001b[1;33m)\u001b[0m\u001b[1;33m\u001b[0m\u001b[1;33m\u001b[0m\u001b[0m\n\u001b[0;32m     20\u001b[0m             \u001b[0mtourOpt\u001b[0m\u001b[1;33m.\u001b[0m\u001b[0mupdate\u001b[0m\u001b[1;33m(\u001b[0m\u001b[0miOpt\u001b[0m\u001b[1;33m)\u001b[0m\u001b[1;33m\u001b[0m\u001b[1;33m\u001b[0m\u001b[0m\n",
      "\u001b[1;32m<ipython-input-3-627eecccca3c>\u001b[0m in \u001b[0;36minsert\u001b[1;34m(self, i, place)\u001b[0m\n\u001b[0;32m     70\u001b[0m         \u001b[0mself\u001b[0m\u001b[1;33m.\u001b[0m\u001b[0mtour\u001b[0m\u001b[1;33m.\u001b[0m\u001b[0minsert\u001b[0m\u001b[1;33m(\u001b[0m\u001b[0mi\u001b[0m\u001b[1;33m,\u001b[0m \u001b[0mplace\u001b[0m\u001b[1;33m)\u001b[0m\u001b[1;33m\u001b[0m\u001b[1;33m\u001b[0m\u001b[0m\n\u001b[0;32m     71\u001b[0m         \u001b[0mself\u001b[0m\u001b[1;33m.\u001b[0m\u001b[0mlength\u001b[0m \u001b[1;33m+=\u001b[0m \u001b[1;36m1\u001b[0m\u001b[1;33m\u001b[0m\u001b[1;33m\u001b[0m\u001b[0m\n\u001b[1;32m---> 72\u001b[1;33m         \u001b[0mself\u001b[0m\u001b[1;33m.\u001b[0m\u001b[0mupdate\u001b[0m\u001b[1;33m(\u001b[0m\u001b[0mi\u001b[0m\u001b[1;33m)\u001b[0m\u001b[1;33m\u001b[0m\u001b[1;33m\u001b[0m\u001b[0m\n\u001b[0m\u001b[0;32m     73\u001b[0m \u001b[1;33m\u001b[0m\u001b[0m\n\u001b[0;32m     74\u001b[0m     \u001b[1;32mdef\u001b[0m \u001b[0mupdate\u001b[0m\u001b[1;33m(\u001b[0m\u001b[0mself\u001b[0m\u001b[1;33m,\u001b[0m \u001b[0mi\u001b[0m\u001b[1;33m)\u001b[0m\u001b[1;33m:\u001b[0m\u001b[1;33m\u001b[0m\u001b[1;33m\u001b[0m\u001b[0m\n",
      "\u001b[1;32m<ipython-input-3-627eecccca3c>\u001b[0m in \u001b[0;36mupdate\u001b[1;34m(self, i)\u001b[0m\n\u001b[0;32m     85\u001b[0m \u001b[1;33m\u001b[0m\u001b[0m\n\u001b[0;32m     86\u001b[0m         \u001b[1;32mfor\u001b[0m \u001b[0mk\u001b[0m \u001b[1;32min\u001b[0m \u001b[0mrange\u001b[0m\u001b[1;33m(\u001b[0m\u001b[0mi\u001b[0m\u001b[1;33m,\u001b[0m \u001b[0mself\u001b[0m\u001b[1;33m.\u001b[0m\u001b[0mlength\u001b[0m\u001b[1;33m+\u001b[0m\u001b[1;36m1\u001b[0m\u001b[1;33m)\u001b[0m\u001b[1;33m:\u001b[0m\u001b[1;33m\u001b[0m\u001b[1;33m\u001b[0m\u001b[0m\n\u001b[1;32m---> 87\u001b[1;33m             \u001b[0mself\u001b[0m\u001b[1;33m.\u001b[0m\u001b[0mupdate_earliest\u001b[0m\u001b[1;33m(\u001b[0m\u001b[0mself\u001b[0m\u001b[1;33m.\u001b[0m\u001b[0mtour\u001b[0m\u001b[1;33m[\u001b[0m\u001b[0mk\u001b[0m\u001b[1;33m]\u001b[0m\u001b[1;33m,\u001b[0m \u001b[0mself\u001b[0m\u001b[1;33m.\u001b[0m\u001b[0mtour\u001b[0m\u001b[1;33m[\u001b[0m\u001b[0mk\u001b[0m\u001b[1;33m-\u001b[0m\u001b[1;36m1\u001b[0m\u001b[1;33m]\u001b[0m\u001b[1;33m)\u001b[0m\u001b[1;33m\u001b[0m\u001b[1;33m\u001b[0m\u001b[0m\n\u001b[0m\u001b[0;32m     88\u001b[0m \u001b[1;33m\u001b[0m\u001b[0m\n\u001b[0;32m     89\u001b[0m     \u001b[1;32mdef\u001b[0m \u001b[0mprintable\u001b[0m\u001b[1;33m(\u001b[0m\u001b[0mself\u001b[0m\u001b[1;33m)\u001b[0m\u001b[1;33m:\u001b[0m\u001b[1;33m\u001b[0m\u001b[1;33m\u001b[0m\u001b[0m\n",
      "\u001b[1;31mIndexError\u001b[0m: list index out of range"
     ]
    }
   ],
   "source": [
    "parallel_insertion(tours, requests)"
   ]
  },
  {
   "cell_type": "code",
   "execution_count": null,
   "metadata": {},
   "outputs": [],
   "source": [
    "for tour in tours:\n",
    "    # \"Node: \", \"Orig/Dest\", \"Request time: \", \"Earliest: \", \"Until: \", \"Latest: \"\n",
    "    tour.printable()\n",
    "    print(\"\\n\")"
   ]
  },
  {
   "cell_type": "code",
   "execution_count": 7,
   "metadata": {},
   "outputs": [
    {
     "data": {
      "text/plain": [
       "[(<__main__.Request at 0x1c4143f0f28>, 'orig')]"
      ]
     },
     "execution_count": 7,
     "metadata": {},
     "output_type": "execute_result"
    }
   ],
   "source": [
    "test"
   ]
  },
  {
   "cell_type": "code",
   "execution_count": null,
   "metadata": {},
   "outputs": [],
   "source": []
  }
 ],
 "metadata": {
  "kernelspec": {
   "display_name": "Python 3",
   "language": "python",
   "name": "python3"
  },
  "language_info": {
   "codemirror_mode": {
    "name": "ipython",
    "version": 3
   },
   "file_extension": ".py",
   "mimetype": "text/x-python",
   "name": "python",
   "nbconvert_exporter": "python",
   "pygments_lexer": "ipython3",
   "version": "3.7.6"
  }
 },
 "nbformat": 4,
 "nbformat_minor": 4
}
